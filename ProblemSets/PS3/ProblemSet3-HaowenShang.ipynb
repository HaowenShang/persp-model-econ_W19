{
 "cells": [
  {
   "cell_type": "markdown",
   "metadata": {},
   "source": [
    "### Problem Set 3\n",
    "#### MACS 30150, Dr. Evans\n",
    "#### Due Wednesday, Jan. 30 at 11:30am\n",
    "#### Haowen Shang"
   ]
  },
  {
   "cell_type": "code",
   "execution_count": 1,
   "metadata": {},
   "outputs": [],
   "source": [
    "import matplotlib.pyplot as plt\n",
    "import numpy as np\n",
    "from scipy.stats import norm\n",
    "from mpl_toolkits import mplot3d"
   ]
  },
  {
   "cell_type": "markdown",
   "metadata": {},
   "source": [
    "#### Exercise 5.1"
   ]
  },
  {
   "cell_type": "markdown",
   "metadata": {},
   "source": [
    "Please see PDF."
   ]
  },
  {
   "cell_type": "markdown",
   "metadata": {},
   "source": [
    "#### Exercise 5.2"
   ]
  },
  {
   "cell_type": "markdown",
   "metadata": {},
   "source": [
    "Please see PDF."
   ]
  },
  {
   "cell_type": "markdown",
   "metadata": {},
   "source": [
    "#### Exercise 5.3"
   ]
  },
  {
   "cell_type": "markdown",
   "metadata": {},
   "source": [
    "Please see PDF."
   ]
  },
  {
   "cell_type": "markdown",
   "metadata": {},
   "source": [
    "The evolvement of $\\left \\{ c_{t} \\right \\}_{t=1}^{3}$ and $\\left \\{ W_{t} \\right \\}_{t=1}^{4}$ over the three periods shows like following:"
   ]
  },
  {
   "cell_type": "code",
   "execution_count": 2,
   "metadata": {},
   "outputs": [
    {
     "data": {
      "text/plain": [
       "([<matplotlib.axis.XTick at 0x116dfc6d8>,\n",
       "  <matplotlib.axis.XTick at 0x116de4f98>,\n",
       "  <matplotlib.axis.XTick at 0x116de4cc0>],\n",
       " <a list of 3 Text xticklabel objects>)"
      ]
     },
     "execution_count": 2,
     "metadata": {},
     "output_type": "execute_result"
    },
    {
     "data": {
      "image/png": "[encoded data removed]",
      "text/plain": [
       "<Figure size 432x288 with 1 Axes>"
      ]
     },
     "metadata": {
      "needs_background": "light"
     },
     "output_type": "display_data"
    }
   ],
   "source": [
    "c = [1-171/271, 171/271- 9/19*171/271 , 9/19*171/271]\n",
    "W = [1, 171/271, 9/19*171/271, 0]\n",
    "plt.plot([1,2,3], c)\n",
    "plt.title(r\"$c_{t}$\")\n",
    "plt.xlabel('T')\n",
    "plt.xticks([1,2,3])"
   ]
  },
  {
   "cell_type": "code",
   "execution_count": 3,
   "metadata": {},
   "outputs": [
    {
     "data": {
      "text/plain": [
       "([<matplotlib.axis.XTick at 0x1239a8550>,\n",
       "  <matplotlib.axis.XTick at 0x1239e1278>,\n",
       "  <matplotlib.axis.XTick at 0x1239e15f8>,\n",
       "  <matplotlib.axis.XTick at 0x123a0a748>],\n",
       " <a list of 4 Text xticklabel objects>)"
      ]
     },
     "execution_count": 3,
     "metadata": {},
     "output_type": "execute_result"
    },
    {
     "data": {
      "image/png": "[encoded data removed]",
      "text/plain": [
       "<Figure size 432x288 with 1 Axes>"
      ]
     },
     "metadata": {
      "needs_background": "light"
     },
     "output_type": "display_data"
    }
   ],
   "source": [
    "plt.plot([1,2,3,4], W)\n",
    "plt.title(r\"$W_{t}$\")\n",
    "plt.xlabel('T')\n",
    "plt.xticks([1,2,3,4])"
   ]
  },
  {
   "cell_type": "markdown",
   "metadata": {},
   "source": [
    "#### Exercise 5.4"
   ]
  },
  {
   "cell_type": "markdown",
   "metadata": {},
   "source": [
    "Please see PDF."
   ]
  },
  {
   "cell_type": "markdown",
   "metadata": {},
   "source": [
    "#### Exercise 5.5"
   ]
  },
  {
   "cell_type": "markdown",
   "metadata": {},
   "source": [
    "Please see PDF."
   ]
  },
  {
   "cell_type": "markdown",
   "metadata": {},
   "source": [
    "#### Exercise 5.6"
   ]
  },
  {
   "cell_type": "markdown",
   "metadata": {},
   "source": [
    "Please see PDF."
   ]
  },
  {
   "cell_type": "markdown",
   "metadata": {},
   "source": [
    "#### Exercise 5.7"
   ]
  },
  {
   "cell_type": "markdown",
   "metadata": {},
   "source": [
    "Please see PDF."
   ]
  },
  {
   "cell_type": "markdown",
   "metadata": {},
   "source": [
    "#### Exercise 5.8"
   ]
  },
  {
   "cell_type": "markdown",
   "metadata": {},
   "source": [
    "Please see PDF."
   ]
  },
  {
   "cell_type": "markdown",
   "metadata": {},
   "source": [
    "#### Exercise 5.9"
   ]
  },
  {
   "cell_type": "code",
   "execution_count": 4,
   "metadata": {},
   "outputs": [
    {
     "name": "stdout",
     "output_type": "stream",
     "text": [
      "The possible cake sizes are: [0.01 0.02 0.03 0.04 0.05 0.06 0.07 0.08 0.09 0.1  0.11 0.12 0.13 0.14\n",
      " 0.15 0.16 0.17 0.18 0.19 0.2  0.21 0.22 0.23 0.24 0.25 0.26 0.27 0.28\n",
      " 0.29 0.3  0.31 0.32 0.33 0.34 0.35 0.36 0.37 0.38 0.39 0.4  0.41 0.42\n",
      " 0.43 0.44 0.45 0.46 0.47 0.48 0.49 0.5  0.51 0.52 0.53 0.54 0.55 0.56\n",
      " 0.57 0.58 0.59 0.6  0.61 0.62 0.63 0.64 0.65 0.66 0.67 0.68 0.69 0.7\n",
      " 0.71 0.72 0.73 0.74 0.75 0.76 0.77 0.78 0.79 0.8  0.81 0.82 0.83 0.84\n",
      " 0.85 0.86 0.87 0.88 0.89 0.9  0.91 0.92 0.93 0.94 0.95 0.96 0.97 0.98\n",
      " 0.99 1.  ]\n"
     ]
    }
   ],
   "source": [
    "# Set the vector of discretized cake size:\n",
    "W_lb = 1e-2\n",
    "W_ub = 1.0\n",
    "N = 100\n",
    "W_vec = np.linspace(W_lb, W_ub, N)\n",
    "print(\"The possible cake sizes are:\",W_vec)"
   ]
  },
  {
   "cell_type": "markdown",
   "metadata": {},
   "source": [
    "#### Exercise 5.10"
   ]
  },
  {
   "cell_type": "code",
   "execution_count": 5,
   "metadata": {},
   "outputs": [],
   "source": [
    "#set parameters\n",
    "beta = 0.9"
   ]
  },
  {
   "cell_type": "code",
   "execution_count": 6,
   "metadata": {},
   "outputs": [],
   "source": [
    "#choose a utility function u(c) = log(c)\n",
    "def utility(c):\n",
    "    util = np.log(c)\n",
    "    return util"
   ]
  },
  {
   "cell_type": "code",
   "execution_count": 7,
   "metadata": {},
   "outputs": [
    {
     "name": "stdout",
     "output_type": "stream",
     "text": [
      "The policy function is: [0. 0. 0. 0. 0. 0. 0. 0. 0. 0. 0. 0. 0. 0. 0. 0. 0. 0. 0. 0. 0. 0. 0. 0.\n",
      " 0. 0. 0. 0. 0. 0. 0. 0. 0. 0. 0. 0. 0. 0. 0. 0. 0. 0. 0. 0. 0. 0. 0. 0.\n",
      " 0. 0. 0. 0. 0. 0. 0. 0. 0. 0. 0. 0. 0. 0. 0. 0. 0. 0. 0. 0. 0. 0. 0. 0.\n",
      " 0. 0. 0. 0. 0. 0. 0. 0. 0. 0. 0. 0. 0. 0. 0. 0. 0. 0. 0. 0. 0. 0. 0. 0.\n",
      " 0. 0. 0. 0.]\n",
      "The value function is: [-4.60517019 -3.91202301 -3.5065579  -3.21887582 -2.99573227 -2.81341072\n",
      " -2.65926004 -2.52572864 -2.40794561 -2.30258509 -2.20727491 -2.12026354\n",
      " -2.04022083 -1.96611286 -1.89711998 -1.83258146 -1.77195684 -1.71479843\n",
      " -1.66073121 -1.60943791 -1.56064775 -1.51412773 -1.46967597 -1.42711636\n",
      " -1.38629436 -1.34707365 -1.30933332 -1.27296568 -1.23787436 -1.2039728\n",
      " -1.17118298 -1.13943428 -1.10866262 -1.07880966 -1.04982212 -1.02165125\n",
      " -0.99425227 -0.96758403 -0.94160854 -0.91629073 -0.89159812 -0.86750057\n",
      " -0.84397007 -0.82098055 -0.7985077  -0.77652879 -0.75502258 -0.73396918\n",
      " -0.71334989 -0.69314718 -0.67334455 -0.65392647 -0.63487827 -0.61618614\n",
      " -0.597837   -0.5798185  -0.56211892 -0.54472718 -0.52763274 -0.51082562\n",
      " -0.49429632 -0.4780358  -0.46203546 -0.4462871  -0.43078292 -0.41551544\n",
      " -0.40047757 -0.38566248 -0.37106368 -0.35667494 -0.34249031 -0.32850407\n",
      " -0.31471074 -0.30110509 -0.28768207 -0.27443685 -0.26136476 -0.24846136\n",
      " -0.23572233 -0.22314355 -0.21072103 -0.19845094 -0.18632958 -0.17435339\n",
      " -0.16251893 -0.15082289 -0.13926207 -0.12783337 -0.11653382 -0.10536052\n",
      " -0.09431068 -0.08338161 -0.07257069 -0.0618754  -0.05129329 -0.04082199\n",
      " -0.03045921 -0.02020271 -0.01005034  0.        ]\n"
     ]
    }
   ],
   "source": [
    "#initial guess for value function\n",
    "V_init = np.zeros_like(W_vec)\n",
    "#Set the vector of discretized cake size for tomorrow\n",
    "W_prime = np.zeros_like(W_vec)\n",
    "u_vec = utility(W_vec-W_prime)\n",
    "#Contraction mapping \n",
    "V_T = (u_vec + beta * V_init)\n",
    "print(\"The policy function is:\", W_prime)\n",
    "print(\"The value function is:\", V_T)"
   ]
  },
  {
   "cell_type": "markdown",
   "metadata": {},
   "source": [
    "#### Exercise 5.11"
   ]
  },
  {
   "cell_type": "code",
   "execution_count": 8,
   "metadata": {},
   "outputs": [],
   "source": [
    "def distance(V_new, V_init):\n",
    "    dist = ((V_new-V_init)**2).sum()\n",
    "    return dist"
   ]
  },
  {
   "cell_type": "code",
   "execution_count": 9,
   "metadata": {},
   "outputs": [
    {
     "name": "stdout",
     "output_type": "stream",
     "text": [
      "The distance metric is: 178.92611065972804\n"
     ]
    }
   ],
   "source": [
    "delta1 = distance(V_T, V_init)\n",
    "print(\"The distance metric is:\", delta1)"
   ]
  },
  {
   "cell_type": "markdown",
   "metadata": {},
   "source": [
    "#### Exercise 5.12"
   ]
  },
  {
   "cell_type": "code",
   "execution_count": 10,
   "metadata": {},
   "outputs": [
    {
     "name": "stdout",
     "output_type": "stream",
     "text": [
      "The policy function is: [0.01 0.01 0.01 0.02 0.02 0.03 0.03 0.04 0.04 0.05 0.05 0.06 0.06 0.07\n",
      " 0.07 0.08 0.08 0.09 0.09 0.09 0.1  0.1  0.11 0.11 0.12 0.12 0.13 0.13\n",
      " 0.14 0.14 0.15 0.15 0.16 0.16 0.17 0.17 0.18 0.18 0.18 0.19 0.19 0.2\n",
      " 0.2  0.21 0.21 0.22 0.22 0.23 0.23 0.24 0.24 0.25 0.25 0.26 0.26 0.27\n",
      " 0.27 0.27 0.28 0.28 0.29 0.29 0.3  0.3  0.31 0.31 0.32 0.32 0.33 0.33\n",
      " 0.34 0.34 0.35 0.35 0.36 0.36 0.36 0.37 0.37 0.38 0.38 0.39 0.39 0.4\n",
      " 0.4  0.41 0.41 0.42 0.42 0.43 0.43 0.44 0.44 0.45 0.45 0.45 0.46 0.46\n",
      " 0.47 0.47]\n",
      "The value function is: [-8.10161181e+04 -8.74982335e+00 -8.05667617e+00 -7.43284371e+00\n",
      " -7.02737860e+00 -6.66246000e+00 -6.37477793e+00 -6.11586407e+00\n",
      " -5.89272052e+00 -5.69189132e+00 -5.50956976e+00 -5.34548036e+00\n",
      " -5.19132968e+00 -5.05259407e+00 -4.91906268e+00 -4.79888442e+00\n",
      " -4.68110139e+00 -4.57509666e+00 -4.46973614e+00 -4.37442596e+00\n",
      " -4.27960150e+00 -4.19259012e+00 -4.10681096e+00 -4.02676825e+00\n",
      " -3.94845801e+00 -3.87435004e+00 -3.80231160e+00 -3.73331873e+00\n",
      " -3.66662156e+00 -3.60208303e+00 -3.53998945e+00 -3.47936483e+00\n",
      " -3.42128016e+00 -3.36412175e+00 -3.30955959e+00 -3.25549236e+00\n",
      " -3.20404979e+00 -3.15275650e+00 -3.10396633e+00 -3.05530583e+00\n",
      " -3.00878582e+00 -2.96262185e+00 -2.91817009e+00 -2.87425894e+00\n",
      " -2.83169933e+00 -2.78983132e+00 -2.74900932e+00 -2.70900273e+00\n",
      " -2.66978202e+00 -2.63147837e+00 -2.59373804e+00 -2.55699824e+00\n",
      " -2.52063060e+00 -2.48533196e+00 -2.45024064e+00 -2.41627434e+00\n",
      " -2.38237279e+00 -2.34958297e+00 -2.31685209e+00 -2.28510339e+00\n",
      " -2.25352120e+00 -2.22274954e+00 -2.19223815e+00 -2.16238519e+00\n",
      " -2.13287434e+00 -2.10388681e+00 -2.07531298e+00 -2.04714210e+00\n",
      " -2.01944761e+00 -1.99204864e+00 -1.96518097e+00 -1.93851272e+00\n",
      " -1.91242394e+00 -1.88644845e+00 -1.86109466e+00 -1.83577685e+00\n",
      " -1.81108424e+00 -1.78642517e+00 -1.76232761e+00 -1.73832619e+00\n",
      " -1.71479569e+00 -1.69141776e+00 -1.66842824e+00 -1.64564221e+00\n",
      " -1.62316935e+00 -1.60094600e+00 -1.57896710e+00 -1.55727930e+00\n",
      " -1.53577310e+00 -1.51459565e+00 -1.49354224e+00 -1.47285167e+00\n",
      " -1.45223238e+00 -1.43200681e+00 -1.41180411e+00 -1.39200148e+00\n",
      " -1.37222046e+00 -1.35280238e+00 -1.33344679e+00 -1.31439860e+00]\n"
     ]
    }
   ],
   "source": [
    "#Create utility matrix\n",
    "c_mat =(np.tile(W_vec.reshape((N, 1)), (1, N))-\n",
    "             np.tile(W_vec.reshape((1,N)), (N,1)))\n",
    "c_pos = c_mat >0\n",
    "c_mat [~c_pos] = 1e-7\n",
    "u_mat = utility(c_mat)\n",
    "\n",
    "#Contraction mapping\n",
    "V_prime = np.tile(V_T.reshape((1,N)), (N,1))\n",
    "V_prime[~c_pos] = -9e+4\n",
    "V_Tminus1 = (u_mat + beta * V_prime).max(axis = 1)\n",
    "W_index = np.argmax(u_mat + beta*V_prime, axis=1)\n",
    "W_T = W_vec[W_index]\n",
    "print(\"The policy function is:\", W_T)\n",
    "print(\"The value function is:\", V_Tminus1)"
   ]
  },
  {
   "cell_type": "code",
   "execution_count": 11,
   "metadata": {},
   "outputs": [
    {
     "name": "stdout",
     "output_type": "stream",
     "text": [
      "The distance metric is: 6562865744.5285635\n"
     ]
    }
   ],
   "source": [
    "delta2 = distance(V_Tminus1, V_T)\n",
    "print(\"The distance metric is:\", delta2)"
   ]
  },
  {
   "cell_type": "code",
   "execution_count": 12,
   "metadata": {},
   "outputs": [
    {
     "name": "stdout",
     "output_type": "stream",
     "text": [
      "The difference between delta_{T-1} and delta_T is:  6562865565.602453\n"
     ]
    }
   ],
   "source": [
    "diff1 = delta2-delta1\n",
    "print(\"The difference between delta_{T-1} and delta_T is: \", diff1)"
   ]
  },
  {
   "cell_type": "markdown",
   "metadata": {},
   "source": [
    "delta_{T-1} is bigger than delta_T, which means distance gets lager from T to T-1."
   ]
  },
  {
   "cell_type": "markdown",
   "metadata": {},
   "source": [
    "#### Exercise 5.13"
   ]
  },
  {
   "cell_type": "code",
   "execution_count": 13,
   "metadata": {},
   "outputs": [
    {
     "name": "stdout",
     "output_type": "stream",
     "text": [
      "The policy function is: [0.01 0.01 0.02 0.02 0.03 0.04 0.04 0.05 0.06 0.06 0.07 0.08 0.08 0.09\n",
      " 0.09 0.1  0.11 0.11 0.12 0.13 0.13 0.14 0.15 0.15 0.16 0.17 0.17 0.18\n",
      " 0.18 0.19 0.19 0.2  0.21 0.21 0.22 0.23 0.23 0.24 0.25 0.25 0.26 0.27\n",
      " 0.27 0.28 0.28 0.29 0.3  0.3  0.31 0.32 0.32 0.33 0.34 0.34 0.35 0.35\n",
      " 0.36 0.36 0.37 0.38 0.38 0.39 0.4  0.4  0.41 0.42 0.42 0.43 0.44 0.44\n",
      " 0.45 0.45 0.46 0.47 0.47 0.48 0.49 0.49 0.5  0.51 0.51 0.52 0.52 0.53\n",
      " 0.54 0.54 0.55 0.55 0.56 0.57 0.57 0.58 0.59 0.59 0.6  0.61 0.61 0.62\n",
      " 0.63 0.63]\n",
      "The value function is: [-8.10161181e+04 -7.29191115e+04 -1.24800112e+01 -1.17868640e+01\n",
      " -1.11630316e+01 -1.06015823e+01 -1.01961172e+01 -9.83119864e+00\n",
      " -9.50277190e+00 -9.21508983e+00 -8.95617596e+00 -8.72315349e+00\n",
      " -8.50000993e+00 -8.29918074e+00 -8.11685918e+00 -7.93611290e+00\n",
      " -7.77202350e+00 -7.61787282e+00 -7.47019236e+00 -7.33145675e+00\n",
      " -7.19792536e+00 -7.07306331e+00 -6.95288505e+00 -6.83510202e+00\n",
      " -6.72694159e+00 -6.62093686e+00 -6.51557634e+00 -6.42017208e+00\n",
      " -6.32486190e+00 -6.23003744e+00 -6.14302606e+00 -6.05724690e+00\n",
      " -5.97190488e+00 -5.89186218e+00 -5.81355194e+00 -5.73635069e+00\n",
      " -5.66224272e+00 -5.59020428e+00 -5.51972507e+00 -5.45073219e+00\n",
      " -5.38403502e+00 -5.31920043e+00 -5.25466191e+00 -5.19256832e+00\n",
      " -5.13194370e+00 -5.07191624e+00 -5.01383157e+00 -4.95667316e+00\n",
      " -4.90078893e+00 -4.84622677e+00 -4.79215955e+00 -4.73988335e+00\n",
      " -4.68844078e+00 -4.63714748e+00 -4.58804154e+00 -4.53925138e+00\n",
      " -4.49059088e+00 -4.44407086e+00 -4.39777255e+00 -4.35160858e+00\n",
      " -4.30715682e+00 -4.26324567e+00 -4.21945122e+00 -4.17689161e+00\n",
      " -4.13502359e+00 -4.09347602e+00 -4.05265403e+00 -4.01264744e+00\n",
      " -3.97312741e+00 -3.93390670e+00 -3.89560304e+00 -3.85786272e+00\n",
      " -3.82018150e+00 -3.78344171e+00 -3.74707406e+00 -3.71106814e+00\n",
      " -3.67576949e+00 -3.64067817e+00 -3.60620489e+00 -3.57223859e+00\n",
      " -3.53833704e+00 -3.50527122e+00 -3.47248140e+00 -3.43975052e+00\n",
      " -3.40798174e+00 -3.37623305e+00 -3.34465086e+00 -3.31387920e+00\n",
      " -3.28330953e+00 -3.25279814e+00 -3.22294517e+00 -3.19343433e+00\n",
      " -3.16397654e+00 -3.13498901e+00 -3.10641518e+00 -3.07799121e+00\n",
      " -3.04982033e+00 -3.02212584e+00 -2.99466558e+00 -2.96726661e+00]\n"
     ]
    }
   ],
   "source": [
    "# Perform the contraction on V_T −1\n",
    "V_prime = np.tile(V_Tminus1.reshape((1,N)), (N,1))\n",
    "V_prime[~c_pos] = -9e+4\n",
    "V_Tminus2 = (u_mat + beta * V_prime).max(axis = 1)\n",
    "W_index = np.argmax(u_mat + beta*V_prime, axis=1)\n",
    "W_Tminus1 = W_vec[W_index] \n",
    "print(\"The policy function is:\", W_Tminus1)\n",
    "print(\"The value function is:\", V_Tminus2)"
   ]
  },
  {
   "cell_type": "code",
   "execution_count": 14,
   "metadata": {},
   "outputs": [
    {
     "name": "stdout",
     "output_type": "stream",
     "text": [
      "The distance metric is: 5315921432.356884\n"
     ]
    }
   ],
   "source": [
    "delta3 = distance(V_Tminus2, V_Tminus1)\n",
    "print(\"The distance metric is:\", delta3)"
   ]
  },
  {
   "cell_type": "code",
   "execution_count": 15,
   "metadata": {},
   "outputs": [
    {
     "name": "stdout",
     "output_type": "stream",
     "text": [
      "The difference between delta_{T-2} and delta_{T-1} is:  -1246944312.1716795\n"
     ]
    }
   ],
   "source": [
    "diff2 = delta3-delta2\n",
    "print(\"The difference between delta_{T-2} and delta_{T-1} is: \", diff2)"
   ]
  },
  {
   "cell_type": "code",
   "execution_count": 16,
   "metadata": {},
   "outputs": [
    {
     "name": "stdout",
     "output_type": "stream",
     "text": [
      "The difference between delta_{T-2} and delta_{T} is:  5315921253.430774\n"
     ]
    }
   ],
   "source": [
    "diff3 = abs(delta3-delta1)\n",
    "print(\"The difference between delta_{T-2} and delta_{T} is: \", diff3)"
   ]
  },
  {
   "cell_type": "markdown",
   "metadata": {},
   "source": [
    "delta_{T-2} is smaller than delta_{T-1} and delta_{T-2} is bigger than delta_T, which means distance gets smaller from T-1 to T-2."
   ]
  },
  {
   "cell_type": "markdown",
   "metadata": {},
   "source": [
    "#### Exercise 5.14"
   ]
  },
  {
   "cell_type": "code",
   "execution_count": 17,
   "metadata": {},
   "outputs": [
    {
     "name": "stdout",
     "output_type": "stream",
     "text": [
      "Iter =  1 ,distance =  6563611570.214573\n",
      "Iter =  2 ,distance =  5316525743.271798\n",
      "Iter =  3 ,distance =  4306386030.006323\n",
      "Iter =  4 ,distance =  3488172794.5714226\n",
      "Iter =  5 ,distance =  2825420037.630621\n",
      "Iter =  6 ,distance =  2288590282.5590844\n",
      "Iter =  7 ,distance =  1853758166.5375955\n",
      "Iter =  8 ,distance =  1501544142.7426846\n",
      "Iter =  9 ,distance =  1216250776.642259\n",
      "Iter =  10 ,distance =  985163145.1419044\n",
      "Iter =  11 ,distance =  797982160.0373642\n",
      "Iter =  12 ,distance =  646365559.4266962\n",
      "Iter =  13 ,distance =  523556110.9935629\n",
      "Iter =  14 ,distance =  424080456.20615387\n",
      "Iter =  15 ,distance =  343505174.74340343\n",
      "Iter =  16 ,distance =  278239195.8852569\n",
      "Iter =  17 ,distance =  225373752.31221965\n",
      "Iter =  18 ,distance =  182552742.55996224\n",
      "Iter =  19 ,distance =  147867724.27005062\n",
      "Iter =  20 ,distance =  119772859.10622115\n",
      "Iter =  21 ,distance =  97016018.0385953\n",
      "Iter =  22 ,distance =  78582976.63315375\n",
      "Iter =  23 ,distance =  63652212.98545916\n",
      "Iter =  24 ,distance =  51558294.32776982\n",
      "Iter =  25 ,distance =  41762220.1200653\n",
      "Iter =  26 ,distance =  33827399.92370578\n",
      "Iter =  27 ,distance =  27400195.48398699\n",
      "Iter =  28 ,distance =  22194159.813998673\n",
      "Iter =  29 ,distance =  17977270.853317253\n",
      "Iter =  30 ,distance =  14561590.732883928\n",
      "Iter =  31 ,distance =  11794889.778709196\n",
      "Iter =  32 ,distance =  9553861.95285677\n",
      "Iter =  33 ,distance =  7738629.36668709\n",
      "Iter =  34 ,distance =  6268290.928397754\n",
      "Iter =  35 ,distance =  5077316.754233369\n",
      "Iter =  36 ,distance =  4112627.637429302\n",
      "Iter =  37 ,distance =  3331229.420618224\n",
      "Iter =  38 ,distance =  2698296.8357309587\n",
      "Iter =  39 ,distance =  2185621.415306089\n",
      "Iter =  40 ,distance =  1770354.30067605\n",
      "Iter =  41 ,distance =  1433987.914944458\n",
      "Iter =  42 ,distance =  1161531.1223381404\n",
      "Iter =  43 ,distance =  940841.1015289264\n",
      "Iter =  44 ,distance =  762082.1677779292\n",
      "Iter =  45 ,distance =  617287.4156153646\n",
      "Iter =  46 ,distance =  500003.6522140527\n",
      "Iter =  47 ,distance =  405003.7907942261\n",
      "Iter =  48 ,distance =  328053.89114983805\n",
      "Iter =  49 ,distance =  265724.4605370663\n",
      "Iter =  50 ,distance =  215237.6113282474\n",
      "Iter =  51 ,distance =  174343.25337503717\n",
      "Iter =  52 ,distance =  141218.81426884216\n",
      "Iter =  53 ,distance =  114388.00935499243\n",
      "Iter =  54 ,distance =  92655.04917523317\n",
      "Iter =  55 ,distance =  75051.34382720977\n",
      "Iter =  56 ,distance =  60792.33427200552\n",
      "Iter =  57 ,distance =  49242.52936902187\n",
      "Iter =  58 ,distance =  39887.180071882685\n",
      "Iter =  59 ,distance =  32309.340384184605\n",
      "Iter =  60 ,distance =  26171.282961856\n",
      "Iter =  61 ,distance =  21199.44996270106\n",
      "Iter =  62 ,distance =  17172.25765403326\n",
      "Iter =  63 ,distance =  13910.225445246653\n",
      "Iter =  64 ,distance =  11267.97247896265\n",
      "Iter =  65 ,distance =  9127.741149256373\n",
      "Iter =  66 ,distance =  7394.146525049693\n",
      "Iter =  67 ,distance =  5989.928390551506\n",
      "Iter =  68 ,distance =  4852.503735570291\n",
      "Iter =  69 ,distance =  3931.1818695174757\n",
      "Iter =  70 ,distance =  3184.904097831992\n",
      "Iter =  71 ,distance =  2580.410948027704\n",
      "Iter =  72 ,distance =  2090.7641764207274\n",
      "Iter =  73 ,distance =  1694.1410904514291\n",
      "Iter =  74 ,distance =  1372.8672014517142\n",
      "Iter =  75 ,distance =  1112.627119310548\n",
      "Iter =  76 ,distance =  901.8230243640993\n",
      "Iter =  77 ,distance =  731.0600844858621\n",
      "Iter =  78 ,distance =  592.7310334744678\n",
      "Iter =  79 ,distance =  480.6745763286175\n",
      "Iter =  80 ,distance =  389.89717447236984\n",
      "Iter =  81 ,distance =  316.3533259689117\n",
      "Iter =  82 ,distance =  256.76931150496404\n",
      "Iter =  83 ,distance =  208.4941502491576\n",
      "Iter =  84 ,distance =  169.37141215479707\n",
      "Iter =  85 ,distance =  137.665420034222\n",
      "Iter =  86 ,distance =  111.96869169941148\n",
      "Iter =  87 ,distance =  91.12990180160644\n",
      "Iter =  88 ,distance =  74.23008056632061\n",
      "Iter =  89 ,distance =  60.52291228596271\n",
      "Iter =  90 ,distance =  49.38428817377354\n",
      "Iter =  91 ,distance =  40.24315102906038\n",
      "Iter =  92 ,distance =  32.126682064026454\n",
      "Iter =  93 ,distance =  25.541799163125216\n",
      "Iter =  94 ,distance =  19.767115537050348\n",
      "Iter =  95 ,distance =  15.155025726039097\n",
      "Iter =  96 ,distance =  11.174263919022518\n",
      "Iter =  97 ,distance =  8.02000552946439\n",
      "Iter =  98 ,distance =  5.341082016591021\n",
      "Iter =  99 ,distance =  3.2347254868217576\n",
      "Iter =  100 ,distance =  1.4634529907462\n",
      "Iter =  101 ,distance =  0.0\n",
      "Yay! It converged.\n",
      "psi(W) is [0.01 0.01 0.02 0.03 0.04 0.05 0.06 0.07 0.08 0.09 0.1  0.11 0.12 0.13\n",
      " 0.14 0.15 0.16 0.17 0.18 0.19 0.2  0.21 0.22 0.23 0.24 0.25 0.26 0.27\n",
      " 0.28 0.29 0.3  0.31 0.32 0.33 0.34 0.35 0.36 0.37 0.38 0.39 0.4  0.41\n",
      " 0.42 0.43 0.44 0.45 0.46 0.47 0.48 0.49 0.5  0.51 0.52 0.53 0.54 0.55\n",
      " 0.56 0.57 0.58 0.59 0.6  0.61 0.62 0.63 0.64 0.65 0.66 0.67 0.68 0.69\n",
      " 0.7  0.71 0.72 0.73 0.74 0.75 0.76 0.77 0.78 0.79 0.8  0.81 0.82 0.83\n",
      " 0.84 0.85 0.86 0.87 0.88 0.89 0.89 0.9  0.91 0.92 0.93 0.94 0.95 0.96\n",
      " 0.97 0.98]\n",
      "V(W) is [-8.10161181e+04 -7.29191115e+04 -6.56318055e+04 -5.90732301e+04\n",
      " -5.31705123e+04 -4.78580662e+04 -4.30768648e+04 -3.87737835e+04\n",
      " -3.49010103e+04 -3.14155144e+04 -2.82785681e+04 -2.54553165e+04\n",
      " -2.29143900e+04 -2.06275562e+04 -1.85694057e+04 -1.67170703e+04\n",
      " -1.50499685e+04 -1.35495768e+04 -1.21992243e+04 -1.09839070e+04\n",
      " -9.89012150e+03 -8.90571452e+03 -8.01974824e+03 -7.22237858e+03\n",
      " -6.50474589e+03 -5.85887647e+03 -5.27759400e+03 -4.75443977e+03\n",
      " -4.28360096e+03 -3.85984604e+03 -3.47846660e+03 -3.13522511e+03\n",
      " -2.82630777e+03 -2.54828216e+03 -2.29805912e+03 -2.07285838e+03\n",
      " -1.87017771e+03 -1.68776511e+03 -1.52359377e+03 -1.37583956e+03\n",
      " -1.24286077e+03 -1.12317987e+03 -1.01546705e+03 -9.18525516e+02\n",
      " -8.31278135e+02 -7.52755491e+02 -6.82085112e+02 -6.18481771e+02\n",
      " -5.61238764e+02 -5.09720058e+02 -4.63353223e+02 -4.21623071e+02\n",
      " -3.84065934e+02 -3.50264510e+02 -3.19843230e+02 -2.92464077e+02\n",
      " -2.67822839e+02 -2.45645726e+02 -2.25686323e+02 -2.07722861e+02\n",
      " -1.91555745e+02 -1.77005341e+02 -1.63909977e+02 -1.52124149e+02\n",
      " -1.41516905e+02 -1.31970384e+02 -1.23378516e+02 -1.15645835e+02\n",
      " -1.08686421e+02 -1.02422949e+02 -9.67858247e+01 -9.17124124e+01\n",
      " -8.71463414e+01 -8.30368774e+01 -7.93383599e+01 -7.60096941e+01\n",
      " -7.30138948e+01 -7.03176755e+01 -6.78910782e+01 -6.57071405e+01\n",
      " -6.37415967e+01 -6.19726072e+01 -6.03805167e+01 -5.89476352e+01\n",
      " -5.76580418e+01 -5.64974078e+01 -5.54528372e+01 -5.45127237e+01\n",
      " -5.36666215e+01 -5.29051296e+01 -5.22119824e+01 -5.15266396e+01\n",
      " -5.09028071e+01 -5.02859987e+01 -4.97245494e+01 -4.91694218e+01\n",
      " -4.86641175e+01 -4.81645026e+01 -4.77097288e+01 -4.72600754e+01]\n",
      "After 101 times of iterations, V(W) converged.\n"
     ]
    }
   ],
   "source": [
    "V_init = np.zeros_like(W_vec)\n",
    "\n",
    "maxiters = 500\n",
    "toler = 1e-9\n",
    "dist = 10.0\n",
    "VF_iter = 0\n",
    "W_prime = W_vec\n",
    "while dist >= toler and VF_iter < maxiters:\n",
    "    VF_iter += 1\n",
    "    W = W_prime\n",
    "    #Contraction mapping \n",
    "    V_prime = np.tile(V_init.reshape((1,N)), (N,1))\n",
    "    V_prime[~c_pos] = -9e+4\n",
    "    V_new = (u_mat + beta * V_prime).max(axis = 1)\n",
    "    W_index = np.argmax(u_mat + beta*V_prime, axis=1)\n",
    "    W_prime = W_vec[W_index]\n",
    "    dist =((V_new - V_init)**2).sum()\n",
    "    V_init = V_new\n",
    "    print(\"Iter = \",VF_iter,\",distance = \", dist)\n",
    "    \n",
    "print(\"Yay! It converged.\")\n",
    "print(\"psi(W) is\", W_prime)\n",
    "print(\"V(W) is\", V_init)\n",
    "print(\"After {} times of iterations, V(W) converged.\".format(VF_iter))"
   ]
  },
  {
   "cell_type": "code",
   "execution_count": 18,
   "metadata": {},
   "outputs": [
    {
     "data": {
      "text/plain": [
       "Text(0, 0.5, 'Value function')"
      ]
     },
     "execution_count": 18,
     "metadata": {},
     "output_type": "execute_result"
    },
    {
     "data": {
      "image/png": "[encoded data removed]",
      "text/plain": [
       "<Figure size 432x288 with 1 Axes>"
      ]
     },
     "metadata": {
      "needs_background": "light"
     },
     "output_type": "display_data"
    }
   ],
   "source": [
    "plt.plot(W_prime, V_init)\n",
    "plt.xlabel(\"W_prime\")\n",
    "plt.ylabel(\"Value function\")"
   ]
  },
  {
   "cell_type": "markdown",
   "metadata": {},
   "source": [
    "#### Exercise 5.15"
   ]
  },
  {
   "cell_type": "code",
   "execution_count": 19,
   "metadata": {},
   "outputs": [
    {
     "data": {
      "text/plain": [
       "Text(0, 0.5, 'W_prime')"
      ]
     },
     "execution_count": 19,
     "metadata": {},
     "output_type": "execute_result"
    },
    {
     "data": {
      "image/png": "[encoded data removed]",
      "text/plain": [
       "<Figure size 432x288 with 1 Axes>"
      ]
     },
     "metadata": {
      "needs_background": "light"
     },
     "output_type": "display_data"
    }
   ],
   "source": [
    "plt.plot(W, W_prime)\n",
    "plt.title(\"policy function\")\n",
    "plt.xlabel('W')\n",
    "plt.ylabel(\"W_prime\")"
   ]
  },
  {
   "cell_type": "markdown",
   "metadata": {},
   "source": [
    "#### Exercise 5.16"
   ]
  },
  {
   "cell_type": "code",
   "execution_count": 20,
   "metadata": {},
   "outputs": [
    {
     "name": "stdout",
     "output_type": "stream",
     "text": [
      "The epsilon is: [0.5 1.  1.5 2.  2.5 3.  3.5]\n",
      "The probability distribution is: [0.0088637  0.10798193 0.48394145 0.79788456 0.48394145 0.10798193\n",
      " 0.0088637 ]\n"
     ]
    }
   ],
   "source": [
    "sigma = 0.5\n",
    "mu = 4*sigma\n",
    "epsilon_lb = mu - 3*sigma\n",
    "epsilon_ub = mu + 3*sigma\n",
    "M = 7\n",
    "epsilon = np.linspace(epsilon_lb, epsilon_ub, M)\n",
    "\n",
    "def gamma(x):\n",
    "    gamma = norm(loc=mu, scale=sigma).pdf(x)\n",
    "    return gamma\n",
    "\n",
    "gamma = gamma(epsilon)\n",
    "print(\"The epsilon is:\", epsilon)\n",
    "print(\"The probability distribution is:\", gamma)"
   ]
  },
  {
   "cell_type": "markdown",
   "metadata": {},
   "source": [
    "#### Exercise 5.17"
   ]
  },
  {
   "cell_type": "code",
   "execution_count": 21,
   "metadata": {},
   "outputs": [
    {
     "name": "stdout",
     "output_type": "stream",
     "text": [
      "The possible cake sizes are: [0.01 0.02 0.03 0.04 0.05 0.06 0.07 0.08 0.09 0.1  0.11 0.12 0.13 0.14\n",
      " 0.15 0.16 0.17 0.18 0.19 0.2  0.21 0.22 0.23 0.24 0.25 0.26 0.27 0.28\n",
      " 0.29 0.3  0.31 0.32 0.33 0.34 0.35 0.36 0.37 0.38 0.39 0.4  0.41 0.42\n",
      " 0.43 0.44 0.45 0.46 0.47 0.48 0.49 0.5  0.51 0.52 0.53 0.54 0.55 0.56\n",
      " 0.57 0.58 0.59 0.6  0.61 0.62 0.63 0.64 0.65 0.66 0.67 0.68 0.69 0.7\n",
      " 0.71 0.72 0.73 0.74 0.75 0.76 0.77 0.78 0.79 0.8  0.81 0.82 0.83 0.84\n",
      " 0.85 0.86 0.87 0.88 0.89 0.9  0.91 0.92 0.93 0.94 0.95 0.96 0.97 0.98\n",
      " 0.99 1.  ]\n"
     ]
    }
   ],
   "source": [
    "#Set a vetor of discretized cake sizes\n",
    "W_lb = 1e-2\n",
    "W_ub = 1.0\n",
    "N = 100\n",
    "W_vec = np.linspace(W_lb, W_ub, N)\n",
    "print(\"The possible cake sizes are:\",W_vec)"
   ]
  },
  {
   "cell_type": "code",
   "execution_count": 22,
   "metadata": {
    "scrolled": false
   },
   "outputs": [
    {
     "name": "stdout",
     "output_type": "stream",
     "text": [
      "The policy function is: [[0.01 0.01 0.01 0.01 0.01 0.01 0.01]\n",
      " [0.01 0.01 0.01 0.01 0.01 0.01 0.01]\n",
      " [0.01 0.01 0.01 0.01 0.01 0.01 0.01]\n",
      " [0.01 0.01 0.01 0.01 0.01 0.01 0.01]\n",
      " [0.01 0.01 0.01 0.01 0.01 0.01 0.01]\n",
      " [0.01 0.01 0.01 0.01 0.01 0.01 0.01]\n",
      " [0.01 0.01 0.01 0.01 0.01 0.01 0.01]\n",
      " [0.01 0.01 0.01 0.01 0.01 0.01 0.01]\n",
      " [0.01 0.01 0.01 0.01 0.01 0.01 0.01]\n",
      " [0.01 0.01 0.01 0.01 0.01 0.01 0.01]\n",
      " [0.01 0.01 0.01 0.01 0.01 0.01 0.01]\n",
      " [0.01 0.01 0.01 0.01 0.01 0.01 0.01]\n",
      " [0.01 0.01 0.01 0.01 0.01 0.01 0.01]\n",
      " [0.01 0.01 0.01 0.01 0.01 0.01 0.01]\n",
      " [0.01 0.01 0.01 0.01 0.01 0.01 0.01]\n",
      " [0.01 0.01 0.01 0.01 0.01 0.01 0.01]\n",
      " [0.01 0.01 0.01 0.01 0.01 0.01 0.01]\n",
      " [0.01 0.01 0.01 0.01 0.01 0.01 0.01]\n",
      " [0.01 0.01 0.01 0.01 0.01 0.01 0.01]\n",
      " [0.01 0.01 0.01 0.01 0.01 0.01 0.01]\n",
      " [0.01 0.01 0.01 0.01 0.01 0.01 0.01]\n",
      " [0.01 0.01 0.01 0.01 0.01 0.01 0.01]\n",
      " [0.01 0.01 0.01 0.01 0.01 0.01 0.01]\n",
      " [0.01 0.01 0.01 0.01 0.01 0.01 0.01]\n",
      " [0.01 0.01 0.01 0.01 0.01 0.01 0.01]\n",
      " [0.01 0.01 0.01 0.01 0.01 0.01 0.01]\n",
      " [0.01 0.01 0.01 0.01 0.01 0.01 0.01]\n",
      " [0.01 0.01 0.01 0.01 0.01 0.01 0.01]\n",
      " [0.01 0.01 0.01 0.01 0.01 0.01 0.01]\n",
      " [0.01 0.01 0.01 0.01 0.01 0.01 0.01]\n",
      " [0.01 0.01 0.01 0.01 0.01 0.01 0.01]\n",
      " [0.01 0.01 0.01 0.01 0.01 0.01 0.01]\n",
      " [0.01 0.01 0.01 0.01 0.01 0.01 0.01]\n",
      " [0.01 0.01 0.01 0.01 0.01 0.01 0.01]\n",
      " [0.01 0.01 0.01 0.01 0.01 0.01 0.01]\n",
      " [0.01 0.01 0.01 0.01 0.01 0.01 0.01]\n",
      " [0.01 0.01 0.01 0.01 0.01 0.01 0.01]\n",
      " [0.01 0.01 0.01 0.01 0.01 0.01 0.01]\n",
      " [0.01 0.01 0.01 0.01 0.01 0.01 0.01]\n",
      " [0.01 0.01 0.01 0.01 0.01 0.01 0.01]\n",
      " [0.01 0.01 0.01 0.01 0.01 0.01 0.01]\n",
      " [0.01 0.01 0.01 0.01 0.01 0.01 0.01]\n",
      " [0.01 0.01 0.01 0.01 0.01 0.01 0.01]\n",
      " [0.01 0.01 0.01 0.01 0.01 0.01 0.01]\n",
      " [0.01 0.01 0.01 0.01 0.01 0.01 0.01]\n",
      " [0.01 0.01 0.01 0.01 0.01 0.01 0.01]\n",
      " [0.01 0.01 0.01 0.01 0.01 0.01 0.01]\n",
      " [0.01 0.01 0.01 0.01 0.01 0.01 0.01]\n",
      " [0.01 0.01 0.01 0.01 0.01 0.01 0.01]\n",
      " [0.01 0.01 0.01 0.01 0.01 0.01 0.01]\n",
      " [0.01 0.01 0.01 0.01 0.01 0.01 0.01]\n",
      " [0.01 0.01 0.01 0.01 0.01 0.01 0.01]\n",
      " [0.01 0.01 0.01 0.01 0.01 0.01 0.01]\n",
      " [0.01 0.01 0.01 0.01 0.01 0.01 0.01]\n",
      " [0.01 0.01 0.01 0.01 0.01 0.01 0.01]\n",
      " [0.01 0.01 0.01 0.01 0.01 0.01 0.01]\n",
      " [0.01 0.01 0.01 0.01 0.01 0.01 0.01]\n",
      " [0.01 0.01 0.01 0.01 0.01 0.01 0.01]\n",
      " [0.01 0.01 0.01 0.01 0.01 0.01 0.01]\n",
      " [0.01 0.01 0.01 0.01 0.01 0.01 0.01]\n",
      " [0.01 0.01 0.01 0.01 0.01 0.01 0.01]\n",
      " [0.01 0.01 0.01 0.01 0.01 0.01 0.01]\n",
      " [0.01 0.01 0.01 0.01 0.01 0.01 0.01]\n",
      " [0.01 0.01 0.01 0.01 0.01 0.01 0.01]\n",
      " [0.01 0.01 0.01 0.01 0.01 0.01 0.01]\n",
      " [0.01 0.01 0.01 0.01 0.01 0.01 0.01]\n",
      " [0.01 0.01 0.01 0.01 0.01 0.01 0.01]\n",
      " [0.01 0.01 0.01 0.01 0.01 0.01 0.01]\n",
      " [0.01 0.01 0.01 0.01 0.01 0.01 0.01]\n",
      " [0.01 0.01 0.01 0.01 0.01 0.01 0.01]\n",
      " [0.01 0.01 0.01 0.01 0.01 0.01 0.01]\n",
      " [0.01 0.01 0.01 0.01 0.01 0.01 0.01]\n",
      " [0.01 0.01 0.01 0.01 0.01 0.01 0.01]\n",
      " [0.01 0.01 0.01 0.01 0.01 0.01 0.01]\n",
      " [0.01 0.01 0.01 0.01 0.01 0.01 0.01]\n",
      " [0.01 0.01 0.01 0.01 0.01 0.01 0.01]\n",
      " [0.01 0.01 0.01 0.01 0.01 0.01 0.01]\n",
      " [0.01 0.01 0.01 0.01 0.01 0.01 0.01]\n",
      " [0.01 0.01 0.01 0.01 0.01 0.01 0.01]\n",
      " [0.01 0.01 0.01 0.01 0.01 0.01 0.01]\n",
      " [0.01 0.01 0.01 0.01 0.01 0.01 0.01]\n",
      " [0.01 0.01 0.01 0.01 0.01 0.01 0.01]\n",
      " [0.01 0.01 0.01 0.01 0.01 0.01 0.01]\n",
      " [0.01 0.01 0.01 0.01 0.01 0.01 0.01]\n",
      " [0.01 0.01 0.01 0.01 0.01 0.01 0.01]\n",
      " [0.01 0.01 0.01 0.01 0.01 0.01 0.01]\n",
      " [0.01 0.01 0.01 0.01 0.01 0.01 0.01]\n",
      " [0.01 0.01 0.01 0.01 0.01 0.01 0.01]\n",
      " [0.01 0.01 0.01 0.01 0.01 0.01 0.01]\n",
      " [0.01 0.01 0.01 0.01 0.01 0.01 0.01]\n",
      " [0.01 0.01 0.01 0.01 0.01 0.01 0.01]\n",
      " [0.01 0.01 0.01 0.01 0.01 0.01 0.01]\n",
      " [0.01 0.01 0.01 0.01 0.01 0.01 0.01]\n",
      " [0.01 0.01 0.01 0.01 0.01 0.01 0.01]\n",
      " [0.01 0.01 0.01 0.01 0.01 0.01 0.01]\n",
      " [0.01 0.01 0.01 0.01 0.01 0.01 0.01]\n",
      " [0.01 0.01 0.01 0.01 0.01 0.01 0.01]\n",
      " [0.01 0.01 0.01 0.01 0.01 0.01 0.01]\n",
      " [0.01 0.01 0.01 0.01 0.01 0.01 0.01]\n",
      " [0.01 0.01 0.01 0.01 0.01 0.01 0.01]]\n",
      "The value function is: [[-8.10080590e+04 -8.10161181e+04 -8.10241771e+04 -8.10322362e+04\n",
      "  -8.10402952e+04 -8.10483543e+04 -8.10564133e+04]\n",
      " [-2.30258509e+00 -4.60517019e+00 -6.90775528e+00 -9.21034037e+00\n",
      "  -1.15129255e+01 -1.38155106e+01 -1.61180957e+01]\n",
      " [-1.95601150e+00 -3.91202301e+00 -5.86803451e+00 -7.82404601e+00\n",
      "  -9.78005751e+00 -1.17360690e+01 -1.36920805e+01]\n",
      " [-1.75327895e+00 -3.50655790e+00 -5.25983685e+00 -7.01311579e+00\n",
      "  -8.76639474e+00 -1.05196737e+01 -1.22729526e+01]\n",
      " [-1.60943791e+00 -3.21887582e+00 -4.82831374e+00 -6.43775165e+00\n",
      "  -8.04718956e+00 -9.65662747e+00 -1.12660654e+01]\n",
      " [-1.49786614e+00 -2.99573227e+00 -4.49359841e+00 -5.99146455e+00\n",
      "  -7.48933068e+00 -8.98719682e+00 -1.04850630e+01]\n",
      " [-1.40670536e+00 -2.81341072e+00 -4.22011608e+00 -5.62682143e+00\n",
      "  -7.03352679e+00 -8.44023215e+00 -9.84693751e+00]\n",
      " [-1.32963002e+00 -2.65926004e+00 -3.98889006e+00 -5.31852007e+00\n",
      "  -6.64815009e+00 -7.97778011e+00 -9.30741013e+00]\n",
      " [-1.26286432e+00 -2.52572864e+00 -3.78859297e+00 -5.05145729e+00\n",
      "  -6.31432161e+00 -7.57718593e+00 -8.84005026e+00]\n",
      " [-1.20397280e+00 -2.40794561e+00 -3.61191841e+00 -4.81589122e+00\n",
      "  -6.01986402e+00 -7.22383683e+00 -8.42780963e+00]\n",
      " [-1.15129255e+00 -2.30258509e+00 -3.45387764e+00 -4.60517019e+00\n",
      "  -5.75646273e+00 -6.90775528e+00 -8.05904783e+00]\n",
      " [-1.10363746e+00 -2.20727491e+00 -3.31091237e+00 -4.41454983e+00\n",
      "  -5.51818728e+00 -6.62182474e+00 -7.72546220e+00]\n",
      " [-1.06013177e+00 -2.12026354e+00 -3.18039530e+00 -4.24052707e+00\n",
      "  -5.30065884e+00 -6.36079061e+00 -7.42092238e+00]\n",
      " [-1.02011041e+00 -2.04022083e+00 -3.06033124e+00 -4.08044166e+00\n",
      "  -5.10055207e+00 -6.12066249e+00 -7.14077290e+00]\n",
      " [-9.83056428e-01 -1.96611286e+00 -2.94916928e+00 -3.93222571e+00\n",
      "  -4.91528214e+00 -5.89833857e+00 -6.88139500e+00]\n",
      " [-9.48559992e-01 -1.89711998e+00 -2.84567998e+00 -3.79423997e+00\n",
      "  -4.74279996e+00 -5.69135995e+00 -6.63991995e+00]\n",
      " [-9.16290732e-01 -1.83258146e+00 -2.74887220e+00 -3.66516293e+00\n",
      "  -4.58145366e+00 -5.49774439e+00 -6.41403512e+00]\n",
      " [-8.85978421e-01 -1.77195684e+00 -2.65793526e+00 -3.54391368e+00\n",
      "  -4.42989210e+00 -5.31587053e+00 -6.20184895e+00]\n",
      " [-8.57399214e-01 -1.71479843e+00 -2.57219764e+00 -3.42959686e+00\n",
      "  -4.28699607e+00 -5.14439528e+00 -6.00179450e+00]\n",
      " [-8.30365603e-01 -1.66073121e+00 -2.49109681e+00 -3.32146241e+00\n",
      "  -4.15182802e+00 -4.98219362e+00 -5.81255922e+00]\n",
      " [-8.04718956e-01 -1.60943791e+00 -2.41415687e+00 -3.21887582e+00\n",
      "  -4.02359478e+00 -4.82831374e+00 -5.63303269e+00]\n",
      " [-7.80323874e-01 -1.56064775e+00 -2.34097162e+00 -3.12129550e+00\n",
      "  -3.90161937e+00 -4.68194324e+00 -5.46226712e+00]\n",
      " [-7.57063866e-01 -1.51412773e+00 -2.27119160e+00 -3.02825547e+00\n",
      "  -3.78531933e+00 -4.54238320e+00 -5.29944706e+00]\n",
      " [-7.34837985e-01 -1.46967597e+00 -2.20451396e+00 -2.93935194e+00\n",
      "  -3.67418993e+00 -4.40902791e+00 -5.14386590e+00]\n",
      " [-7.13558178e-01 -1.42711636e+00 -2.14067453e+00 -2.85423271e+00\n",
      "  -3.56779089e+00 -4.28134907e+00 -4.99490724e+00]\n",
      " [-6.93147181e-01 -1.38629436e+00 -2.07944154e+00 -2.77258872e+00\n",
      "  -3.46573590e+00 -4.15888308e+00 -4.85203026e+00]\n",
      " [-6.73536824e-01 -1.34707365e+00 -2.02061047e+00 -2.69414730e+00\n",
      "  -3.36768412e+00 -4.04122094e+00 -4.71475777e+00]\n",
      " [-6.54666660e-01 -1.30933332e+00 -1.96399998e+00 -2.61866664e+00\n",
      "  -3.27333330e+00 -3.92799996e+00 -4.58266662e+00]\n",
      " [-6.36482838e-01 -1.27296568e+00 -1.90944851e+00 -2.54593135e+00\n",
      "  -3.18241419e+00 -3.81889703e+00 -4.45537987e+00]\n",
      " [-6.18937178e-01 -1.23787436e+00 -1.85681153e+00 -2.47574871e+00\n",
      "  -3.09468589e+00 -3.71362307e+00 -4.33256025e+00]\n",
      " [-6.01986402e-01 -1.20397280e+00 -1.80595921e+00 -2.40794561e+00\n",
      "  -3.00993201e+00 -3.61191841e+00 -4.21390482e+00]\n",
      " [-5.85591491e-01 -1.17118298e+00 -1.75677447e+00 -2.34236596e+00\n",
      "  -2.92795745e+00 -3.51354894e+00 -4.09914044e+00]\n",
      " [-5.69717142e-01 -1.13943428e+00 -1.70915142e+00 -2.27886857e+00\n",
      "  -2.84858571e+00 -3.41830285e+00 -3.98801999e+00]\n",
      " [-5.54331312e-01 -1.10866262e+00 -1.66299394e+00 -2.21732525e+00\n",
      "  -2.77165656e+00 -3.32598787e+00 -3.88031919e+00]\n",
      " [-5.39404831e-01 -1.07880966e+00 -1.61821449e+00 -2.15761932e+00\n",
      "  -2.69702415e+00 -3.23642898e+00 -3.77583381e+00]\n",
      " [-5.24911062e-01 -1.04982212e+00 -1.57473319e+00 -2.09964425e+00\n",
      "  -2.62455531e+00 -3.14946637e+00 -3.67437744e+00]\n",
      " [-5.10825624e-01 -1.02165125e+00 -1.53247687e+00 -2.04330250e+00\n",
      "  -2.55412812e+00 -3.06495374e+00 -3.57577937e+00]\n",
      " [-4.97126137e-01 -9.94252273e-01 -1.49137841e+00 -1.98850455e+00\n",
      "  -2.48563068e+00 -2.98275682e+00 -3.47988296e+00]\n",
      " [-4.83792013e-01 -9.67584026e-01 -1.45137604e+00 -1.93516805e+00\n",
      "  -2.41896007e+00 -2.90275208e+00 -3.38654409e+00]\n",
      " [-4.70804270e-01 -9.41608540e-01 -1.41241281e+00 -1.88321708e+00\n",
      "  -2.35402135e+00 -2.82482562e+00 -3.29562989e+00]\n",
      " [-4.58145366e-01 -9.16290732e-01 -1.37443610e+00 -1.83258146e+00\n",
      "  -2.29072683e+00 -2.74887220e+00 -3.20701756e+00]\n",
      " [-4.45799060e-01 -8.91598119e-01 -1.33739718e+00 -1.78319624e+00\n",
      "  -2.22899530e+00 -2.67479436e+00 -3.12059342e+00]\n",
      " [-4.33750284e-01 -8.67500568e-01 -1.30125085e+00 -1.73500114e+00\n",
      "  -2.16875142e+00 -2.60250170e+00 -3.03625199e+00]\n",
      " [-4.21985035e-01 -8.43970070e-01 -1.26595511e+00 -1.68794014e+00\n",
      "  -2.10992518e+00 -2.53191021e+00 -2.95389525e+00]\n",
      " [-4.10490276e-01 -8.20980552e-01 -1.23147083e+00 -1.64196110e+00\n",
      "  -2.05245138e+00 -2.46294166e+00 -2.87343193e+00]\n",
      " [-3.99253848e-01 -7.98507696e-01 -1.19776154e+00 -1.59701539e+00\n",
      "  -1.99626924e+00 -2.39552309e+00 -2.79477694e+00]\n",
      " [-3.88264395e-01 -7.76528789e-01 -1.16479318e+00 -1.55305758e+00\n",
      "  -1.94132197e+00 -2.32958637e+00 -2.71785076e+00]\n",
      " [-3.77511292e-01 -7.55022584e-01 -1.13253388e+00 -1.51004517e+00\n",
      "  -1.88755646e+00 -2.26506775e+00 -2.64257904e+00]\n",
      " [-3.66984588e-01 -7.33969175e-01 -1.10095376e+00 -1.46793835e+00\n",
      "  -1.83492294e+00 -2.20190753e+00 -2.56889211e+00]\n",
      " [-3.56674944e-01 -7.13349888e-01 -1.07002483e+00 -1.42669978e+00\n",
      "  -1.78337472e+00 -2.14004966e+00 -2.49672461e+00]\n",
      " [-3.46573590e-01 -6.93147181e-01 -1.03972077e+00 -1.38629436e+00\n",
      "  -1.73286795e+00 -2.07944154e+00 -2.42601513e+00]\n",
      " [-3.36672277e-01 -6.73344553e-01 -1.01001683e+00 -1.34668911e+00\n",
      "  -1.68336138e+00 -2.02003366e+00 -2.35670594e+00]\n",
      " [-3.26963234e-01 -6.53926467e-01 -9.80889701e-01 -1.30785293e+00\n",
      "  -1.63481617e+00 -1.96177940e+00 -2.28874264e+00]\n",
      " [-3.17439136e-01 -6.34878272e-01 -9.52317409e-01 -1.26975654e+00\n",
      "  -1.58719568e+00 -1.90463482e+00 -2.22207395e+00]\n",
      " [-3.08093070e-01 -6.16186139e-01 -9.24279209e-01 -1.23237228e+00\n",
      "  -1.54046535e+00 -1.84855842e+00 -2.15665149e+00]\n",
      " [-2.98918500e-01 -5.97837001e-01 -8.96755501e-01 -1.19567400e+00\n",
      "  -1.49459250e+00 -1.79351100e+00 -2.09242950e+00]\n",
      " [-2.89909248e-01 -5.79818495e-01 -8.69727743e-01 -1.15963699e+00\n",
      "  -1.44954624e+00 -1.73945549e+00 -2.02936473e+00]\n",
      " [-2.81059459e-01 -5.62118918e-01 -8.43178377e-01 -1.12423784e+00\n",
      "  -1.40529730e+00 -1.68635675e+00 -1.96741621e+00]\n",
      " [-2.72363588e-01 -5.44727175e-01 -8.17090763e-01 -1.08945435e+00\n",
      "  -1.36181794e+00 -1.63418153e+00 -1.90654511e+00]\n",
      " [-2.63816371e-01 -5.27632742e-01 -7.91449113e-01 -1.05526548e+00\n",
      "  -1.31908186e+00 -1.58289823e+00 -1.84671460e+00]\n",
      " [-2.55412812e-01 -5.10825624e-01 -7.66238436e-01 -1.02165125e+00\n",
      "  -1.27706406e+00 -1.53247687e+00 -1.78788968e+00]\n",
      " [-2.47148161e-01 -4.94296322e-01 -7.41444483e-01 -9.88592644e-01\n",
      "  -1.23574080e+00 -1.48288897e+00 -1.73003713e+00]\n",
      " [-2.39017900e-01 -4.78035801e-01 -7.17053701e-01 -9.56071602e-01\n",
      "  -1.19508950e+00 -1.43410740e+00 -1.67312530e+00]\n",
      " [-2.31017730e-01 -4.62035460e-01 -6.93053189e-01 -9.24070919e-01\n",
      "  -1.15508865e+00 -1.38610638e+00 -1.61712411e+00]\n",
      " [-2.23143551e-01 -4.46287103e-01 -6.69430654e-01 -8.92574205e-01\n",
      "  -1.11571776e+00 -1.33886131e+00 -1.56200486e+00]\n",
      " [-2.15391458e-01 -4.30782916e-01 -6.46174374e-01 -8.61565832e-01\n",
      "  -1.07695729e+00 -1.29234875e+00 -1.50774021e+00]\n",
      " [-2.07757722e-01 -4.15515444e-01 -6.23273166e-01 -8.31030888e-01\n",
      "  -1.03878861e+00 -1.24654633e+00 -1.45430405e+00]\n",
      " [-2.00238783e-01 -4.00477567e-01 -6.00716350e-01 -8.00955133e-01\n",
      "  -1.00119392e+00 -1.20143270e+00 -1.40167148e+00]\n",
      " [-1.92831240e-01 -3.85662481e-01 -5.78493721e-01 -7.71324962e-01\n",
      "  -9.64156202e-01 -1.15698744e+00 -1.34981868e+00]\n",
      " [-1.85531841e-01 -3.71063681e-01 -5.56595522e-01 -7.42127363e-01\n",
      "  -9.27659203e-01 -1.11319104e+00 -1.29872288e+00]\n",
      " [-1.78337472e-01 -3.56674944e-01 -5.35012416e-01 -7.13349888e-01\n",
      "  -8.91687360e-01 -1.07002483e+00 -1.24836230e+00]\n",
      " [-1.71245154e-01 -3.42490309e-01 -5.13735463e-01 -6.84980618e-01\n",
      "  -8.56225772e-01 -1.02747093e+00 -1.19871608e+00]\n",
      " [-1.64252033e-01 -3.28504067e-01 -4.92756100e-01 -6.57008134e-01\n",
      "  -8.21260167e-01 -9.85512201e-01 -1.14976423e+00]\n",
      " [-1.57355372e-01 -3.14710745e-01 -4.72066117e-01 -6.29421490e-01\n",
      "  -7.86776862e-01 -9.44132235e-01 -1.10148761e+00]\n",
      " [-1.50552546e-01 -3.01105093e-01 -4.51657639e-01 -6.02210186e-01\n",
      "  -7.52762732e-01 -9.03315278e-01 -1.05386782e+00]\n",
      " [-1.43841036e-01 -2.87682072e-01 -4.31523109e-01 -5.75364145e-01\n",
      "  -7.19205181e-01 -8.63046217e-01 -1.00688725e+00]\n",
      " [-1.37218423e-01 -2.74436846e-01 -4.11655269e-01 -5.48873691e-01\n",
      "  -6.86092114e-01 -8.23310537e-01 -9.60528960e-01]\n",
      " [-1.30682382e-01 -2.61364764e-01 -3.92047146e-01 -5.22729528e-01\n",
      "  -6.53411910e-01 -7.84094292e-01 -9.14776674e-01]\n",
      " [-1.24230680e-01 -2.48461359e-01 -3.72692039e-01 -4.96922719e-01\n",
      "  -6.21153398e-01 -7.45384078e-01 -8.69614758e-01]\n",
      " [-1.17861167e-01 -2.35722334e-01 -3.53583500e-01 -4.71444667e-01\n",
      "  -5.89305834e-01 -7.07167001e-01 -8.25028167e-01]\n",
      " [-1.11571776e-01 -2.23143551e-01 -3.34715327e-01 -4.46287103e-01\n",
      "  -5.57858878e-01 -6.69430654e-01 -7.81002430e-01]\n",
      " [-1.05360516e-01 -2.10721031e-01 -3.16081547e-01 -4.21442063e-01\n",
      "  -5.26802578e-01 -6.32163094e-01 -7.37523610e-01]\n",
      " [-9.92254694e-02 -1.98450939e-01 -2.97676408e-01 -3.96901877e-01\n",
      "  -4.96127347e-01 -5.95352816e-01 -6.94578286e-01]\n",
      " [-9.31647891e-02 -1.86329578e-01 -2.79494367e-01 -3.72659156e-01\n",
      "  -4.65823945e-01 -5.58988735e-01 -6.52153524e-01]\n",
      " [-8.71766936e-02 -1.74353387e-01 -2.61530081e-01 -3.48706774e-01\n",
      "  -4.35883468e-01 -5.23060161e-01 -6.10236855e-01]\n",
      " [-8.12594647e-02 -1.62518929e-01 -2.43778394e-01 -3.25037859e-01\n",
      "  -4.06297324e-01 -4.87556788e-01 -5.68816253e-01]\n",
      " [-7.54114449e-02 -1.50822890e-01 -2.26234335e-01 -3.01645779e-01\n",
      "  -3.77057224e-01 -4.52468669e-01 -5.27880114e-01]\n",
      " [-6.96310337e-02 -1.39262067e-01 -2.08893101e-01 -2.78524135e-01\n",
      "  -3.48155168e-01 -4.17786202e-01 -4.87417236e-01]\n",
      " [-6.39166858e-02 -1.27833372e-01 -1.91750057e-01 -2.55666743e-01\n",
      "  -3.19583429e-01 -3.83500115e-01 -4.47416800e-01]\n",
      " [-5.82669081e-02 -1.16533816e-01 -1.74800724e-01 -2.33067633e-01\n",
      "  -2.91334541e-01 -3.49601449e-01 -4.07868357e-01]\n",
      " [-5.26802578e-02 -1.05360516e-01 -1.58040773e-01 -2.10721031e-01\n",
      "  -2.63401289e-01 -3.16081547e-01 -3.68761805e-01]\n",
      " [-4.71553397e-02 -9.43106795e-02 -1.41466019e-01 -1.88621359e-01\n",
      "  -2.35776699e-01 -2.82932038e-01 -3.30087378e-01]\n",
      " [-4.16908045e-02 -8.33816089e-02 -1.25072413e-01 -1.66763218e-01\n",
      "  -2.08454022e-01 -2.50144827e-01 -2.91835631e-01]\n",
      " [-3.62853464e-02 -7.25706928e-02 -1.08856039e-01 -1.45141386e-01\n",
      "  -1.81426732e-01 -2.17712079e-01 -2.53997425e-01]\n",
      " [-3.09377019e-02 -6.18754037e-02 -9.28131056e-02 -1.23750807e-01\n",
      "  -1.54688509e-01 -1.85626211e-01 -2.16563913e-01]\n",
      " [-2.56466472e-02 -5.12932944e-02 -7.69399416e-02 -1.02586589e-01\n",
      "  -1.28233236e-01 -1.53879883e-01 -1.79526530e-01]\n",
      " [-2.04109973e-02 -4.08219945e-02 -6.12329918e-02 -8.16439890e-02\n",
      "  -1.02054986e-01 -1.22465984e-01 -1.42876981e-01]\n",
      " [-1.52296037e-02 -3.04592075e-02 -4.56888112e-02 -6.09184150e-02\n",
      "  -7.61480187e-02 -9.13776225e-02 -1.06607226e-01]\n",
      " [-1.01013537e-02 -2.02027073e-02 -3.03040610e-02 -4.04054146e-02\n",
      "  -5.05067683e-02 -6.06081220e-02 -7.07094756e-02]\n",
      " [-5.02516793e-03 -1.00503359e-02 -1.50755038e-02 -2.01006717e-02\n",
      "  -2.51258396e-02 -3.01510076e-02 -3.51761755e-02]]\n"
     ]
    }
   ],
   "source": [
    "# Create utility matrix \n",
    "c_mat = (np.tile(W_vec.reshape((N,1)), (1,N)) \n",
    "         - np.tile(W_vec.reshape((1,N)), (N,1)))\n",
    "c_pos = c_mat>0\n",
    "c_mat[~c_pos] = 1e-7 \n",
    "u_mat = utility(c_mat)\n",
    "# Create 3-dimensional array\n",
    "Three_D_array = np.array([u_mat*e for e in epsilon])\n",
    "\n",
    "V_init = np.zeros((N,M))\n",
    "EV = (V_init @ gamma).reshape((N,1)) \n",
    "EV_mat = np.tile(EV.reshape((1,N)), (N,1))\n",
    "EV_mat[~c_pos] = -9e+4\n",
    "EV_TDarray = np.array([EV_mat for i in range(M)])\n",
    "\n",
    "V_new_TDarray = Three_D_array + beta * EV_TDarray\n",
    "V_new = np.zeros((N,M))\n",
    "W_prime = np.zeros((N,M))\n",
    "for i in range(N):\n",
    "    arr = V_new_TDarray[:, i, :]\n",
    "    V_new[i] = arr.max(axis=1)\n",
    "    W_index = np.argmax(arr, axis=1)\n",
    "    W_prime[i] = W_vec[W_index]\n",
    "\n",
    "print(\"The policy function is:\", W_prime)\n",
    "print(\"The value function is:\", V_new)"
   ]
  },
  {
   "cell_type": "markdown",
   "metadata": {},
   "source": [
    "#### Exercise 5.18"
   ]
  },
  {
   "cell_type": "code",
   "execution_count": 23,
   "metadata": {},
   "outputs": [],
   "source": [
    "def distance(V_new, V_init):\n",
    "    dist = ((V_new-V_init)**2).sum()\n",
    "    return dist"
   ]
  },
  {
   "cell_type": "code",
   "execution_count": 24,
   "metadata": {},
   "outputs": [
    {
     "name": "stdout",
     "output_type": "stream",
     "text": [
      "The distance metric is: 45963571196.10551\n"
     ]
    }
   ],
   "source": [
    "delta1 = distance(V_new, V_init)\n",
    "print(\"The distance metric is:\", delta1)"
   ]
  },
  {
   "cell_type": "markdown",
   "metadata": {},
   "source": [
    "#### Exercise 5.19"
   ]
  },
  {
   "cell_type": "code",
   "execution_count": 25,
   "metadata": {},
   "outputs": [
    {
     "name": "stdout",
     "output_type": "stream",
     "text": [
      "The policy function is: [[0.01 0.01 0.01 0.01 0.01 0.01 0.01]\n",
      " [0.02 0.02 0.02 0.02 0.02 0.02 0.02]\n",
      " [0.02 0.02 0.02 0.02 0.02 0.02 0.02]\n",
      " [0.03 0.03 0.03 0.03 0.03 0.03 0.03]\n",
      " [0.04 0.04 0.04 0.04 0.03 0.03 0.03]\n",
      " [0.05 0.05 0.04 0.04 0.04 0.04 0.04]\n",
      " [0.06 0.06 0.05 0.05 0.05 0.04 0.04]\n",
      " [0.07 0.06 0.06 0.05 0.05 0.05 0.05]\n",
      " [0.08 0.07 0.07 0.06 0.06 0.05 0.05]\n",
      " [0.09 0.08 0.07 0.07 0.06 0.06 0.06]\n",
      " [0.1  0.09 0.08 0.07 0.07 0.06 0.06]\n",
      " [0.11 0.1  0.09 0.08 0.07 0.07 0.07]\n",
      " [0.11 0.1  0.09 0.09 0.08 0.08 0.07]\n",
      " [0.12 0.11 0.1  0.09 0.09 0.08 0.08]\n",
      " [0.13 0.12 0.11 0.1  0.09 0.09 0.08]\n",
      " [0.14 0.13 0.12 0.11 0.1  0.09 0.09]\n",
      " [0.15 0.14 0.12 0.11 0.1  0.1  0.09]\n",
      " [0.16 0.14 0.13 0.12 0.11 0.1  0.1 ]\n",
      " [0.17 0.15 0.14 0.13 0.12 0.11 0.1 ]\n",
      " [0.18 0.16 0.14 0.13 0.12 0.11 0.11]\n",
      " [0.19 0.17 0.15 0.14 0.13 0.12 0.11]\n",
      " [0.19 0.17 0.16 0.14 0.13 0.12 0.12]\n",
      " [0.2  0.18 0.17 0.15 0.14 0.13 0.12]\n",
      " [0.21 0.19 0.17 0.16 0.15 0.14 0.13]\n",
      " [0.22 0.2  0.18 0.16 0.15 0.14 0.13]\n",
      " [0.23 0.21 0.19 0.17 0.16 0.15 0.14]\n",
      " [0.24 0.21 0.19 0.18 0.16 0.15 0.14]\n",
      " [0.25 0.22 0.2  0.18 0.17 0.16 0.15]\n",
      " [0.26 0.23 0.21 0.19 0.18 0.16 0.15]\n",
      " [0.26 0.24 0.21 0.2  0.18 0.17 0.16]\n",
      " [0.27 0.24 0.22 0.2  0.19 0.17 0.16]\n",
      " [0.28 0.25 0.23 0.21 0.19 0.18 0.17]\n",
      " [0.29 0.26 0.24 0.22 0.2  0.18 0.17]\n",
      " [0.3  0.27 0.24 0.22 0.2  0.19 0.18]\n",
      " [0.31 0.28 0.25 0.23 0.21 0.2  0.18]\n",
      " [0.32 0.28 0.26 0.23 0.22 0.2  0.19]\n",
      " [0.33 0.29 0.26 0.24 0.22 0.21 0.19]\n",
      " [0.33 0.3  0.27 0.25 0.23 0.21 0.2 ]\n",
      " [0.34 0.31 0.28 0.25 0.23 0.22 0.2 ]\n",
      " [0.35 0.32 0.29 0.26 0.24 0.22 0.21]\n",
      " [0.36 0.32 0.29 0.27 0.25 0.23 0.21]\n",
      " [0.37 0.33 0.3  0.27 0.25 0.23 0.22]\n",
      " [0.38 0.34 0.31 0.28 0.26 0.24 0.22]\n",
      " [0.39 0.35 0.31 0.29 0.26 0.24 0.23]\n",
      " [0.4  0.35 0.32 0.29 0.27 0.25 0.23]\n",
      " [0.4  0.36 0.33 0.3  0.28 0.26 0.24]\n",
      " [0.41 0.37 0.33 0.31 0.28 0.26 0.24]\n",
      " [0.42 0.38 0.34 0.31 0.29 0.27 0.25]\n",
      " [0.43 0.39 0.35 0.32 0.29 0.27 0.25]\n",
      " [0.44 0.39 0.36 0.32 0.3  0.28 0.26]\n",
      " [0.45 0.4  0.36 0.33 0.31 0.28 0.26]\n",
      " [0.46 0.41 0.37 0.34 0.31 0.29 0.27]\n",
      " [0.47 0.42 0.38 0.34 0.32 0.29 0.27]\n",
      " [0.48 0.42 0.38 0.35 0.32 0.3  0.28]\n",
      " [0.48 0.43 0.39 0.36 0.33 0.3  0.28]\n",
      " [0.49 0.44 0.4  0.36 0.33 0.31 0.29]\n",
      " [0.5  0.45 0.41 0.37 0.34 0.32 0.29]\n",
      " [0.51 0.46 0.41 0.38 0.35 0.32 0.3 ]\n",
      " [0.52 0.46 0.42 0.38 0.35 0.33 0.3 ]\n",
      " [0.53 0.47 0.43 0.39 0.36 0.33 0.31]\n",
      " [0.54 0.48 0.43 0.4  0.36 0.34 0.31]\n",
      " [0.55 0.49 0.44 0.4  0.37 0.34 0.32]\n",
      " [0.55 0.5  0.45 0.41 0.38 0.35 0.32]\n",
      " [0.56 0.5  0.45 0.41 0.38 0.35 0.33]\n",
      " [0.57 0.51 0.46 0.42 0.39 0.36 0.33]\n",
      " [0.58 0.52 0.47 0.43 0.39 0.36 0.34]\n",
      " [0.59 0.53 0.48 0.43 0.4  0.37 0.34]\n",
      " [0.6  0.53 0.48 0.44 0.41 0.38 0.35]\n",
      " [0.61 0.54 0.49 0.45 0.41 0.38 0.35]\n",
      " [0.62 0.55 0.5  0.45 0.42 0.39 0.36]\n",
      " [0.62 0.56 0.5  0.46 0.42 0.39 0.36]\n",
      " [0.63 0.57 0.51 0.47 0.43 0.4  0.37]\n",
      " [0.64 0.57 0.52 0.47 0.43 0.4  0.38]\n",
      " [0.65 0.58 0.53 0.48 0.44 0.41 0.38]\n",
      " [0.66 0.59 0.53 0.49 0.45 0.41 0.39]\n",
      " [0.67 0.6  0.54 0.49 0.45 0.42 0.39]\n",
      " [0.68 0.6  0.55 0.5  0.46 0.42 0.4 ]\n",
      " [0.69 0.61 0.55 0.5  0.46 0.43 0.4 ]\n",
      " [0.69 0.62 0.56 0.51 0.47 0.44 0.41]\n",
      " [0.7  0.63 0.57 0.52 0.48 0.44 0.41]\n",
      " [0.71 0.64 0.57 0.52 0.48 0.45 0.42]\n",
      " [0.72 0.64 0.58 0.53 0.49 0.45 0.42]\n",
      " [0.73 0.65 0.59 0.54 0.49 0.46 0.43]\n",
      " [0.74 0.66 0.6  0.54 0.5  0.46 0.43]\n",
      " [0.75 0.67 0.6  0.55 0.51 0.47 0.44]\n",
      " [0.76 0.68 0.61 0.56 0.51 0.47 0.44]\n",
      " [0.77 0.68 0.62 0.56 0.52 0.48 0.45]\n",
      " [0.77 0.69 0.62 0.57 0.52 0.48 0.45]\n",
      " [0.78 0.7  0.63 0.58 0.53 0.49 0.46]\n",
      " [0.79 0.71 0.64 0.58 0.54 0.5  0.46]\n",
      " [0.8  0.71 0.65 0.59 0.54 0.5  0.47]\n",
      " [0.81 0.72 0.65 0.59 0.55 0.51 0.47]\n",
      " [0.82 0.73 0.66 0.6  0.55 0.51 0.48]\n",
      " [0.83 0.74 0.67 0.61 0.56 0.52 0.48]\n",
      " [0.84 0.75 0.67 0.61 0.56 0.52 0.49]\n",
      " [0.84 0.75 0.68 0.62 0.57 0.53 0.49]\n",
      " [0.85 0.76 0.69 0.63 0.58 0.53 0.5 ]\n",
      " [0.86 0.77 0.69 0.63 0.58 0.54 0.5 ]\n",
      " [0.87 0.78 0.7  0.64 0.59 0.54 0.51]\n",
      " [0.88 0.78 0.71 0.65 0.59 0.55 0.51]]\n",
      "The value function is: [[-8.10080590e+04 -8.10161181e+04 -8.10241771e+04 -8.10322362e+04\n",
      "  -8.10402952e+04 -8.10483543e+04 -8.10564133e+04]\n",
      " [-8.10080590e+04 -8.10161181e+04 -8.10241771e+04 -8.10322362e+04\n",
      "  -8.10402952e+04 -8.10483543e+04 -8.10564133e+04]\n",
      " [-1.88767109e+01 -2.11792960e+01 -2.34818811e+01 -2.57844662e+01\n",
      "  -2.80870513e+01 -3.03896364e+01 -3.26922215e+01]\n",
      " [-1.63820564e+01 -1.86846415e+01 -2.09872266e+01 -2.32898117e+01\n",
      "  -2.55923968e+01 -2.78949819e+01 -3.01975670e+01]\n",
      " [-1.49227771e+01 -1.72253622e+01 -1.95279472e+01 -2.18305323e+01\n",
      "  -2.38595288e+01 -2.58155403e+01 -2.77715518e+01]\n",
      " [-1.38874019e+01 -1.61899870e+01 -1.84882265e+01 -2.04442380e+01\n",
      "  -2.24002495e+01 -2.43562610e+01 -2.63122725e+01]\n",
      " [-1.30843025e+01 -1.53868876e+01 -1.74528513e+01 -1.94088628e+01\n",
      "  -2.13648743e+01 -2.31398657e+01 -2.48931446e+01]\n",
      " [-1.24281225e+01 -1.46937404e+01 -1.66497519e+01 -1.85979326e+01\n",
      "  -2.03512115e+01 -2.21044905e+01 -2.38577694e+01]\n",
      " [-1.18733303e+01 -1.40375605e+01 -1.59935720e+01 -1.77948332e+01\n",
      "  -1.95481122e+01 -2.12414443e+01 -2.28508822e+01]\n",
      " [-1.13927474e+01 -1.34827682e+01 -1.53853743e+01 -1.71386533e+01\n",
      "  -1.88289070e+01 -2.04383449e+01 -2.20477828e+01]\n",
      " [-1.09688432e+01 -1.30021853e+01 -1.48305820e+01 -1.65632891e+01\n",
      "  -1.81727270e+01 -1.97689142e+01 -2.12667804e+01]\n",
      " [-1.05896480e+01 -1.25782811e+01 -1.43499991e+01 -1.60084968e+01\n",
      "  -1.76148681e+01 -1.91127343e+01 -2.06106004e+01]\n",
      " [-1.02430744e+01 -1.21728160e+01 -1.39184760e+01 -1.55279139e+01\n",
      "  -1.70600759e+01 -1.85579420e+01 -1.99724750e+01]\n",
      " [-9.90005063e+00 -1.17936208e+01 -1.34945719e+01 -1.50816268e+01\n",
      "  -1.65794930e+01 -1.80109773e+01 -1.94176827e+01]\n",
      " [-9.58689445e+00 -1.14505970e+01 -1.31153766e+01 -1.46577227e+01\n",
      "  -1.61236891e+01 -1.75303944e+01 -1.88781553e+01]\n",
      " [-9.29881868e+00 -1.11374408e+01 -1.27723529e+01 -1.42785275e+01\n",
      "  -1.56997849e+01 -1.70679424e+01 -1.83975724e+01]\n",
      " [-9.03210219e+00 -1.08493651e+01 -1.24376375e+01 -1.39138843e+01\n",
      "  -1.53144082e+01 -1.66440382e+01 -1.79302125e+01]\n",
      " [-8.78379507e+00 -1.05616830e+01 -1.21244814e+01 -1.35708606e+01\n",
      "  -1.49352130e+01 -1.62434440e+01 -1.75063084e+01]\n",
      " [-8.55151928e+00 -1.02949665e+01 -1.18364056e+01 -1.32577044e+01\n",
      "  -1.45921892e+01 -1.58642488e+01 -1.70940677e+01]\n",
      " [-8.33332970e+00 -1.00466594e+01 -1.15629233e+01 -1.29494030e+01\n",
      "  -1.42583607e+01 -1.55108997e+01 -1.67148725e+01]\n",
      " [-8.12761510e+00 -9.81438360e+00 -1.12962068e+01 -1.26613273e+01\n",
      "  -1.39452046e+01 -1.51678760e+01 -1.63461107e+01]\n",
      " [-7.92488255e+00 -9.59124005e+00 -1.10478996e+01 -1.23942645e+01\n",
      "  -1.36507470e+01 -1.48517944e+01 -1.60030870e+01]\n",
      " [-7.73029323e+00 -9.37305048e+00 -1.08156238e+01 -1.21275480e+01\n",
      "  -1.33626712e+01 -1.45386382e+01 -1.56695013e+01]\n",
      " [-7.54568735e+00 -9.16733588e+00 -1.05843978e+01 -1.18792409e+01\n",
      "  -1.30959547e+01 -1.42505625e+01 -1.53563451e+01]\n",
      " [-7.37009029e+00 -8.97274656e+00 -1.03662083e+01 -1.16436748e+01\n",
      "  -1.28325534e+01 -1.39646319e+01 -1.50518053e+01]\n",
      " [-7.20266356e+00 -8.78814067e+00 -1.01604937e+01 -1.14113990e+01\n",
      "  -1.25842463e+01 -1.36979154e+01 -1.47637296e+01]\n",
      " [-7.04268053e+00 -8.60581912e+00 -9.96019657e+00 -1.11932094e+01\n",
      "  -1.23459709e+01 -1.34368813e+01 -1.44835801e+01]\n",
      " [-6.88950738e+00 -8.43022206e+00 -9.76560725e+00 -1.09824884e+01\n",
      "  -1.21136951e+01 -1.31885742e+01 -1.42168636e+01]\n",
      " [-6.74258797e+00 -8.26279533e+00 -9.58100137e+00 -1.07767738e+01\n",
      "  -1.18955055e+01 -1.29484461e+01 -1.39574857e+01]\n",
      " [-6.59874694e+00 -8.10281229e+00 -9.40432681e+00 -1.05821845e+01\n",
      "  -1.16779770e+01 -1.27161703e+01 -1.37091786e+01]\n",
      " [-6.45759058e+00 -7.94866161e+00 -9.22872976e+00 -1.03915641e+01\n",
      "  -1.14722624e+01 -1.24938463e+01 -1.34677035e+01]\n",
      " [-6.32176217e+00 -7.79548847e+00 -9.06130303e+00 -1.02069582e+01\n",
      "  -1.12721557e+01 -1.22756568e+01 -1.32354277e+01]\n",
      " [-6.19087409e+00 -7.64856906e+00 -8.90131999e+00 -1.00313612e+01\n",
      "  -1.10775664e+01 -1.20686782e+01 -1.30095429e+01]\n",
      " [-6.06457952e+00 -7.50741271e+00 -8.74327922e+00 -9.85733842e+00\n",
      "  -1.08922964e+01 -1.18629636e+01 -1.27913533e+01]\n",
      " [-5.94256697e+00 -7.37158430e+00 -8.59010607e+00 -9.68991169e+00\n",
      "  -1.07076905e+01 -1.16683742e+01 -1.25791671e+01]\n",
      " [-5.82455555e+00 -7.23805290e+00 -8.44318666e+00 -9.52982627e+00\n",
      "  -1.05320935e+01 -1.14747587e+01 -1.23734525e+01]\n",
      " [-5.71029117e+00 -7.10716482e+00 -8.30022139e+00 -9.36984323e+00\n",
      "  -1.03596113e+01 -1.12901528e+01 -1.21733981e+01]\n",
      " [-5.59871940e+00 -6.98087026e+00 -8.15906504e+00 -9.21667009e+00\n",
      "  -1.01921846e+01 -1.11082789e+01 -1.19788088e+01]\n",
      " [-5.48797141e+00 -6.85885770e+00 -8.02323663e+00 -9.06845414e+00\n",
      "  -1.00308383e+01 -1.09326819e+01 -1.17895735e+01]\n",
      " [-5.38052983e+00 -6.74084629e+00 -7.89234854e+00 -8.92153474e+00\n",
      "  -9.87085524e+00 -1.07612066e+01 -1.16049676e+01]\n",
      " [-5.27620294e+00 -6.62306325e+00 -7.76183148e+00 -8.78037838e+00\n",
      "  -9.71768209e+00 -1.05937799e+01 -1.14254411e+01]\n",
      " [-5.17481523e+00 -6.50879887e+00 -7.63553692e+00 -8.64239264e+00\n",
      "  -9.56612054e+00 -1.04315782e+01 -1.12498440e+01]\n",
      " [-5.07620561e+00 -6.39805088e+00 -7.51352436e+00 -8.50656423e+00\n",
      "  -9.41920113e+00 -1.02715952e+01 -1.10790785e+01]\n",
      " [-4.98022591e+00 -6.29060930e+00 -7.39346030e+00 -8.37567614e+00\n",
      "  -9.27630509e+00 -1.01177153e+01 -1.09116517e+01]\n",
      " [-4.88673946e+00 -6.18524878e+00 -7.27544888e+00 -8.24659910e+00\n",
      "  -9.13514874e+00 -9.96454217e+00 -1.07488317e+01]\n",
      " [-4.79557869e+00 -6.08092189e+00 -7.16118450e+00 -8.12030454e+00\n",
      "  -8.99932033e+00 -9.81762276e+00 -1.05888486e+01]\n",
      " [-4.70445925e+00 -5.97953418e+00 -7.05002255e+00 -7.99829198e+00\n",
      "  -8.86415228e+00 -9.67125227e+00 -1.04332675e+01]\n",
      " [-4.61558990e+00 -5.88092457e+00 -6.93927456e+00 -7.87704274e+00\n",
      "  -8.73326419e+00 -9.53009591e+00 -1.02800943e+01]\n",
      " [-4.52886219e+00 -5.78494486e+00 -6.83183297e+00 -7.75903133e+00\n",
      "  -8.60503096e+00 -9.39053587e+00 -1.01311357e+01]\n",
      " [-4.44417533e+00 -5.68963468e+00 -6.72750608e+00 -7.64471450e+00\n",
      "  -8.47873639e+00 -9.25470746e+00 -9.98421627e+00]\n",
      " [-4.36143546e+00 -5.59614824e+00 -6.62401678e+00 -7.53045012e+00\n",
      "  -8.35672384e+00 -9.12135217e+00 -9.84133929e+00]\n",
      " [-4.28055507e+00 -5.50502880e+00 -6.52262907e+00 -7.41970213e+00\n",
      "  -8.23474843e+00 -8.99046408e+00 -9.70018293e+00]\n",
      " [-4.20145242e+00 -5.41615945e+00 -6.42401945e+00 -7.31156768e+00\n",
      "  -8.11673701e+00 -8.86278524e+00 -9.56291044e+00]\n",
      " [-4.12405104e+00 -5.32914808e+00 -6.32721167e+00 -7.20412610e+00\n",
      "  -8.00043697e+00 -8.73649068e+00 -9.42708203e+00]\n",
      " [-4.04697570e+00 -5.24242037e+00 -6.23123197e+00 -7.09979921e+00\n",
      "  -7.88617259e+00 -8.61402470e+00 -9.29499088e+00]\n",
      " [-3.97120394e+00 -5.15773350e+00 -6.13774552e+00 -6.99721262e+00\n",
      "  -7.77504319e+00 -8.49201214e+00 -9.16410279e+00]\n",
      " [-3.89699459e+00 -5.07499364e+00 -6.04662608e+00 -6.89582491e+00\n",
      "  -7.66429520e+00 -8.37400073e+00 -9.03681604e+00]\n",
      " [-3.82428453e+00 -4.99411325e+00 -5.95568915e+00 -6.79721530e+00\n",
      "  -7.55685361e+00 -8.25633859e+00 -8.91052148e+00]\n",
      " [-3.75301437e+00 -4.91407054e+00 -5.86681980e+00 -6.69963497e+00\n",
      "  -7.45045458e+00 -8.14207421e+00 -8.78770186e+00]\n",
      " [-3.68312818e+00 -4.83496789e+00 -5.78009210e+00 -6.60365527e+00\n",
      "  -7.34612769e+00 -8.02885322e+00 -8.66568930e+00]\n",
      " [-3.61457323e+00 -4.75756651e+00 -5.69435447e+00 -6.51016882e+00\n",
      "  -7.24407270e+00 -7.91810523e+00 -8.54703387e+00]\n",
      " [-3.54729977e+00 -4.68179475e+00 -5.60966761e+00 -6.41712879e+00\n",
      "  -7.14268499e+00 -7.80900230e+00 -8.42902246e+00]\n",
      " [-3.48053407e+00 -4.60758540e+00 -5.52692774e+00 -6.32600935e+00\n",
      "  -7.04407538e+00 -7.70156072e+00 -8.31425808e+00]\n",
      " [-3.41449505e+00 -4.53347743e+00 -5.44582691e+00 -6.23710583e+00\n",
      "  -6.94602360e+00 -7.59628676e+00 -8.19999370e+00]\n",
      " [-3.34964598e+00 -4.46076737e+00 -5.36494653e+00 -6.14823648e+00\n",
      "  -6.85004389e+00 -7.49195987e+00 -8.08887325e+00]\n",
      " [-3.28594475e+00 -4.38949720e+00 -5.28584388e+00 -6.06150877e+00\n",
      "  -6.75569307e+00 -7.39025521e+00 -7.97812526e+00]\n",
      " [-3.22335142e+00 -4.31961101e+00 -5.20844249e+00 -5.97638954e+00\n",
      "  -6.66220663e+00 -7.28886750e+00 -7.87042446e+00]\n",
      " [-3.16182812e+00 -4.25061814e+00 -5.13150255e+00 -5.89170268e+00\n",
      "  -6.57108719e+00 -7.19025789e+00 -7.76298288e+00]\n",
      " [-3.10133887e+00 -4.18206320e+00 -5.05573079e+00 -5.80896281e+00\n",
      "  -6.48016808e+00 -7.09188842e+00 -7.65849750e+00]\n",
      " [-3.04184948e+00 -4.11478973e+00 -4.98152144e+00 -5.72731882e+00\n",
      "  -6.39129873e+00 -6.99590872e+00 -7.55417061e+00]\n",
      " [-2.98295797e+00 -4.04875071e+00 -4.90833620e+00 -5.64643844e+00\n",
      "  -6.30357043e+00 -6.90066262e+00 -7.45271424e+00]\n",
      " [-2.92443593e+00 -3.98390165e+00 -4.83562613e+00 -5.56733579e+00\n",
      "  -6.21684272e+00 -6.80717618e+00 -7.35132653e+00]\n",
      " [-2.86685029e+00 -3.91936313e+00 -4.76435597e+00 -5.48889436e+00\n",
      "  -6.13208884e+00 -6.71486120e+00 -7.25271691e+00]\n",
      " [-2.81017155e+00 -3.85566189e+00 -4.69446978e+00 -5.41149298e+00\n",
      "  -6.04740198e+00 -6.62374176e+00 -7.15411884e+00]\n",
      " [-2.75437159e+00 -3.79306856e+00 -4.62468976e+00 -5.33572122e+00\n",
      "  -5.96466211e+00 -6.53418287e+00 -7.05813914e+00]\n",
      " [-2.69942356e+00 -3.73154526e+00 -4.55613481e+00 -5.26024056e+00\n",
      "  -5.88268755e+00 -6.44531352e+00 -6.96224273e+00]\n",
      " [-2.64530186e+00 -3.67092064e+00 -4.48886135e+00 -5.18603121e+00\n",
      "  -5.80180717e+00 -6.35835091e+00 -6.86875628e+00]\n",
      " [-2.59198198e+00 -3.61043139e+00 -4.42218370e+00 -5.11329593e+00\n",
      "  -5.72243542e+00 -6.27162321e+00 -6.77541742e+00]\n",
      " [-2.53930172e+00 -3.55094200e+00 -4.35614468e+00 -5.04058586e+00\n",
      "  -5.64333277e+00 -6.18693634e+00 -6.68429798e+00]\n",
      " [-2.48676027e+00 -3.49241997e+00 -4.29129562e+00 -4.96931570e+00\n",
      "  -5.56593139e+00 -6.10242371e+00 -6.59338378e+00]\n",
      " [-2.43497483e+00 -3.43483433e+00 -4.22745620e+00 -4.89913306e+00\n",
      "  -5.48900224e+00 -6.01968384e+00 -6.50451443e+00]\n",
      " [-2.38392397e+00 -3.37767592e+00 -4.16375496e+00 -4.82924687e+00\n",
      "  -5.41323048e+00 -5.93748692e+00 -6.41590210e+00]\n",
      " [-2.33358712e+00 -3.32099718e+00 -4.10116163e+00 -4.76069193e+00\n",
      "  -5.33859807e+00 -5.85660654e+00 -6.32917439e+00]\n",
      " [-2.28394460e+00 -3.26519721e+00 -4.03963833e+00 -4.69288882e+00\n",
      "  -5.26438873e+00 -5.77660179e+00 -6.24275025e+00]\n",
      " [-2.23497751e+00 -3.21024919e+00 -3.97840534e+00 -4.62561536e+00\n",
      "  -5.19167867e+00 -5.69749914e+00 -6.15806338e+00]\n",
      " [-2.18666772e+00 -3.15612748e+00 -3.91791609e+00 -4.55957633e+00\n",
      "  -5.11920982e+00 -5.61957268e+00 -6.07372195e+00]\n",
      " [-2.13899781e+00 -3.10206026e+00 -3.85842670e+00 -4.49399669e+00\n",
      "  -5.04793966e+00 -5.54217130e+00 -5.99098209e+00]\n",
      " [-2.09134272e+00 -3.04874038e+00 -3.79959563e+00 -4.42914762e+00\n",
      "  -4.97751247e+00 -5.46621788e+00 -5.90862535e+00]\n",
      " [-2.04429596e+00 -2.99619893e+00 -3.74107360e+00 -4.36544639e+00\n",
      "  -4.90762628e+00 -5.39044611e+00 -5.82774496e+00]\n",
      " [-1.99785627e+00 -2.94441349e+00 -3.68348796e+00 -4.30194900e+00\n",
      "  -4.83907133e+00 -5.31623677e+00 -5.74728165e+00]\n",
      " [-1.95200819e+00 -2.89312020e+00 -3.62680922e+00 -4.23935567e+00\n",
      "  -4.77057390e+00 -5.24215893e+00 -5.66817900e+00]\n",
      " [-1.90673683e+00 -2.84206933e+00 -3.57019873e+00 -4.17781235e+00\n",
      "  -4.70330043e+00 -5.16944887e+00 -5.58952400e+00]\n",
      " [-1.86202786e+00 -2.79173249e+00 -3.51439876e+00 -4.11628904e+00\n",
      "  -4.63662981e+00 -5.09715622e+00 -5.51212262e+00]\n",
      " [-1.81786748e+00 -2.74208997e+00 -3.45945074e+00 -4.05579979e+00\n",
      "  -4.57059079e+00 -5.02588605e+00 -5.43519644e+00]\n",
      " [-1.77424240e+00 -2.69312288e+00 -3.40489927e+00 -3.99609387e+00\n",
      "  -4.50565208e+00 -4.95529456e+00 -5.35942468e+00]\n",
      " [-1.73073671e+00 -2.64433271e+00 -3.35077757e+00 -3.93660449e+00\n",
      "  -4.44080301e+00 -4.88540837e+00 -5.28415296e+00]\n",
      " [-1.68763409e+00 -2.59602292e+00 -3.29745769e+00 -3.87808245e+00\n",
      "  -4.37710178e+00 -4.81643981e+00 -5.20994362e+00]\n",
      " [-1.64504157e+00 -2.54835301e+00 -3.24482071e+00 -3.82010738e+00\n",
      "  -4.31380726e+00 -4.74788487e+00 -5.13625669e+00]\n",
      " [-1.60294722e+00 -2.50130625e+00 -3.19227926e+00 -3.76252174e+00\n",
      "  -4.25121393e+00 -4.68046630e+00 -5.06354662e+00]\n",
      " [-1.56133953e+00 -2.45478623e+00 -3.14049382e+00 -3.70584300e+00\n",
      "  -4.18948240e+00 -4.61319284e+00 -4.99137912e+00]]\n"
     ]
    }
   ],
   "source": [
    "V_init = V_new\n",
    "EV = (V_init @ gamma).reshape((N,1)) \n",
    "EV_mat = np.tile(EV.reshape((1,N)), (N,1))\n",
    "EV_mat[~c_pos] = -9e+4\n",
    "EV_TDarray = np.array([EV_mat for e in range(M)])\n",
    "V_new_TDarray = Three_D_array + beta*EV_TDarray\n",
    "V_new = np.zeros((N,M))\n",
    "W_prime = np.zeros((N,M))\n",
    "for i in range(N):\n",
    "    arr = V_new_TDarray[:, i, :]\n",
    "    V_new[i] = arr.max(axis=1)\n",
    "    W_index = np.argmax(arr, axis=1)\n",
    "    W_prime[i] = W_vec[W_index]\n",
    "    \n",
    "print(\"The policy function is:\", W_prime)\n",
    "print(\"The value function is:\", V_new)"
   ]
  },
  {
   "cell_type": "code",
   "execution_count": 26,
   "metadata": {},
   "outputs": [
    {
     "name": "stdout",
     "output_type": "stream",
     "text": [
      "The distance metric is: 45953155651.859604\n"
     ]
    }
   ],
   "source": [
    "delta2 = distance(V_init, V_new)\n",
    "print(\"The distance metric is:\", delta2)"
   ]
  },
  {
   "cell_type": "code",
   "execution_count": 27,
   "metadata": {},
   "outputs": [
    {
     "name": "stdout",
     "output_type": "stream",
     "text": [
      "The difference between delta_{T-1} and delta_T is:  -10415544.245903015\n"
     ]
    }
   ],
   "source": [
    "diff2= delta2-delta1\n",
    "print(\"The difference between delta_{T-1} and delta_T is: \", diff2)"
   ]
  },
  {
   "cell_type": "markdown",
   "metadata": {},
   "source": [
    "delta_{T-1} is smaller than delta_T, which means distance gets smaller from T to T-1."
   ]
  },
  {
   "cell_type": "markdown",
   "metadata": {},
   "source": [
    "#### Exercise 5.20"
   ]
  },
  {
   "cell_type": "code",
   "execution_count": 28,
   "metadata": {},
   "outputs": [
    {
     "name": "stdout",
     "output_type": "stream",
     "text": [
      "The policy function is: [[0.01 0.01 0.01 0.01 0.01 0.01 0.01]\n",
      " [0.02 0.02 0.02 0.02 0.02 0.02 0.02]\n",
      " [0.03 0.03 0.03 0.03 0.03 0.03 0.03]\n",
      " [0.03 0.03 0.03 0.03 0.03 0.03 0.03]\n",
      " [0.04 0.04 0.04 0.04 0.04 0.04 0.04]\n",
      " [0.05 0.05 0.05 0.05 0.05 0.05 0.05]\n",
      " [0.06 0.06 0.06 0.06 0.06 0.06 0.05]\n",
      " [0.07 0.07 0.07 0.07 0.07 0.06 0.06]\n",
      " [0.08 0.08 0.08 0.08 0.07 0.07 0.07]\n",
      " [0.09 0.09 0.09 0.08 0.08 0.08 0.08]\n",
      " [0.1  0.1  0.1  0.09 0.09 0.09 0.08]\n",
      " [0.11 0.11 0.11 0.1  0.1  0.09 0.09]\n",
      " [0.12 0.12 0.11 0.11 0.11 0.1  0.1 ]\n",
      " [0.13 0.13 0.12 0.12 0.11 0.11 0.11]\n",
      " [0.14 0.14 0.13 0.13 0.12 0.12 0.11]\n",
      " [0.15 0.15 0.14 0.14 0.13 0.13 0.12]\n",
      " [0.16 0.15 0.15 0.14 0.14 0.13 0.13]\n",
      " [0.17 0.16 0.16 0.15 0.15 0.14 0.14]\n",
      " [0.18 0.17 0.17 0.16 0.15 0.15 0.14]\n",
      " [0.19 0.18 0.18 0.17 0.16 0.16 0.15]\n",
      " [0.2  0.19 0.18 0.18 0.17 0.16 0.16]\n",
      " [0.21 0.2  0.19 0.18 0.18 0.17 0.17]\n",
      " [0.22 0.21 0.2  0.19 0.19 0.18 0.17]\n",
      " [0.23 0.22 0.21 0.2  0.19 0.19 0.18]\n",
      " [0.24 0.23 0.22 0.21 0.2  0.2  0.19]\n",
      " [0.25 0.24 0.23 0.22 0.21 0.2  0.2 ]\n",
      " [0.26 0.25 0.24 0.23 0.22 0.21 0.2 ]\n",
      " [0.27 0.26 0.24 0.24 0.23 0.22 0.21]\n",
      " [0.28 0.26 0.25 0.24 0.23 0.23 0.22]\n",
      " [0.29 0.27 0.26 0.25 0.24 0.23 0.23]\n",
      " [0.3  0.28 0.27 0.26 0.25 0.24 0.23]\n",
      " [0.3  0.29 0.28 0.27 0.26 0.25 0.24]\n",
      " [0.31 0.3  0.29 0.28 0.27 0.26 0.25]\n",
      " [0.32 0.31 0.3  0.29 0.27 0.26 0.25]\n",
      " [0.33 0.32 0.31 0.29 0.28 0.27 0.26]\n",
      " [0.34 0.33 0.31 0.3  0.29 0.28 0.27]\n",
      " [0.35 0.34 0.32 0.31 0.3  0.29 0.28]\n",
      " [0.36 0.35 0.33 0.32 0.31 0.29 0.28]\n",
      " [0.37 0.36 0.34 0.33 0.31 0.3  0.29]\n",
      " [0.38 0.36 0.35 0.34 0.32 0.31 0.3 ]\n",
      " [0.39 0.37 0.36 0.34 0.33 0.32 0.31]\n",
      " [0.4  0.38 0.37 0.35 0.34 0.33 0.31]\n",
      " [0.41 0.39 0.38 0.36 0.35 0.33 0.32]\n",
      " [0.42 0.4  0.38 0.37 0.35 0.34 0.33]\n",
      " [0.43 0.41 0.39 0.38 0.36 0.35 0.34]\n",
      " [0.44 0.42 0.4  0.39 0.37 0.36 0.34]\n",
      " [0.45 0.43 0.41 0.39 0.38 0.36 0.35]\n",
      " [0.46 0.44 0.42 0.4  0.39 0.37 0.36]\n",
      " [0.47 0.45 0.43 0.41 0.39 0.38 0.37]\n",
      " [0.48 0.46 0.44 0.42 0.4  0.39 0.37]\n",
      " [0.49 0.46 0.45 0.43 0.41 0.4  0.38]\n",
      " [0.5  0.47 0.45 0.44 0.42 0.4  0.39]\n",
      " [0.51 0.48 0.46 0.44 0.43 0.41 0.4 ]\n",
      " [0.51 0.49 0.47 0.45 0.43 0.42 0.4 ]\n",
      " [0.52 0.5  0.48 0.46 0.44 0.43 0.41]\n",
      " [0.53 0.51 0.49 0.47 0.45 0.43 0.42]\n",
      " [0.54 0.52 0.5  0.48 0.46 0.44 0.43]\n",
      " [0.55 0.53 0.51 0.49 0.47 0.45 0.43]\n",
      " [0.56 0.54 0.51 0.49 0.48 0.46 0.44]\n",
      " [0.57 0.55 0.52 0.5  0.48 0.46 0.45]\n",
      " [0.58 0.56 0.53 0.51 0.49 0.47 0.46]\n",
      " [0.59 0.56 0.54 0.52 0.5  0.48 0.46]\n",
      " [0.6  0.57 0.55 0.53 0.51 0.49 0.47]\n",
      " [0.61 0.58 0.56 0.54 0.52 0.49 0.48]\n",
      " [0.62 0.59 0.57 0.54 0.52 0.5  0.48]\n",
      " [0.63 0.6  0.58 0.55 0.53 0.51 0.49]\n",
      " [0.64 0.61 0.58 0.56 0.54 0.52 0.5 ]\n",
      " [0.65 0.62 0.59 0.57 0.55 0.53 0.51]\n",
      " [0.66 0.63 0.6  0.58 0.55 0.53 0.52]\n",
      " [0.67 0.64 0.61 0.59 0.56 0.54 0.52]\n",
      " [0.68 0.65 0.62 0.59 0.57 0.55 0.53]\n",
      " [0.69 0.66 0.63 0.6  0.58 0.56 0.54]\n",
      " [0.7  0.66 0.64 0.61 0.59 0.56 0.54]\n",
      " [0.71 0.67 0.65 0.62 0.59 0.57 0.55]\n",
      " [0.71 0.68 0.65 0.63 0.6  0.58 0.56]\n",
      " [0.72 0.69 0.66 0.64 0.61 0.59 0.57]\n",
      " [0.73 0.7  0.67 0.64 0.62 0.6  0.57]\n",
      " [0.74 0.71 0.68 0.65 0.63 0.6  0.58]\n",
      " [0.75 0.72 0.69 0.66 0.63 0.61 0.59]\n",
      " [0.76 0.73 0.7  0.67 0.64 0.62 0.6 ]\n",
      " [0.77 0.74 0.71 0.68 0.65 0.63 0.6 ]\n",
      " [0.78 0.75 0.71 0.69 0.66 0.63 0.61]\n",
      " [0.79 0.76 0.72 0.69 0.67 0.64 0.62]\n",
      " [0.8  0.76 0.73 0.7  0.68 0.65 0.63]\n",
      " [0.81 0.77 0.74 0.71 0.68 0.66 0.63]\n",
      " [0.82 0.78 0.75 0.72 0.69 0.66 0.64]\n",
      " [0.83 0.79 0.76 0.73 0.7  0.67 0.65]\n",
      " [0.84 0.8  0.77 0.74 0.71 0.68 0.66]\n",
      " [0.85 0.81 0.78 0.74 0.72 0.69 0.66]\n",
      " [0.86 0.82 0.79 0.75 0.72 0.7  0.67]\n",
      " [0.87 0.83 0.79 0.76 0.73 0.7  0.68]\n",
      " [0.88 0.84 0.8  0.77 0.74 0.71 0.69]\n",
      " [0.89 0.85 0.81 0.78 0.75 0.72 0.69]\n",
      " [0.9  0.86 0.82 0.79 0.76 0.73 0.7 ]\n",
      " [0.91 0.87 0.83 0.79 0.76 0.73 0.71]\n",
      " [0.91 0.87 0.84 0.8  0.77 0.74 0.72]\n",
      " [0.92 0.88 0.85 0.81 0.78 0.75 0.72]\n",
      " [0.93 0.89 0.85 0.82 0.79 0.76 0.73]\n",
      " [0.94 0.9  0.86 0.83 0.79 0.76 0.74]\n",
      " [0.95 0.91 0.87 0.84 0.8  0.77 0.74]]\n",
      "The value function is: [[-8.10080590e+04 -8.10161181e+04 -8.10241771e+04 -8.10322362e+04\n",
      "  -8.10402952e+04 -8.10483543e+04 -8.10564133e+04]\n",
      " [-8.10080590e+04 -8.10161181e+04 -8.10241771e+04 -8.10322362e+04\n",
      "  -8.10402952e+04 -8.10483543e+04 -8.10564133e+04]\n",
      " [-8.10080590e+04 -8.10161181e+04 -8.10241771e+04 -8.10322362e+04\n",
      "  -8.10402952e+04 -8.10483543e+04 -8.10564133e+04]\n",
      " [-4.87020633e+01 -5.10046483e+01 -5.33072334e+01 -5.56098185e+01\n",
      "  -5.79124036e+01 -6.02149887e+01 -6.25175738e+01]\n",
      " [-4.42129004e+01 -4.65154855e+01 -4.88180706e+01 -5.11206557e+01\n",
      "  -5.34232408e+01 -5.57258259e+01 -5.80284110e+01]\n",
      " [-4.13997661e+01 -4.37023512e+01 -4.60049362e+01 -4.83075213e+01\n",
      "  -5.06101064e+01 -5.29126915e+01 -5.52152766e+01]\n",
      " [-3.90535002e+01 -4.13560853e+01 -4.36586704e+01 -4.59612555e+01\n",
      "  -4.82638406e+01 -5.05664257e+01 -5.27892615e+01]\n",
      " [-3.71941021e+01 -3.94966872e+01 -4.17992723e+01 -4.41018574e+01\n",
      "  -4.64044425e+01 -4.84869841e+01 -5.04429956e+01]\n",
      " [-3.56390121e+01 -3.79415972e+01 -4.02441822e+01 -4.25467673e+01\n",
      "  -4.46715745e+01 -4.66275860e+01 -4.85835975e+01]\n",
      " [-3.42666222e+01 -3.65692073e+01 -3.88717924e+01 -4.11604730e+01\n",
      "  -4.31164845e+01 -4.50724960e+01 -4.70285075e+01]\n",
      " [-3.30750699e+01 -3.53776550e+01 -3.76802401e+01 -3.97880832e+01\n",
      "  -4.17440947e+01 -4.37001062e+01 -4.56093796e+01]\n",
      " [-3.20130929e+01 -3.43156780e+01 -3.66182631e+01 -3.85965308e+01\n",
      "  -4.05525423e+01 -4.24837108e+01 -4.42369898e+01]\n",
      " [-3.10491821e+01 -3.33517672e+01 -3.55785423e+01 -3.75345538e+01\n",
      "  -3.94905653e+01 -4.12921585e+01 -4.30454374e+01]\n",
      " [-3.01733137e+01 -3.24758988e+01 -3.46146315e+01 -3.65706430e+01\n",
      "  -3.84769025e+01 -4.02301815e+01 -4.19834604e+01]\n",
      " [-2.93617199e+01 -3.16643050e+01 -3.37387631e+01 -3.56947746e+01\n",
      "  -3.75129917e+01 -3.92662707e+01 -4.09765732e+01]\n",
      " [-2.86067910e+01 -3.09093761e+01 -3.29271693e+01 -3.48831808e+01\n",
      "  -3.66371233e+01 -3.83904023e+01 -4.00126624e+01]\n",
      " [-2.79189507e+01 -3.02162289e+01 -3.21722405e+01 -3.40722506e+01\n",
      "  -3.58255295e+01 -3.75273561e+01 -3.91367940e+01]\n",
      " [-2.72684189e+01 -2.95283886e+01 -3.14844001e+01 -3.33173217e+01\n",
      "  -3.50706007e+01 -3.67157623e+01 -3.83252002e+01]\n",
      " [-2.66482914e+01 -2.88778568e+01 -3.08338683e+01 -3.26294814e+01\n",
      "  -3.43513955e+01 -3.59608334e+01 -3.75441978e+01]\n",
      " [-2.60806278e+01 -2.82577293e+01 -3.02137408e+01 -3.19789496e+01\n",
      "  -3.36635552e+01 -3.52729931e+01 -3.67892689e+01]\n",
      " [-2.55314885e+01 -2.76900657e+01 -2.96055431e+01 -3.13588221e+01\n",
      "  -3.30130234e+01 -3.46035624e+01 -3.61014285e+01]\n",
      " [-2.50115679e+01 -2.71409264e+01 -2.90378796e+01 -3.07834579e+01\n",
      "  -3.23928958e+01 -3.39530306e+01 -3.54508968e+01]\n",
      " [-2.45266338e+01 -2.66210058e+01 -2.84887402e+01 -3.02157944e+01\n",
      "  -3.18252323e+01 -3.33329031e+01 -3.48127713e+01]\n",
      " [-2.40526164e+01 -2.61360717e+01 -2.79688196e+01 -2.96666550e+01\n",
      "  -3.12673734e+01 -3.27652395e+01 -3.41926438e+01]\n",
      " [-2.36054713e+01 -2.56620543e+01 -2.74838856e+01 -2.91467344e+01\n",
      "  -3.07182341e+01 -3.22161002e+01 -3.36249802e+01]\n",
      " [-2.31760277e+01 -2.52149092e+01 -2.70098682e+01 -2.86618004e+01\n",
      "  -3.01983134e+01 -3.16691355e+01 -3.30758409e+01]\n",
      " [-2.27639886e+01 -2.47854656e+01 -2.65627231e+01 -2.81877830e+01\n",
      "  -2.97133794e+01 -3.11492149e+01 -3.25363135e+01]\n",
      " [-2.23696903e+01 -2.43734265e+01 -2.61312000e+01 -2.77406379e+01\n",
      "  -2.92393620e+01 -3.06642809e+01 -3.20163929e+01]\n",
      " [-2.19879063e+01 -2.39679614e+01 -2.57017564e+01 -2.72943508e+01\n",
      "  -2.87835581e+01 -3.01902635e+01 -3.15314589e+01]\n",
      " [-2.16218981e+01 -2.35736631e+01 -2.52897172e+01 -2.68649072e+01\n",
      "  -2.83364130e+01 -2.97278114e+01 -3.10574415e+01]\n",
      " [-2.12692207e+01 -2.31918791e+01 -2.48954190e+01 -2.64528680e+01\n",
      "  -2.79069694e+01 -2.92806663e+01 -3.05900816e+01]\n",
      " [-2.09226471e+01 -2.28258709e+01 -2.45136349e+01 -2.60585698e+01\n",
      "  -2.74949303e+01 -2.88512227e+01 -3.01429365e+01]\n",
      " [-2.05800445e+01 -2.24731935e+01 -2.41476267e+01 -2.56767857e+01\n",
      "  -2.71006320e+01 -2.84391836e+01 -2.97134929e+01]\n",
      " [-2.02483746e+01 -2.21305909e+01 -2.37949493e+01 -2.53107775e+01\n",
      "  -2.67152553e+01 -2.80385894e+01 -2.93012523e+01]\n",
      " [-1.99306068e+01 -2.17989210e+01 -2.34523468e+01 -2.49461344e+01\n",
      "  -2.63334713e+01 -2.76442912e+01 -2.88892131e+01]\n",
      " [-1.96196554e+01 -2.14811532e+01 -2.31176314e+01 -2.45934570e+01\n",
      "  -2.59674631e+01 -2.72625071e+01 -2.84949149e+01]\n",
      " [-1.93175309e+01 -2.11702018e+01 -2.27859615e+01 -2.42508545e+01\n",
      "  -2.56147857e+01 -2.68964989e+01 -2.81131308e+01]\n",
      " [-1.90277272e+01 -2.08680773e+01 -2.24681937e+01 -2.39191846e+01\n",
      "  -2.52721831e+01 -2.65431498e+01 -2.77443690e+01]\n",
      " [-1.87422834e+01 -2.05782736e+01 -2.21572423e+01 -2.36014167e+01\n",
      "  -2.49383546e+01 -2.61904724e+01 -2.73783608e+01]\n",
      " [-1.84654965e+01 -2.02905915e+01 -2.18551178e+01 -2.32904653e+01\n",
      "  -2.46066847e+01 -2.58478698e+01 -2.70256834e+01]\n",
      " [-1.81983137e+01 -2.00051477e+01 -2.15653141e+01 -2.29821640e+01\n",
      "  -2.42889169e+01 -2.55161999e+01 -2.66830808e+01]\n",
      " [-1.79356602e+01 -1.97283609e+01 -2.12798703e+01 -2.26800395e+01\n",
      "  -2.39779655e+01 -2.51984321e+01 -2.63494952e+01]\n",
      " [-1.76807537e+01 -1.94611781e+01 -2.10030835e+01 -2.23902358e+01\n",
      "  -2.36758410e+01 -2.48823506e+01 -2.60178253e+01]\n",
      " [-1.74315696e+01 -1.91985245e+01 -2.07296011e+01 -2.21047920e+01\n",
      "  -2.33813835e+01 -2.45713992e+01 -2.57000575e+01]\n",
      " [-1.71884396e+01 -1.89436180e+01 -2.04624183e+01 -2.18280051e+01\n",
      "  -2.30915797e+01 -2.42692747e+01 -2.53891061e+01]\n",
      " [-1.69524203e+01 -1.86944339e+01 -2.01997648e+01 -2.15608223e+01\n",
      "  -2.28061359e+01 -2.39794710e+01 -2.50845663e+01]\n",
      " [-1.67196809e+01 -1.84513039e+01 -1.99448583e+01 -2.12937595e+01\n",
      "  -2.25293491e+01 -2.36935405e+01 -2.47824418e+01]\n",
      " [-1.64936415e+01 -1.82152847e+01 -1.96956742e+01 -2.10311060e+01\n",
      "  -2.22621662e+01 -2.34080967e+01 -2.44926381e+01]\n",
      " [-1.62726903e+01 -1.79825452e+01 -1.94525442e+01 -2.07761995e+01\n",
      "  -2.19987650e+01 -2.31313098e+01 -2.42071943e+01]\n",
      " [-1.60551456e+01 -1.77565058e+01 -1.92165249e+01 -2.05270154e+01\n",
      "  -2.17361114e+01 -2.28641270e+01 -2.39270448e+01]\n",
      " [-1.58429837e+01 -1.75333623e+01 -1.89837855e+01 -2.02838854e+01\n",
      "  -2.14812049e+01 -2.26014734e+01 -2.36502579e+01]\n",
      " [-1.56361362e+01 -1.73124111e+01 -1.87525594e+01 -2.00478661e+01\n",
      "  -2.12320208e+01 -2.23404393e+01 -2.33830751e+01]\n",
      " [-1.54320215e+01 -1.70948663e+01 -1.85265201e+01 -1.98123001e+01\n",
      "  -2.09888908e+01 -2.20855328e+01 -2.31204216e+01]\n",
      " [-1.52292889e+01 -1.68827045e+01 -1.83055689e+01 -1.95795606e+01\n",
      "  -2.07506154e+01 -2.18363487e+01 -2.28610437e+01]\n",
      " [-1.50291293e+01 -1.66758570e+01 -1.80880241e+01 -1.93535212e+01\n",
      "  -2.05145961e+01 -2.15932187e+01 -2.26061372e+01]\n",
      " [-1.48343586e+01 -1.64717423e+01 -1.78758623e+01 -1.91325700e+01\n",
      "  -2.02818567e+01 -2.13530906e+01 -2.23569531e+01]\n",
      " [-1.46419558e+01 -1.62715826e+01 -1.76690147e+01 -1.89150253e+01\n",
      "  -2.00558173e+01 -2.11170713e+01 -2.21138231e+01]\n",
      " [-1.44534690e+01 -1.60768119e+01 -1.74649001e+01 -1.87028634e+01\n",
      "  -1.98348661e+01 -2.08843319e+01 -2.18723481e+01]\n",
      " [-1.42689457e+01 -1.58844091e+01 -1.72646030e+01 -1.84921424e+01\n",
      "  -1.96173213e+01 -2.06582925e+01 -2.16363288e+01]\n",
      " [-1.40870996e+01 -1.56959223e+01 -1.70644433e+01 -1.82852949e+01\n",
      "  -1.93997929e+01 -2.04359686e+01 -2.14035893e+01]\n",
      " [-1.39090025e+01 -1.55113990e+01 -1.68696726e+01 -1.80811802e+01\n",
      "  -1.91876310e+01 -2.02150174e+01 -2.11775500e+01]\n",
      " [-1.37334501e+01 -1.53290774e+01 -1.66772698e+01 -1.78810205e+01\n",
      "  -1.89807835e+01 -1.99974726e+01 -2.09516651e+01]\n",
      " [-1.35610925e+01 -1.51472313e+01 -1.64887830e+01 -1.76862498e+01\n",
      "  -1.87766688e+01 -1.97853108e+01 -2.07307139e+01]\n",
      " [-1.33923892e+01 -1.49691343e+01 -1.63042597e+01 -1.74938470e+01\n",
      "  -1.85765091e+01 -1.95783322e+01 -2.05131692e+01]\n",
      " [-1.32250883e+01 -1.47935818e+01 -1.61224136e+01 -1.73032267e+01\n",
      "  -1.83764024e+01 -1.93714846e+01 -2.03009830e+01]\n",
      " [-1.30615679e+01 -1.46212243e+01 -1.59443165e+01 -1.71147399e+01\n",
      "  -1.81816317e+01 -1.91673699e+01 -2.00888212e+01]\n",
      " [-1.29008259e+01 -1.44525210e+01 -1.57676420e+01 -1.69302165e+01\n",
      "  -1.79892289e+01 -1.89672103e+01 -1.98819736e+01]\n",
      " [-1.27413693e+01 -1.42852201e+01 -1.55920895e+01 -1.67483704e+01\n",
      "  -1.78007421e+01 -1.87724396e+01 -1.96778589e+01]\n",
      " [-1.25853413e+01 -1.41216997e+01 -1.54197320e+01 -1.65702734e+01\n",
      "  -1.76154722e+01 -1.85788240e+01 -1.94776993e+01]\n",
      " [-1.24317843e+01 -1.39609576e+01 -1.52510287e+01 -1.63947209e+01\n",
      "  -1.74309489e+01 -1.83864212e+01 -1.92776448e+01]\n",
      " [-1.22801370e+01 -1.38015011e+01 -1.50837278e+01 -1.62206982e+01\n",
      "  -1.72491028e+01 -1.81979344e+01 -1.90828741e+01]\n",
      " [-1.21305817e+01 -1.36454731e+01 -1.49202074e+01 -1.60483406e+01\n",
      "  -1.70710057e+01 -1.80134111e+01 -1.88904713e+01]\n",
      " [-1.19837526e+01 -1.34913224e+01 -1.47594653e+01 -1.58796373e+01\n",
      "  -1.68954532e+01 -1.78315372e+01 -1.87012361e+01]\n",
      " [-1.18386338e+01 -1.33377653e+01 -1.46000088e+01 -1.57123365e+01\n",
      "  -1.67229711e+01 -1.76496911e+01 -1.85127493e+01]\n",
      " [-1.16947928e+01 -1.31861181e+01 -1.44419680e+01 -1.55488160e+01\n",
      "  -1.65506135e+01 -1.74715941e+01 -1.83282259e+01]\n",
      " [-1.15518835e+01 -1.30365628e+01 -1.42859400e+01 -1.53880740e+01\n",
      "  -1.63819102e+01 -1.72960416e+01 -1.81463798e+01]\n",
      " [-1.14111095e+01 -1.28897337e+01 -1.41323829e+01 -1.52279886e+01\n",
      "  -1.62146094e+01 -1.71236841e+01 -1.79668533e+01]\n",
      " [-1.12719193e+01 -1.27446149e+01 -1.39807357e+01 -1.50685320e+01\n",
      "  -1.60510889e+01 -1.69522088e+01 -1.77887563e+01]\n",
      " [-1.11350807e+01 -1.26017056e+01 -1.38311804e+01 -1.49125040e+01\n",
      "  -1.58897426e+01 -1.67835055e+01 -1.76132038e+01]\n",
      " [-1.09994966e+01 -1.24609316e+01 -1.36843513e+01 -1.47589470e+01\n",
      "  -1.57290006e+01 -1.66162047e+01 -1.74408463e+01]\n",
      " [-1.08661585e+01 -1.23217414e+01 -1.35392325e+01 -1.46072997e+01\n",
      "  -1.55695440e+01 -1.64526842e+01 -1.72700807e+01]\n",
      " [-1.07348391e+01 -1.21849028e+01 -1.33962672e+01 -1.44577444e+01\n",
      "  -1.54135160e+01 -1.62904826e+01 -1.71013774e+01]\n",
      " [-1.06042515e+01 -1.20493187e+01 -1.32533579e+01 -1.43095284e+01\n",
      "  -1.52599590e+01 -1.61297405e+01 -1.69340765e+01]\n",
      " [-1.04760709e+01 -1.19157873e+01 -1.31125840e+01 -1.41626994e+01\n",
      "  -1.51083117e+01 -1.59702840e+01 -1.67705561e+01]\n",
      " [-1.03496022e+01 -1.17824493e+01 -1.29733937e+01 -1.40175806e+01\n",
      "  -1.49567502e+01 -1.58142560e+01 -1.66077360e+01]\n",
      " [-1.02240129e+01 -1.16511299e+01 -1.28365552e+01 -1.38746713e+01\n",
      "  -1.48071948e+01 -1.56603761e+01 -1.64469940e+01]\n",
      " [-1.01005537e+01 -1.15205423e+01 -1.27009710e+01 -1.37338973e+01\n",
      "  -1.46603658e+01 -1.55068190e+01 -1.62875374e+01]\n",
      " [-9.97846307e+00 -1.13923616e+01 -1.25676330e+01 -1.35947071e+01\n",
      "  -1.45152470e+01 -1.53551718e+01 -1.61315094e+01]\n",
      " [-9.85772198e+00 -1.12658930e+01 -1.24363136e+01 -1.34567213e+01\n",
      "  -1.43723377e+01 -1.52056165e+01 -1.59759283e+01]\n",
      " [-9.73849894e+00 -1.11403037e+01 -1.23057260e+01 -1.33198828e+01\n",
      "  -1.42294416e+01 -1.50587874e+01 -1.58223712e+01]\n",
      " [-9.62063755e+00 -1.10168444e+01 -1.21752089e+01 -1.31842986e+01\n",
      "  -1.40886677e+01 -1.49124169e+01 -1.56707240e+01]\n",
      " [-9.50417119e+00 -1.08947538e+01 -1.20470283e+01 -1.30509606e+01\n",
      "  -1.39494774e+01 -1.47672981e+01 -1.55211686e+01]\n",
      " [-9.38900925e+00 -1.07740127e+01 -1.19205596e+01 -1.29196412e+01\n",
      "  -1.38126389e+01 -1.46243888e+01 -1.53722100e+01]\n",
      " [-9.27521484e+00 -1.06547897e+01 -1.17949703e+01 -1.27890536e+01\n",
      "  -1.36770547e+01 -1.44836149e+01 -1.52253809e+01]\n",
      " [-9.16256586e+00 -1.05369283e+01 -1.16715111e+01 -1.26599766e+01\n",
      "  -1.35418867e+01 -1.43440548e+01 -1.50802621e+01]\n",
      " [-9.05099408e+00 -1.04191452e+01 -1.15494205e+01 -1.25317959e+01\n",
      "  -1.34085486e+01 -1.42048646e+01 -1.49373528e+01]\n",
      " [-8.93982659e+00 -1.03026789e+01 -1.14286794e+01 -1.24053272e+01\n",
      "  -1.32772292e+01 -1.40680260e+01 -1.47944758e+01]\n",
      " [-8.82941351e+00 -1.01875169e+01 -1.13086153e+01 -1.22797379e+01\n",
      "  -1.31466416e+01 -1.39324419e+01 -1.46537019e+01]\n",
      " [-8.72056413e+00 -1.00737225e+01 -1.11893923e+01 -1.21562787e+01\n",
      "  -1.30184084e+01 -1.37990866e+01 -1.45145116e+01]\n",
      " [-8.61307430e+00 -9.96107355e+00 -1.10715309e+01 -1.20341881e+01\n",
      "  -1.28902277e+01 -1.36657485e+01 -1.43772391e+01]]\n"
     ]
    }
   ],
   "source": [
    "V_init = V_new\n",
    "EV = (V_init @ gamma).reshape((N,1))\n",
    "EV_mat = np.tile(EV.reshape((1,N)), (N,1))\n",
    "EV_mat[~c_pos] = -9e+4\n",
    "EV_TDarray = np.array([EV_mat for i in range(M)]) \n",
    "V_new_TDarray = Three_D_array + beta*EV_TDarray\n",
    "V_new = np.zeros((N,M))\n",
    "W_prime = np.zeros((N,M))\n",
    "for i in range(N):\n",
    "    arr = V_new_TDarray[:, i, :]\n",
    "    V_new[i] = arr.max(axis=1)\n",
    "    W_index = np.argmax(arr, axis=1)\n",
    "    W_prime[i] = W_vec[W_index]\n",
    "\n",
    "print(\"The policy function is:\", W_prime)\n",
    "print(\"The value function is:\", V_new)"
   ]
  },
  {
   "cell_type": "code",
   "execution_count": 29,
   "metadata": {},
   "outputs": [
    {
     "name": "stdout",
     "output_type": "stream",
     "text": [
      "The distance metric is: 45934472596.166245\n"
     ]
    }
   ],
   "source": [
    "delta3 = distance(V_init, V_new)\n",
    "print(\"The distance metric is:\", delta3)"
   ]
  },
  {
   "cell_type": "code",
   "execution_count": 30,
   "metadata": {},
   "outputs": [
    {
     "name": "stdout",
     "output_type": "stream",
     "text": [
      "The difference between delta_{T-2} and delta_{T-1} is:  -18683055.693359375\n"
     ]
    }
   ],
   "source": [
    "diff3 = delta3-delta2\n",
    "print(\"The difference between delta_{T-2} and delta_{T-1} is: \", diff3)"
   ]
  },
  {
   "cell_type": "code",
   "execution_count": 31,
   "metadata": {},
   "outputs": [
    {
     "name": "stdout",
     "output_type": "stream",
     "text": [
      "The difference between delta_{T-2} and delta_{T-1} is:  -29098599.93926239\n"
     ]
    }
   ],
   "source": [
    "diff4 = delta3-delta1\n",
    "print(\"The difference between delta_{T-2} and delta_{T-1} is: \", diff4)"
   ]
  },
  {
   "cell_type": "markdown",
   "metadata": {},
   "source": [
    "delta_{T-2} is smaller than delta_{T-1} and delta_{T-2} is much smaller than delta_T, Which means distance gets smaller from T-1 to T-2."
   ]
  },
  {
   "cell_type": "markdown",
   "metadata": {},
   "source": [
    "#### Exercise 5.21"
   ]
  },
  {
   "cell_type": "code",
   "execution_count": 32,
   "metadata": {
    "scrolled": false
   },
   "outputs": [
    {
     "name": "stdout",
     "output_type": "stream",
     "text": [
      "Iter= 1 , distance=  45963571196.10551\n",
      "Iter= 2 , distance=  45953155651.859604\n",
      "Iter= 3 , distance=  45934472596.166245\n",
      "Iter= 4 , distance=  45901033774.70888\n",
      "Iter= 5 , distance=  45841440579.44991\n",
      "Iter= 6 , distance=  45736060684.31199\n",
      "Iter= 7 , distance=  45552402370.20611\n",
      "Iter= 8 , distance=  45241165831.95568\n",
      "Iter= 9 , distance=  44743295702.61597\n",
      "Iter= 10 , distance=  44048017695.89585\n",
      "Iter= 11 , distance=  43443854297.730034\n",
      "Iter= 12 , distance=  44442974185.644424\n",
      "Iter= 13 , distance=  52967967667.04762\n",
      "Iter= 14 , distance=  89997648384.71588\n",
      "Iter= 15 , distance=  226554825804.06644\n",
      "Iter= 16 , distance=  457375601904.8917\n",
      "Iter= 17 , distance=  192167632805.63055\n",
      "Iter= 18 , distance=  0.0\n",
      "Yay! It converged.\n",
      "psi(W) is [[0.01 0.01 0.01 0.01 0.01 0.01 0.01]\n",
      " [0.02 0.02 0.02 0.02 0.02 0.02 0.02]\n",
      " [0.03 0.03 0.03 0.03 0.03 0.03 0.03]\n",
      " [0.04 0.04 0.04 0.04 0.04 0.04 0.04]\n",
      " [0.05 0.05 0.05 0.05 0.05 0.05 0.05]\n",
      " [0.06 0.06 0.06 0.06 0.06 0.06 0.06]\n",
      " [0.07 0.07 0.07 0.07 0.07 0.07 0.07]\n",
      " [0.08 0.08 0.08 0.08 0.08 0.08 0.08]\n",
      " [0.09 0.09 0.09 0.09 0.09 0.09 0.09]\n",
      " [0.1  0.1  0.1  0.1  0.1  0.1  0.1 ]\n",
      " [0.11 0.11 0.11 0.11 0.11 0.11 0.11]\n",
      " [0.12 0.12 0.12 0.12 0.12 0.12 0.12]\n",
      " [0.13 0.13 0.13 0.13 0.13 0.13 0.13]\n",
      " [0.14 0.14 0.14 0.14 0.14 0.14 0.14]\n",
      " [0.15 0.15 0.15 0.15 0.15 0.15 0.15]\n",
      " [0.16 0.16 0.16 0.16 0.16 0.16 0.16]\n",
      " [0.17 0.17 0.17 0.17 0.17 0.17 0.17]\n",
      " [0.18 0.18 0.18 0.18 0.18 0.18 0.18]\n",
      " [0.19 0.19 0.19 0.19 0.19 0.19 0.19]\n",
      " [0.2  0.2  0.2  0.2  0.2  0.2  0.2 ]\n",
      " [0.21 0.21 0.21 0.21 0.21 0.21 0.21]\n",
      " [0.22 0.22 0.22 0.22 0.22 0.22 0.22]\n",
      " [0.23 0.23 0.23 0.23 0.23 0.23 0.23]\n",
      " [0.24 0.24 0.24 0.24 0.24 0.24 0.24]\n",
      " [0.25 0.25 0.25 0.25 0.25 0.25 0.25]\n",
      " [0.26 0.26 0.26 0.26 0.26 0.26 0.26]\n",
      " [0.27 0.27 0.27 0.27 0.27 0.27 0.27]\n",
      " [0.28 0.28 0.28 0.28 0.28 0.28 0.28]\n",
      " [0.29 0.29 0.29 0.29 0.29 0.29 0.29]\n",
      " [0.3  0.3  0.3  0.3  0.3  0.3  0.3 ]\n",
      " [0.31 0.31 0.31 0.31 0.31 0.31 0.31]\n",
      " [0.32 0.32 0.32 0.32 0.32 0.32 0.32]\n",
      " [0.33 0.33 0.33 0.33 0.33 0.33 0.33]\n",
      " [0.34 0.34 0.34 0.34 0.34 0.34 0.34]\n",
      " [0.35 0.35 0.35 0.35 0.35 0.35 0.35]\n",
      " [0.36 0.36 0.36 0.36 0.36 0.36 0.36]\n",
      " [0.37 0.37 0.37 0.37 0.37 0.37 0.37]\n",
      " [0.38 0.38 0.38 0.38 0.38 0.38 0.38]\n",
      " [0.39 0.39 0.39 0.39 0.39 0.39 0.39]\n",
      " [0.4  0.4  0.4  0.4  0.4  0.4  0.4 ]\n",
      " [0.41 0.41 0.41 0.41 0.41 0.41 0.41]\n",
      " [0.42 0.42 0.42 0.42 0.42 0.42 0.42]\n",
      " [0.43 0.43 0.43 0.43 0.43 0.43 0.43]\n",
      " [0.44 0.44 0.44 0.44 0.44 0.44 0.44]\n",
      " [0.45 0.45 0.45 0.45 0.45 0.45 0.45]\n",
      " [0.46 0.46 0.46 0.46 0.46 0.46 0.46]\n",
      " [0.47 0.47 0.47 0.47 0.47 0.47 0.47]\n",
      " [0.48 0.48 0.48 0.48 0.48 0.48 0.48]\n",
      " [0.49 0.49 0.49 0.49 0.49 0.49 0.49]\n",
      " [0.5  0.5  0.5  0.5  0.5  0.5  0.5 ]\n",
      " [0.51 0.51 0.51 0.51 0.51 0.51 0.51]\n",
      " [0.52 0.52 0.52 0.52 0.52 0.52 0.52]\n",
      " [0.53 0.53 0.53 0.53 0.53 0.53 0.53]\n",
      " [0.54 0.54 0.54 0.54 0.54 0.54 0.54]\n",
      " [0.55 0.55 0.55 0.55 0.55 0.55 0.55]\n",
      " [0.56 0.56 0.56 0.56 0.56 0.56 0.56]\n",
      " [0.57 0.57 0.57 0.57 0.57 0.57 0.57]\n",
      " [0.58 0.58 0.58 0.58 0.58 0.58 0.58]\n",
      " [0.59 0.59 0.59 0.59 0.59 0.59 0.59]\n",
      " [0.6  0.6  0.6  0.6  0.6  0.6  0.6 ]\n",
      " [0.61 0.61 0.61 0.61 0.61 0.61 0.61]\n",
      " [0.62 0.62 0.62 0.62 0.62 0.62 0.62]\n",
      " [0.63 0.63 0.63 0.63 0.63 0.63 0.63]\n",
      " [0.64 0.64 0.64 0.64 0.64 0.64 0.64]\n",
      " [0.65 0.65 0.65 0.65 0.65 0.65 0.65]\n",
      " [0.66 0.66 0.66 0.66 0.66 0.66 0.66]\n",
      " [0.67 0.67 0.67 0.67 0.67 0.67 0.67]\n",
      " [0.68 0.68 0.68 0.68 0.68 0.68 0.68]\n",
      " [0.69 0.69 0.69 0.69 0.69 0.69 0.69]\n",
      " [0.7  0.7  0.7  0.7  0.7  0.7  0.7 ]\n",
      " [0.71 0.71 0.71 0.71 0.71 0.71 0.71]\n",
      " [0.72 0.72 0.72 0.72 0.72 0.72 0.72]\n",
      " [0.73 0.73 0.73 0.73 0.73 0.73 0.73]\n",
      " [0.74 0.74 0.74 0.74 0.74 0.74 0.74]\n",
      " [0.75 0.75 0.75 0.75 0.75 0.75 0.75]\n",
      " [0.76 0.76 0.76 0.76 0.76 0.76 0.76]\n",
      " [0.77 0.77 0.77 0.77 0.77 0.77 0.77]\n",
      " [0.78 0.78 0.78 0.78 0.78 0.78 0.78]\n",
      " [0.79 0.79 0.79 0.79 0.79 0.79 0.79]\n",
      " [0.8  0.8  0.8  0.8  0.8  0.8  0.8 ]\n",
      " [0.81 0.81 0.81 0.81 0.81 0.81 0.81]\n",
      " [0.82 0.82 0.82 0.82 0.82 0.82 0.82]\n",
      " [0.83 0.83 0.83 0.83 0.83 0.83 0.83]\n",
      " [0.84 0.84 0.84 0.84 0.84 0.84 0.84]\n",
      " [0.85 0.85 0.85 0.85 0.85 0.85 0.85]\n",
      " [0.86 0.86 0.86 0.86 0.86 0.86 0.86]\n",
      " [0.87 0.87 0.87 0.87 0.87 0.87 0.87]\n",
      " [0.88 0.88 0.88 0.88 0.88 0.88 0.88]\n",
      " [0.89 0.89 0.89 0.89 0.89 0.89 0.89]\n",
      " [0.9  0.9  0.9  0.9  0.9  0.9  0.9 ]\n",
      " [0.91 0.91 0.91 0.91 0.91 0.91 0.91]\n",
      " [0.92 0.92 0.92 0.92 0.92 0.92 0.92]\n",
      " [0.93 0.93 0.93 0.93 0.93 0.93 0.93]\n",
      " [0.94 0.94 0.94 0.94 0.94 0.94 0.94]\n",
      " [0.95 0.95 0.95 0.95 0.95 0.95 0.95]\n",
      " [0.96 0.96 0.96 0.96 0.96 0.96 0.96]\n",
      " [0.97 0.97 0.97 0.97 0.97 0.97 0.97]\n",
      " [0.98 0.98 0.98 0.98 0.98 0.98 0.98]\n",
      " [0.99 0.99 0.99 0.99 0.99 0.99 0.99]\n",
      " [1.   1.   1.   1.   1.   1.   1.  ]]\n",
      "V(W) is [[-81008.05904783 -81016.11809565 -81024.17714348 -81032.2361913\n",
      "  -81040.29523913 -81048.35428695 -81056.41333478]\n",
      " [-81008.05904783 -81016.11809565 -81024.17714348 -81032.2361913\n",
      "  -81040.29523913 -81048.35428695 -81056.41333478]\n",
      " [-81008.05904783 -81016.11809565 -81024.17714348 -81032.2361913\n",
      "  -81040.29523913 -81048.35428695 -81056.41333478]\n",
      " [-81008.05904783 -81016.11809565 -81024.17714348 -81032.2361913\n",
      "  -81040.29523913 -81048.35428695 -81056.41333478]\n",
      " [-81008.05904783 -81016.11809565 -81024.17714348 -81032.2361913\n",
      "  -81040.29523913 -81048.35428695 -81056.41333478]\n",
      " [-81008.05904783 -81016.11809565 -81024.17714348 -81032.2361913\n",
      "  -81040.29523913 -81048.35428695 -81056.41333478]\n",
      " [-81008.05904783 -81016.11809565 -81024.17714348 -81032.2361913\n",
      "  -81040.29523913 -81048.35428695 -81056.41333478]\n",
      " [-81008.05904783 -81016.11809565 -81024.17714348 -81032.2361913\n",
      "  -81040.29523913 -81048.35428695 -81056.41333478]\n",
      " [-81008.05904783 -81016.11809565 -81024.17714348 -81032.2361913\n",
      "  -81040.29523913 -81048.35428695 -81056.41333478]\n",
      " [-81008.05904783 -81016.11809565 -81024.17714348 -81032.2361913\n",
      "  -81040.29523913 -81048.35428695 -81056.41333478]\n",
      " [-81008.05904783 -81016.11809565 -81024.17714348 -81032.2361913\n",
      "  -81040.29523913 -81048.35428695 -81056.41333478]\n",
      " [-81008.05904783 -81016.11809565 -81024.17714348 -81032.2361913\n",
      "  -81040.29523913 -81048.35428695 -81056.41333478]\n",
      " [-81008.05904783 -81016.11809565 -81024.17714348 -81032.2361913\n",
      "  -81040.29523913 -81048.35428695 -81056.41333478]\n",
      " [-81008.05904783 -81016.11809565 -81024.17714348 -81032.2361913\n",
      "  -81040.29523913 -81048.35428695 -81056.41333478]\n",
      " [-81008.05904783 -81016.11809565 -81024.17714348 -81032.2361913\n",
      "  -81040.29523913 -81048.35428695 -81056.41333478]\n",
      " [-81008.05904783 -81016.11809565 -81024.17714348 -81032.2361913\n",
      "  -81040.29523913 -81048.35428695 -81056.41333478]\n",
      " [-81008.05904783 -81016.11809565 -81024.17714348 -81032.2361913\n",
      "  -81040.29523913 -81048.35428695 -81056.41333478]\n",
      " [-81008.05904783 -81016.11809565 -81024.17714348 -81032.2361913\n",
      "  -81040.29523913 -81048.35428695 -81056.41333478]\n",
      " [-81008.05904783 -81016.11809565 -81024.17714348 -81032.2361913\n",
      "  -81040.29523913 -81048.35428695 -81056.41333478]\n",
      " [-81008.05904783 -81016.11809565 -81024.17714348 -81032.2361913\n",
      "  -81040.29523913 -81048.35428695 -81056.41333478]\n",
      " [-81008.05904783 -81016.11809565 -81024.17714348 -81032.2361913\n",
      "  -81040.29523913 -81048.35428695 -81056.41333478]\n",
      " [-81008.05904783 -81016.11809565 -81024.17714348 -81032.2361913\n",
      "  -81040.29523913 -81048.35428695 -81056.41333478]\n",
      " [-81008.05904783 -81016.11809565 -81024.17714348 -81032.2361913\n",
      "  -81040.29523913 -81048.35428695 -81056.41333478]\n",
      " [-81008.05904783 -81016.11809565 -81024.17714348 -81032.2361913\n",
      "  -81040.29523913 -81048.35428695 -81056.41333478]\n",
      " [-81008.05904783 -81016.11809565 -81024.17714348 -81032.2361913\n",
      "  -81040.29523913 -81048.35428695 -81056.41333478]\n",
      " [-81008.05904783 -81016.11809565 -81024.17714348 -81032.2361913\n",
      "  -81040.29523913 -81048.35428695 -81056.41333478]\n",
      " [-81008.05904783 -81016.11809565 -81024.17714348 -81032.2361913\n",
      "  -81040.29523913 -81048.35428695 -81056.41333478]\n",
      " [-81008.05904783 -81016.11809565 -81024.17714348 -81032.2361913\n",
      "  -81040.29523913 -81048.35428695 -81056.41333478]\n",
      " [-81008.05904783 -81016.11809565 -81024.17714348 -81032.2361913\n",
      "  -81040.29523913 -81048.35428695 -81056.41333478]\n",
      " [-81008.05904783 -81016.11809565 -81024.17714348 -81032.2361913\n",
      "  -81040.29523913 -81048.35428695 -81056.41333478]\n",
      " [-81008.05904783 -81016.11809565 -81024.17714348 -81032.2361913\n",
      "  -81040.29523913 -81048.35428695 -81056.41333478]\n",
      " [-81008.05904783 -81016.11809565 -81024.17714348 -81032.2361913\n",
      "  -81040.29523913 -81048.35428695 -81056.41333478]\n",
      " [-81008.05904783 -81016.11809565 -81024.17714348 -81032.2361913\n",
      "  -81040.29523913 -81048.35428695 -81056.41333478]\n",
      " [-81008.05904783 -81016.11809565 -81024.17714348 -81032.2361913\n",
      "  -81040.29523913 -81048.35428695 -81056.41333478]\n",
      " [-81008.05904783 -81016.11809565 -81024.17714348 -81032.2361913\n",
      "  -81040.29523913 -81048.35428695 -81056.41333478]\n",
      " [-81008.05904783 -81016.11809565 -81024.17714348 -81032.2361913\n",
      "  -81040.29523913 -81048.35428695 -81056.41333478]\n",
      " [-81008.05904783 -81016.11809565 -81024.17714348 -81032.2361913\n",
      "  -81040.29523913 -81048.35428695 -81056.41333478]\n",
      " [-81008.05904783 -81016.11809565 -81024.17714348 -81032.2361913\n",
      "  -81040.29523913 -81048.35428695 -81056.41333478]\n",
      " [-81008.05904783 -81016.11809565 -81024.17714348 -81032.2361913\n",
      "  -81040.29523913 -81048.35428695 -81056.41333478]\n",
      " [-81008.05904783 -81016.11809565 -81024.17714348 -81032.2361913\n",
      "  -81040.29523913 -81048.35428695 -81056.41333478]\n",
      " [-81008.05904783 -81016.11809565 -81024.17714348 -81032.2361913\n",
      "  -81040.29523913 -81048.35428695 -81056.41333478]\n",
      " [-81008.05904783 -81016.11809565 -81024.17714348 -81032.2361913\n",
      "  -81040.29523913 -81048.35428695 -81056.41333478]\n",
      " [-81008.05904783 -81016.11809565 -81024.17714348 -81032.2361913\n",
      "  -81040.29523913 -81048.35428695 -81056.41333478]\n",
      " [-81008.05904783 -81016.11809565 -81024.17714348 -81032.2361913\n",
      "  -81040.29523913 -81048.35428695 -81056.41333478]\n",
      " [-81008.05904783 -81016.11809565 -81024.17714348 -81032.2361913\n",
      "  -81040.29523913 -81048.35428695 -81056.41333478]\n",
      " [-81008.05904783 -81016.11809565 -81024.17714348 -81032.2361913\n",
      "  -81040.29523913 -81048.35428695 -81056.41333478]\n",
      " [-81008.05904783 -81016.11809565 -81024.17714348 -81032.2361913\n",
      "  -81040.29523913 -81048.35428695 -81056.41333478]\n",
      " [-81008.05904783 -81016.11809565 -81024.17714348 -81032.2361913\n",
      "  -81040.29523913 -81048.35428695 -81056.41333478]\n",
      " [-81008.05904783 -81016.11809565 -81024.17714348 -81032.2361913\n",
      "  -81040.29523913 -81048.35428695 -81056.41333478]\n",
      " [-81008.05904783 -81016.11809565 -81024.17714348 -81032.2361913\n",
      "  -81040.29523913 -81048.35428695 -81056.41333478]\n",
      " [-81008.05904783 -81016.11809565 -81024.17714348 -81032.2361913\n",
      "  -81040.29523913 -81048.35428695 -81056.41333478]\n",
      " [-81008.05904783 -81016.11809565 -81024.17714348 -81032.2361913\n",
      "  -81040.29523913 -81048.35428695 -81056.41333478]\n",
      " [-81008.05904783 -81016.11809565 -81024.17714348 -81032.2361913\n",
      "  -81040.29523913 -81048.35428695 -81056.41333478]\n",
      " [-81008.05904783 -81016.11809565 -81024.17714348 -81032.2361913\n",
      "  -81040.29523913 -81048.35428695 -81056.41333478]\n",
      " [-81008.05904783 -81016.11809565 -81024.17714348 -81032.2361913\n",
      "  -81040.29523913 -81048.35428695 -81056.41333478]\n",
      " [-81008.05904783 -81016.11809565 -81024.17714348 -81032.2361913\n",
      "  -81040.29523913 -81048.35428695 -81056.41333478]\n",
      " [-81008.05904783 -81016.11809565 -81024.17714348 -81032.2361913\n",
      "  -81040.29523913 -81048.35428695 -81056.41333478]\n",
      " [-81008.05904783 -81016.11809565 -81024.17714348 -81032.2361913\n",
      "  -81040.29523913 -81048.35428695 -81056.41333478]\n",
      " [-81008.05904783 -81016.11809565 -81024.17714348 -81032.2361913\n",
      "  -81040.29523913 -81048.35428695 -81056.41333478]\n",
      " [-81008.05904783 -81016.11809565 -81024.17714348 -81032.2361913\n",
      "  -81040.29523913 -81048.35428695 -81056.41333478]\n",
      " [-81008.05904783 -81016.11809565 -81024.17714348 -81032.2361913\n",
      "  -81040.29523913 -81048.35428695 -81056.41333478]\n",
      " [-81008.05904783 -81016.11809565 -81024.17714348 -81032.2361913\n",
      "  -81040.29523913 -81048.35428695 -81056.41333478]\n",
      " [-81008.05904783 -81016.11809565 -81024.17714348 -81032.2361913\n",
      "  -81040.29523913 -81048.35428695 -81056.41333478]\n",
      " [-81008.05904783 -81016.11809565 -81024.17714348 -81032.2361913\n",
      "  -81040.29523913 -81048.35428695 -81056.41333478]\n",
      " [-81008.05904783 -81016.11809565 -81024.17714348 -81032.2361913\n",
      "  -81040.29523913 -81048.35428695 -81056.41333478]\n",
      " [-81008.05904783 -81016.11809565 -81024.17714348 -81032.2361913\n",
      "  -81040.29523913 -81048.35428695 -81056.41333478]\n",
      " [-81008.05904783 -81016.11809565 -81024.17714348 -81032.2361913\n",
      "  -81040.29523913 -81048.35428695 -81056.41333478]\n",
      " [-81008.05904783 -81016.11809565 -81024.17714348 -81032.2361913\n",
      "  -81040.29523913 -81048.35428695 -81056.41333478]\n",
      " [-81008.05904783 -81016.11809565 -81024.17714348 -81032.2361913\n",
      "  -81040.29523913 -81048.35428695 -81056.41333478]\n",
      " [-81008.05904783 -81016.11809565 -81024.17714348 -81032.2361913\n",
      "  -81040.29523913 -81048.35428695 -81056.41333478]\n",
      " [-81008.05904783 -81016.11809565 -81024.17714348 -81032.2361913\n",
      "  -81040.29523913 -81048.35428695 -81056.41333478]\n",
      " [-81008.05904783 -81016.11809565 -81024.17714348 -81032.2361913\n",
      "  -81040.29523913 -81048.35428695 -81056.41333478]\n",
      " [-81008.05904783 -81016.11809565 -81024.17714348 -81032.2361913\n",
      "  -81040.29523913 -81048.35428695 -81056.41333478]\n",
      " [-81008.05904783 -81016.11809565 -81024.17714348 -81032.2361913\n",
      "  -81040.29523913 -81048.35428695 -81056.41333478]\n",
      " [-81008.05904783 -81016.11809565 -81024.17714348 -81032.2361913\n",
      "  -81040.29523913 -81048.35428695 -81056.41333478]\n",
      " [-81008.05904783 -81016.11809565 -81024.17714348 -81032.2361913\n",
      "  -81040.29523913 -81048.35428695 -81056.41333478]\n",
      " [-81008.05904783 -81016.11809565 -81024.17714348 -81032.2361913\n",
      "  -81040.29523913 -81048.35428695 -81056.41333478]\n",
      " [-81008.05904783 -81016.11809565 -81024.17714348 -81032.2361913\n",
      "  -81040.29523913 -81048.35428695 -81056.41333478]\n",
      " [-81008.05904783 -81016.11809565 -81024.17714348 -81032.2361913\n",
      "  -81040.29523913 -81048.35428695 -81056.41333478]\n",
      " [-81008.05904783 -81016.11809565 -81024.17714348 -81032.2361913\n",
      "  -81040.29523913 -81048.35428695 -81056.41333478]\n",
      " [-81008.05904783 -81016.11809565 -81024.17714348 -81032.2361913\n",
      "  -81040.29523913 -81048.35428695 -81056.41333478]\n",
      " [-81008.05904783 -81016.11809565 -81024.17714348 -81032.2361913\n",
      "  -81040.29523913 -81048.35428695 -81056.41333478]\n",
      " [-81008.05904783 -81016.11809565 -81024.17714348 -81032.2361913\n",
      "  -81040.29523913 -81048.35428695 -81056.41333478]\n",
      " [-81008.05904783 -81016.11809565 -81024.17714348 -81032.2361913\n",
      "  -81040.29523913 -81048.35428695 -81056.41333478]\n",
      " [-81008.05904783 -81016.11809565 -81024.17714348 -81032.2361913\n",
      "  -81040.29523913 -81048.35428695 -81056.41333478]\n",
      " [-81008.05904783 -81016.11809565 -81024.17714348 -81032.2361913\n",
      "  -81040.29523913 -81048.35428695 -81056.41333478]\n",
      " [-81008.05904783 -81016.11809565 -81024.17714348 -81032.2361913\n",
      "  -81040.29523913 -81048.35428695 -81056.41333478]\n",
      " [-81008.05904783 -81016.11809565 -81024.17714348 -81032.2361913\n",
      "  -81040.29523913 -81048.35428695 -81056.41333478]\n",
      " [-81008.05904783 -81016.11809565 -81024.17714348 -81032.2361913\n",
      "  -81040.29523913 -81048.35428695 -81056.41333478]\n",
      " [-81008.05904783 -81016.11809565 -81024.17714348 -81032.2361913\n",
      "  -81040.29523913 -81048.35428695 -81056.41333478]\n",
      " [-81008.05904783 -81016.11809565 -81024.17714348 -81032.2361913\n",
      "  -81040.29523913 -81048.35428695 -81056.41333478]\n",
      " [-81008.05904783 -81016.11809565 -81024.17714348 -81032.2361913\n",
      "  -81040.29523913 -81048.35428695 -81056.41333478]\n",
      " [-81008.05904783 -81016.11809565 -81024.17714348 -81032.2361913\n",
      "  -81040.29523913 -81048.35428695 -81056.41333478]\n",
      " [-81008.05904783 -81016.11809565 -81024.17714348 -81032.2361913\n",
      "  -81040.29523913 -81048.35428695 -81056.41333478]\n",
      " [-81008.05904783 -81016.11809565 -81024.17714348 -81032.2361913\n",
      "  -81040.29523913 -81048.35428695 -81056.41333478]\n",
      " [-81008.05904783 -81016.11809565 -81024.17714348 -81032.2361913\n",
      "  -81040.29523913 -81048.35428695 -81056.41333478]\n",
      " [-81008.05904783 -81016.11809565 -81024.17714348 -81032.2361913\n",
      "  -81040.29523913 -81048.35428695 -81056.41333478]\n",
      " [-81008.05904783 -81016.11809565 -81024.17714348 -81032.2361913\n",
      "  -81040.29523913 -81048.35428695 -81056.41333478]\n",
      " [-81008.05904783 -81016.11809565 -81024.17714348 -81032.2361913\n",
      "  -81040.29523913 -81048.35428695 -81056.41333478]\n",
      " [-81008.05904783 -81016.11809565 -81024.17714348 -81032.2361913\n",
      "  -81040.29523913 -81048.35428695 -81056.41333478]]\n",
      "After 18 times of iterations, V(W) converged.\n"
     ]
    }
   ],
   "source": [
    "maxiters = 500\n",
    "toler = 1e-9\n",
    "delta = 10.0\n",
    "VF_iter = 0\n",
    "V_init = np.zeros((N,M))\n",
    "\n",
    "while delta>toler and VF_iter<maxiters:\n",
    "    VF_iter += 1\n",
    "    EV = (V_init @ gamma).reshape((N,1)) \n",
    "    EV_mat = np.tile(EV.reshape((1,N)), (N,1))\n",
    "    EV_mat[~c_pos] = -9e+4\n",
    "    EV_TDarray = np.array([EV_mat for e in range(M)])\n",
    "    V_new_TDarray = Three_D_array + beta*EV_TDarray\n",
    "    V_new = np.zeros((N,M))\n",
    "    W_prime = np.zeros((N,M))\n",
    "    for i in range(N):\n",
    "        arr = V_new_TDarray[:, i, :]\n",
    "        V_new[i] = arr.max(axis=1)\n",
    "        W_index = np.argmax(arr, axis=1)\n",
    "        W_prime[i] = W_vec[W_index]\n",
    "    delta = distance(V_init, V_new)\n",
    "    V_init = V_new\n",
    "    print('Iter=', VF_iter, ', distance= ', delta)\n",
    "    \n",
    "print(\"Yay! It converged.\")\n",
    "print(\"psi(W) is\", W_prime)\n",
    "print(\"V(W) is\", V_init)\n",
    "print(\"After {} times of iterations, V(W) converged.\".format(VF_iter))"
   ]
  },
  {
   "cell_type": "markdown",
   "metadata": {},
   "source": [
    "#### Exercise 5.22"
   ]
  },
  {
   "cell_type": "code",
   "execution_count": 33,
   "metadata": {},
   "outputs": [
    {
     "data": {
      "image/png": "[encoded data removed]",
      "text/plain": [
       "<Figure size 720x576 with 1 Axes>"
      ]
     },
     "metadata": {
      "needs_background": "light"
     },
     "output_type": "display_data"
    }
   ],
   "source": [
    "X, Y = np.meshgrid(W_vec, epsilon)\n",
    "fig = plt.figure(figsize=(10, 8))\n",
    "ax = fig.add_subplot(111, projection='3d')\n",
    "ax.plot_surface(X.T, Y.T, W_prime)\n",
    "ax.set_xlabel('W_vec')\n",
    "ax.set_ylabel('epsilon')\n",
    "ax.set_title('Converged Policy Function')\n",
    "ax.view_init(elev=30,azim=30)\n",
    "plt.show()"
   ]
  },
  {
   "cell_type": "code",
   "execution_count": null,
   "metadata": {},
   "outputs": [],
   "source": []
  }
 ],
 "metadata": {
  "kernelspec": {
   "display_name": "Python 3",
   "language": "python",
   "name": "python3"
  },
  "language_info": {
   "codemirror_mode": {
    "name": "ipython",
    "version": 3
   },
   "file_extension": ".py",
   "mimetype": "text/x-python",
   "name": "python",
   "nbconvert_exporter": "python",
   "pygments_lexer": "ipython3",
   "version": "3.6.8"
  }
 },
 "nbformat": 4,
 "nbformat_minor": 2
}
