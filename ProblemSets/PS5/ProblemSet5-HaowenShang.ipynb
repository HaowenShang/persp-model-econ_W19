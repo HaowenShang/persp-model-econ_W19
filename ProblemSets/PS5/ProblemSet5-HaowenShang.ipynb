{
 "cells": [
  {
   "cell_type": "markdown",
   "metadata": {},
   "source": [
    "### Problem Set 5\n",
    "#### MACS 30150, Dr. Evans\n",
    "#### Due Wednesday, Feb. 13 at 11:30am\n",
    "#### Haowen Shang"
   ]
  },
  {
   "cell_type": "markdown",
   "metadata": {},
   "source": [
    "#### 1. Some income data, lognormal distribution, and GMM."
   ]
  },
  {
   "cell_type": "code",
   "execution_count": 1,
   "metadata": {},
   "outputs": [],
   "source": [
    "import numpy as np\n",
    "import numpy.linalg as lin\n",
    "import matplotlib.pyplot as plt\n",
    "import warnings\n",
    "import scipy.stats as sts\n",
    "import scipy.integrate as intgr\n",
    "import scipy.optimize as opt\n",
    "import pandas as pd"
   ]
  },
  {
   "cell_type": "code",
   "execution_count": 2,
   "metadata": {},
   "outputs": [],
   "source": [
    "warnings.filterwarnings(\"ignore\")"
   ]
  },
  {
   "cell_type": "markdown",
   "metadata": {},
   "source": [
    "#### (a)Plot a histogram of percentages of the income.txt data with 30 bins."
   ]
  },
  {
   "cell_type": "code",
   "execution_count": 3,
   "metadata": {},
   "outputs": [],
   "source": [
    "# Load the data as a Pandas dataframe\n",
    "df = pd.read_csv(\"data/incomes.txt\", names=[\"income\"])"
   ]
  },
  {
   "cell_type": "code",
   "execution_count": 4,
   "metadata": {},
   "outputs": [
    {
     "data": {
      "text/plain": [
       "Text(0, 0.5, 'Percent of incomes')"
      ]
     },
     "execution_count": 4,
     "metadata": {},
     "output_type": "execute_result"
    },
    {
     "data": {
      "image/png": "[encoded data removed]",
      "text/plain": [
       "<Figure size 432x288 with 1 Axes>"
      ]
     },
     "metadata": {
      "needs_background": "light"
     },
     "output_type": "display_data"
    }
   ],
   "source": [
    "num_bins = 30\n",
    "plt.hist(df['income'], num_bins, normed=True, edgecolor='k')\n",
    "plt.title('Annual incomes of MACSS students who graduated in 2018-2020', fontsize=10)\n",
    "plt.xlabel('Annual incomes')\n",
    "plt.ylabel('Percent of incomes')"
   ]
  },
  {
   "cell_type": "markdown",
   "metadata": {},
   "source": [
    "#### (b) Estimate the parameters of the lognormal distribution by generalized method of moments."
   ]
  },
  {
   "cell_type": "code",
   "execution_count": 5,
   "metadata": {},
   "outputs": [],
   "source": [
    "def trunc_lognorm_pdf(xvals, mu, sigma, cut_lb, cut_ub):\n",
    "\n",
    "    if cut_ub == 'None' and cut_lb == 'None':\n",
    "        prob_notcut = 1.0\n",
    "    elif cut_ub == 'None' and cut_lb != 'None':\n",
    "        prob_notcut = 1.0 - sts.lognorm.cdf(cut_lb, sigma, scale=np.exp(mu))\n",
    "    elif cut_ub != 'None' and cut_lb == 'None':\n",
    "        prob_notcut = sts.lognorm.cdf(cut_ub, sigma,scale=np.exp(mu))\n",
    "    elif cut_ub != 'None' and cut_lb != 'None':\n",
    "        prob_notcut = (sts.lognorm.cdf(cut_ub, sigma,scale=np.exp(mu)) -\n",
    "                       sts.lognorm.cdf(cut_lb, sigma,scale=np.exp(mu)))\n",
    "            \n",
    "    pdf_vals    = ((1/(xvals*sigma * np.sqrt(2 * np.pi)) *\n",
    "                    np.exp( - (np.log(xvals) - mu)**2 / (2 * sigma**2))) /\n",
    "                    prob_notcut)\n",
    "    \n",
    "    return pdf_vals"
   ]
  },
  {
   "cell_type": "code",
   "execution_count": 6,
   "metadata": {},
   "outputs": [],
   "source": [
    "def data_moments(xvals):\n",
    "    \n",
    "    mean_data = xvals.mean()\n",
    "    std_data = xvals.std()\n",
    "    \n",
    "    return mean_data, std_data"
   ]
  },
  {
   "cell_type": "code",
   "execution_count": 7,
   "metadata": {},
   "outputs": [],
   "source": [
    "def model_moments(mu, sigma, cut_lb, cut_ub):\n",
    "   \n",
    "    xfx = lambda x: x * trunc_lognorm_pdf(x, mu, sigma, cut_lb, cut_ub)\n",
    "    (mean_model, m_m_err) = intgr.quad(xfx, cut_lb, cut_ub)\n",
    "    x2fx = lambda x: ((x - mean_model) ** 2) * trunc_lognorm_pdf(x, mu, sigma, cut_lb, cut_ub)\n",
    "    (var_model, v_m_err) = intgr.quad(x2fx, cut_lb, cut_ub)\n",
    "    \n",
    "    return mean_model, np.sqrt(var_model)"
   ]
  },
  {
   "cell_type": "code",
   "execution_count": 8,
   "metadata": {},
   "outputs": [],
   "source": [
    "def err_vec(xvals, mu, sigma, cut_lb, cut_ub, simple):\n",
    "\n",
    "    mean_data, var_data = data_moments(xvals)\n",
    "    moms_data = np.array([[mean_data], [var_data]])\n",
    "    mean_model, std_model = model_moments(mu, sigma, cut_lb, cut_ub)\n",
    "    moms_model = np.array([[mean_model], [std_model]])\n",
    "    if simple:\n",
    "        err_vec = moms_model - moms_data\n",
    "    else:\n",
    "        err_vec = (moms_model - moms_data) / moms_data\n",
    "    \n",
    "    return err_vec"
   ]
  },
  {
   "cell_type": "code",
   "execution_count": 9,
   "metadata": {},
   "outputs": [],
   "source": [
    "def criterion(params, *args):\n",
    "    \n",
    "    mu, sigma = params\n",
    "    xvals, cut_lb, cut_ub, W = args\n",
    "    err = err_vec(xvals, mu, sigma, cut_lb, cut_ub,simple=False)\n",
    "    crit_val = err.T @ W @ err\n",
    "    \n",
    "    return crit_val"
   ]
  },
  {
   "cell_type": "code",
   "execution_count": 10,
   "metadata": {},
   "outputs": [
    {
     "name": "stdout",
     "output_type": "stream",
     "text": [
      "mu_GMM1= 11.333533482547029  sig_GMM1= 0.21386191435240354\n"
     ]
    }
   ],
   "source": [
    "mu_init = 11\n",
    "sig_init = 0.5\n",
    "params_init = np.array([mu_init, sig_init])\n",
    "W_hat = np.eye(2)\n",
    "gmm_args = (df['income'], 0, 150000, W_hat)\n",
    "results = opt.minimize(criterion, params_init, args=(gmm_args), tol=1e-14,\n",
    "                       method='L-BFGS-B', bounds=((None, None), (1e-10, None)))\n",
    "mu_GMM1, sig_GMM1 = results.x\n",
    "print('mu_GMM1=', mu_GMM1, ' sig_GMM1=', sig_GMM1)"
   ]
  },
  {
   "cell_type": "code",
   "execution_count": 11,
   "metadata": {},
   "outputs": [
    {
     "name": "stdout",
     "output_type": "stream",
     "text": [
      "Mean of points = 85276.82360625811 , Standard Deviation of points = 18037.692869371564\n",
      "Mean of model = 85276.82405894178 , Standard Deviation = 18037.692424756886\n",
      "Error vector= [ 5.30840212e-09 -2.46491988e-08]\n",
      "GMM criterion function: [[6.35762135e-16]]\n"
     ]
    }
   ],
   "source": [
    "mean_data, std_data = data_moments(df['income'])\n",
    "mean_model, std_model = model_moments(mu_GMM1, sig_GMM1, 0.0, 150000.0)\n",
    "err1 = err_vec(df['income'], mu_GMM1, sig_GMM1, 0.0, 150000.0, False).reshape(2,)\n",
    "print('Mean of points =', mean_data, ', Standard Deviation of points =', std_data)\n",
    "print('Mean of model =', mean_model, ', Standard Deviation =', std_model)\n",
    "print('Error vector=', err1)\n",
    "print('GMM criterion function:',results.fun)"
   ]
  },
  {
   "cell_type": "code",
   "execution_count": 12,
   "metadata": {},
   "outputs": [
    {
     "name": "stdout",
     "output_type": "stream",
     "text": [
      "the difference between mean of data and mean from model is: 0.0004526836710283533\n",
      "the difference between standard deviation of data and that from model is: 0.00044461467768996954\n"
     ]
    }
   ],
   "source": [
    "print(\"the difference between mean of data and mean from model is:\",abs(mean_data-mean_model))\n",
    "print(\"the difference between standard deviation of data and that from model is:\",abs(std_data-std_model))"
   ]
  },
  {
   "cell_type": "code",
   "execution_count": 13,
   "metadata": {},
   "outputs": [
    {
     "data": {
      "text/plain": [
       "<matplotlib.legend.Legend at 0x11f4f58d0>"
      ]
     },
     "execution_count": 13,
     "metadata": {},
     "output_type": "execute_result"
    },
    {
     "data": {
      "image/png": "[encoded data removed]",
      "text/plain": [
       "<Figure size 432x288 with 1 Axes>"
      ]
     },
     "metadata": {
      "needs_background": "light"
     },
     "output_type": "display_data"
    }
   ],
   "source": [
    "num_bins = 30\n",
    "plt.hist(df['income'], num_bins, normed=True, edgecolor='k')\n",
    "plt.title('Annual incomes of MACSS students who graduated in 2018-2020', fontsize=10)\n",
    "plt.xlabel('Annual incomes')\n",
    "plt.ylabel('Percent of incomes')\n",
    "\n",
    "dist_pts = np.linspace(0, 150000, 1000)\n",
    "plt.plot(dist_pts, trunc_lognorm_pdf(dist_pts, mu_GMM1, sig_GMM1, 0.0, 150000),\n",
    "         linewidth=2, color='r', label='1: $\\mu_{GMM1}$,$\\sigma_{GMM1}$')\n",
    "plt.legend(loc='upper left')"
   ]
  },
  {
   "cell_type": "markdown",
   "metadata": {},
   "source": [
    "#### (c) Perform the two-step GMM estimator"
   ]
  },
  {
   "cell_type": "code",
   "execution_count": 14,
   "metadata": {},
   "outputs": [],
   "source": [
    "def get_Err_mat2(pts, mu, sigma, cut_lb, cut_ub, simple=False):\n",
    "  \n",
    "    R = 2\n",
    "    N = len(pts)\n",
    "    Err_mat = np.zeros((R, N))\n",
    "    mean_model, std_model = model_moments(mu, sigma, cut_lb, cut_ub)\n",
    "    if simple:\n",
    "        Err_mat[0, :] = pts - mean_model\n",
    "        Err_mat[1, :] = (np.sqrt((mean_data - pts) ** 2)) - std_model\n",
    "    else:\n",
    "        Err_mat[0, :] = (pts - mean_model) / mean_model\n",
    "        Err_mat[1, :] = (np.sqrt((mean_data - pts) ** 2) - std_model) / std_model\n",
    "    \n",
    "    return Err_mat"
   ]
  },
  {
   "cell_type": "code",
   "execution_count": 15,
   "metadata": {},
   "outputs": [
    {
     "name": "stdout",
     "output_type": "stream",
     "text": [
      "Omega_2:  [[0.04451671 0.0271726 ]\n",
      " [0.0271726  0.40492074]]\n",
      "W_hat2:  [[23.42289977 -1.57181651]\n",
      " [-1.57181651  2.57509742]]\n"
     ]
    }
   ],
   "source": [
    "Err_mat = get_Err_mat2(df[\"income\"], mu_GMM1, sig_GMM1, 0, 150000, simple = False)\n",
    "VCV2 = (1 / df[\"income\"].shape[0]) * (Err_mat @ Err_mat.T)#\n",
    "print(\"Omega_2: \",VCV2)\n",
    "W_hat2 = lin.inv(VCV2)\n",
    "print(\"W_hat2: \",W_hat2)"
   ]
  },
  {
   "cell_type": "code",
   "execution_count": 16,
   "metadata": {},
   "outputs": [
    {
     "name": "stdout",
     "output_type": "stream",
     "text": [
      "mu_GMM2= 11.333533482547029  sig_GMM2= 0.21386191435240354\n"
     ]
    }
   ],
   "source": [
    "mu_init = 11\n",
    "sig_init = 0.5\n",
    "params_init = np.array([mu_GMM1, sig_GMM1])\n",
    "gmm_args = (df['income'], 0.0, 150000, W_hat2)\n",
    "results2 = opt.minimize(criterion, params_init, args=(gmm_args),\n",
    "                       method='L-BFGS-B', bounds=((1e-10, None), (1e-10, None)))\n",
    "mu_GMM2, sig_GMM2 = results.x\n",
    "print('mu_GMM2=', mu_GMM2, ' sig_GMM2=', sig_GMM2)"
   ]
  },
  {
   "cell_type": "code",
   "execution_count": 17,
   "metadata": {},
   "outputs": [
    {
     "name": "stdout",
     "output_type": "stream",
     "text": [
      "Mean of points = 85276.82360625811 , Standard Deviation of points = 18037.692869371564\n",
      "Mean of model = 85276.82405894178 , Standard Deviation of model = 18037.692424756886\n",
      "Error vector= [ 5.30840212e-09 -2.46491988e-08]\n",
      "GMM criterion function: [[2.63596008e-15]]\n"
     ]
    }
   ],
   "source": [
    "mean_model2, std_model2 = model_moments(mu_GMM2, sig_GMM2, 0.0, 150000.0)\n",
    "err2 = err_vec(df['income'], mu_GMM2, sig_GMM2, 0.0, 150000.0, False).reshape(2,)\n",
    "print('Mean of points =', mean_data, ', Standard Deviation of points =', std_data)\n",
    "print('Mean of model =', mean_model2, ', Standard Deviation of model =', std_model2)\n",
    "print('Error vector=', err2)\n",
    "print('GMM criterion function:',results2.fun)"
   ]
  },
  {
   "cell_type": "code",
   "execution_count": 18,
   "metadata": {},
   "outputs": [
    {
     "name": "stdout",
     "output_type": "stream",
     "text": [
      "the difference between mean of data and mean from model is: 0.0004526836710283533\n",
      "the difference between standard deviation of data and that from model is: 0.00044461467768996954\n"
     ]
    }
   ],
   "source": [
    "print(\"the difference between mean of data and mean from model is:\",abs(mean_data-mean_model2))\n",
    "print(\"the difference between standard deviation of data and that from model is:\",abs(std_data-std_model2))"
   ]
  },
  {
   "cell_type": "code",
   "execution_count": 19,
   "metadata": {},
   "outputs": [
    {
     "data": {
      "text/plain": [
       "<matplotlib.legend.Legend at 0x11f577c50>"
      ]
     },
     "execution_count": 19,
     "metadata": {},
     "output_type": "execute_result"
    },
    {
     "data": {
      "image/png": "[encoded data removed]",
      "text/plain": [
       "<Figure size 432x288 with 1 Axes>"
      ]
     },
     "metadata": {
      "needs_background": "light"
     },
     "output_type": "display_data"
    }
   ],
   "source": [
    "num_bins = 30\n",
    "plt.hist(df['income'], num_bins, normed=True, edgecolor='k')\n",
    "plt.title('Annual incomes of MACSS students who graduated in 2018-2020', fontsize=10)\n",
    "plt.xlabel('Annual incomes')\n",
    "plt.ylabel('Percent of incomes')\n",
    "\n",
    "dist_pts = np.linspace(0, 150000, 1000)\n",
    "plt.plot(dist_pts, trunc_lognorm_pdf(dist_pts, mu_GMM1, sig_GMM1, 0.0, 150000),\n",
    "         linewidth=2, color='r', label='1: $\\mu_{GMM1}$,$\\sigma_{GMM1}$')\n",
    "plt.legend(loc='upper left')\n",
    "\n",
    "dist_pts = np.linspace(0, 150000, 1000)\n",
    "plt.plot(dist_pts, trunc_lognorm_pdf(dist_pts, mu_GMM2, sig_GMM2, 0.0, 150000),\n",
    "         linewidth=2, color='g', label='1: $\\mu=400$,$\\sigma=70$')\n",
    "plt.legend(loc='upper left')"
   ]
  },
  {
   "cell_type": "markdown",
   "metadata": {},
   "source": [
    "#### (d) Estimate the lognormal PDF to fit the data by GMM using different moments."
   ]
  },
  {
   "cell_type": "code",
   "execution_count": 20,
   "metadata": {},
   "outputs": [],
   "source": [
    "def data_moments3(xvals):\n",
    "    \n",
    "    bpct_1_dat = xvals[xvals <75000].shape[0] / xvals.shape[0]\n",
    "    bpct_2_dat = (xvals[(xvals >=75000) & (xvals < 100000)].shape[0] /\n",
    "                  xvals.shape[0])\n",
    "    bpct_3_dat = xvals[xvals >= 100000].shape[0] / xvals.shape[0]\n",
    "\n",
    "    return bpct_1_dat, bpct_2_dat, bpct_3_dat"
   ]
  },
  {
   "cell_type": "code",
   "execution_count": 21,
   "metadata": {},
   "outputs": [],
   "source": [
    "def model_moments3(mu, sigma, cut_lb, cut_ub):\n",
    "   \n",
    "    xfx = lambda x: trunc_lognorm_pdf(x, mu, sigma, cut_lb, cut_ub)\n",
    "    (bpct_1_mod, bp_1_err) = intgr.quad(xfx, 0.0, 75000)\n",
    "    (bpct_2_mod, bp_2_err) = intgr.quad(xfx, 75000, 100000)\n",
    "    (bpct_3_mod, bp_3_err) = intgr.quad(xfx, 100000, 150000)\n",
    "    \n",
    "    return bpct_1_mod, bpct_2_mod, bpct_3_mod"
   ]
  },
  {
   "cell_type": "code",
   "execution_count": 22,
   "metadata": {},
   "outputs": [],
   "source": [
    "def err_vec3(xvals, mu, sigma, cut_lb, cut_ub, simple):\n",
    "   \n",
    "    bpct_1_dat, bpct_2_dat, bpct_3_dat = data_moments3(xvals)\n",
    "    moms_data = np.array([[bpct_1_dat], [bpct_2_dat], [bpct_3_dat]])\n",
    "    bpct_1_mod, bpct_2_mod, bpct_3_mod = model_moments3(mu, sigma, cut_lb, cut_ub)\n",
    "    moms_model = np.array([[bpct_1_mod], [bpct_2_mod], [bpct_3_mod]])\n",
    "    if simple:\n",
    "        err_vec = moms_model - moms_data\n",
    "    else:\n",
    "        err_vec = (moms_model - moms_data) / moms_data\n",
    "    \n",
    "    return err_vec"
   ]
  },
  {
   "cell_type": "code",
   "execution_count": 23,
   "metadata": {},
   "outputs": [],
   "source": [
    "def criterion3(params, *args):\n",
    "    \n",
    "    mu, sigma = params\n",
    "    xvals, cut_lb, cut_ub, W = args\n",
    "    err = err_vec3(xvals, mu, sigma, cut_lb, cut_ub, simple=False)\n",
    "    crit_val = err.T @ W @ err \n",
    "    \n",
    "    return crit_val"
   ]
  },
  {
   "cell_type": "code",
   "execution_count": 24,
   "metadata": {},
   "outputs": [],
   "source": [
    "\n",
    "\n",
    "def model_moments3(mu, sigma, cut_lb=0.0, cut_ub=150000.0):\n",
    "    xfx = lambda x: sts.lognorm.pdf(x, scale = np.exp(mu), s=sigma)\n",
    "    (mom1_model, m_m_err) = intgr.quad(xfx, 0, 75000)\n",
    "    (mom2_model, m_m_err)= intgr.quad(xfx, 75000, 100000)\n",
    "    (mom3_model, m_m_err) = intgr.quad(xfx, 100000, np.inf)    \n",
    "    return mom1_model,mom2_model,mom3_model\n",
    "\n",
    "def err_vec3(x, mu, sigma, cut_lb, cut_ub, simple):\n",
    "  \n",
    "    mom1_data, mom2_data,mom3_data = data_moments3(x)\n",
    "    mom_data = np.array([[mom1_data], [mom2_data],[mom3_data]])\n",
    "    mom1_model,mom2_model,mom3_model = model_moments3(mu, sigma, cut_lb, cut_ub)\n",
    "    mom_model = np.array([[mom1_model],[mom2_model],[mom3_model]])\n",
    "    \n",
    "    if simple:\n",
    "        err_vec = mom_model - mom_data\n",
    "    else:\n",
    "        err_vec = (mom_model - mom_data) / mom_data\n",
    "    \n",
    "    return err_vec\n",
    "\n",
    "def crit3(params, *args):\n",
    "\n",
    "    mu, sigma = params\n",
    "    x, cut_lb, cut_ub, W = args\n",
    "    err = err_vec3(x, mu, sigma, cut_lb, cut_ub, simple=False)\n",
    "    crit_val = err.T @ W @ err\n",
    "    \n",
    "    return crit_val"
   ]
  },
  {
   "cell_type": "code",
   "execution_count": 25,
   "metadata": {},
   "outputs": [
    {
     "name": "stdout",
     "output_type": "stream",
     "text": [
      "mu_GMM1_3= 11.335681325706041  sig_GMM1_3= 0.2105984529392122\n"
     ]
    }
   ],
   "source": [
    "#Estimate the lognormal PDF to fit the data by GMM using different moments\n",
    "mu_init=11\n",
    "sigma_init=0.5\n",
    "para_init=(mu_init,sigma_init)\n",
    "W_hat1_3 = np.eye(3)\n",
    "gmm_args = (df['income'], 0.0, 150000.0, W_hat1_3)\n",
    "\n",
    "results_3 = opt.minimize(criterion3, para_init, args=(gmm_args),\n",
    "                       method='L-BFGS-B', bounds=((None, None), (1e-10, None)))\n",
    "\n",
    "mu_GMM1_3, sig_GMM1_3 = results_3.x\n",
    "print('mu_GMM1_3=', mu_GMM1_3, ' sig_GMM1_3=', sig_GMM1_3)\n"
   ]
  },
  {
   "cell_type": "code",
   "execution_count": 26,
   "metadata": {},
   "outputs": [
    {
     "name": "stdout",
     "output_type": "stream",
     "text": [
      "Error vector= [ 1.93122686e-08  1.37049521e-08 -6.32307821e-08]\n",
      "GMM criterion function: [[4.55892124e-15]]\n"
     ]
    }
   ],
   "source": [
    "err3 = err_vec3(df['income'], mu_GMM1_3, sig_GMM1_3, 0.0, 150000.0, False).reshape(3,)\n",
    "\n",
    "print('Error vector=', err3)\n",
    "print('GMM criterion function:',results_3.fun)\n"
   ]
  },
  {
   "cell_type": "code",
   "execution_count": 27,
   "metadata": {},
   "outputs": [
    {
     "name": "stdout",
     "output_type": "stream",
     "text": [
      "1st moment of data: 0.3 2nd moment of data: 0.5 3rd moment of data: 0.2\n",
      "1st moment from model: 0.3000000057936806 2nd moment from model: 0.500000006852476 3rd moment from model: 0.19999998735384358\n",
      "the difference between 1st moment of data and 1st moment from model is: 5.793680590837624e-09\n",
      "the difference between 2nd moment of data and 2nd moment from model is: 6.852476031049548e-09\n",
      "the difference between 3rd moment of data and 3rd moment from model is: 1.2646156427598143e-08\n"
     ]
    }
   ],
   "source": [
    "mom1_data, mom2_data,mom3_data = data_moments3(df[\"income\"])\n",
    "mom1_model,mom2_model,mom3_model = model_moments3(mu_GMM1_3, sig_GMM1_3,0,150000)\n",
    "print( \"1st moment of data:\",mom1_data,\"2nd moment of data:\",mom2_data,\"3rd moment of data:\",mom3_data)\n",
    "print( \"1st moment from model:\",mom1_model,\"2nd moment from model:\",mom2_model,\"3rd moment from model:\",mom3_model)\n",
    "print(\"the difference between 1st moment of data and 1st moment from model is:\",abs(mom1_data-mom1_model))\n",
    "print(\"the difference between 2nd moment of data and 2nd moment from model is:\",abs(mom2_data-mom2_model))\n",
    "print(\"the difference between 3rd moment of data and 3rd moment from model is:\",abs(mom3_data-mom3_model))\n"
   ]
  },
  {
   "cell_type": "code",
   "execution_count": 28,
   "metadata": {},
   "outputs": [
    {
     "data": {
      "text/plain": [
       "<matplotlib.legend.Legend at 0x11fc29160>"
      ]
     },
     "execution_count": 28,
     "metadata": {},
     "output_type": "execute_result"
    },
    {
     "data": {
      "image/png": "[encoded data removed]",
      "text/plain": [
       "<Figure size 432x288 with 1 Axes>"
      ]
     },
     "metadata": {
      "needs_background": "light"
     },
     "output_type": "display_data"
    }
   ],
   "source": [
    "num_bins = 30\n",
    "plt.hist(df['income'], num_bins, normed=True, edgecolor='k')\n",
    "plt.title('Annual incomes of MACSS students who graduated in 2018-2020', fontsize=10)\n",
    "plt.xlabel('Annual incomes')\n",
    "plt.ylabel('Percent of incomes')\n",
    "\n",
    "# Plot the estimated GMM PDF using three moments with identity matrix\n",
    "plt.plot(dist_pts, trunc_lognorm_pdf(dist_pts, mu_GMM1_3, sig_GMM1_3, 0.0, 150000),\n",
    "         linewidth=2, color='k', label='1: $\\mu_{GMM3}$,$\\sigma_{GMM3}$')\n",
    "plt.legend(loc='upper left')\n"
   ]
  },
  {
   "cell_type": "markdown",
   "metadata": {},
   "source": [
    "#### (e) Perform the two-step GMM estimator"
   ]
  },
  {
   "cell_type": "code",
   "execution_count": 29,
   "metadata": {},
   "outputs": [],
   "source": [
    "def get_Err_mat3(pts, mu, sigma, cut_lb, cut_ub, simple=False):\n",
    "   \n",
    "    R = 3\n",
    "    N = len(pts)\n",
    "    Err_mat = np.zeros((R, N))\n",
    "    pct_1_mod, pct_2_mod, pct_3_mod = \\\n",
    "        model_moments3(mu, sigma, cut_lb, cut_ub)\n",
    "    if simple:\n",
    "        pts_in_grp1 = pts < 75000\n",
    "        Err_mat[0, :] = pts_in_grp1 - pct_1_mod\n",
    "        pts_in_grp2 = (pts >= 75000) & (pts < 100000)\n",
    "        Err_mat[1, :] = pts_in_grp2 - pct_2_mod\n",
    "        pts_in_grp3 = pts >= 100000\n",
    "        Err_mat[2, :] = pts_in_grp3 - pct_3_mod\n",
    "\n",
    "    else:\n",
    "        pts_in_grp1 = pts < 75000\n",
    "        Err_mat[0, :] = (pts_in_grp1 - pct_1_mod) / pct_1_mod\n",
    "        pts_in_grp2 = (pts >= 75000) & (pts < 100000)\n",
    "        Err_mat[1, :] = (pts_in_grp2 - pct_2_mod) / pct_2_mod\n",
    "        pts_in_grp3 = pts >= 100000\n",
    "        Err_mat[2, :] = (pts_in_grp3 - pct_3_mod) / pct_3_mod\n",
    "    \n",
    "    return Err_mat"
   ]
  },
  {
   "cell_type": "code",
   "execution_count": 30,
   "metadata": {},
   "outputs": [
    {
     "name": "stdout",
     "output_type": "stream",
     "text": [
      "VCV2_3: \n",
      " [[ 2.33333324 -0.99999997 -1.00000004]\n",
      " [-0.99999997  0.99999997 -1.00000005]\n",
      " [-1.00000004 -1.00000005  4.00000051]]\n",
      "W_hat2_3 \n",
      " [[ 0.25761774 -0.1495845  -0.01246537]\n",
      " [-0.1495845   0.11911357 -0.07340719]\n",
      " [-0.01246537 -0.07340719  0.20221605]]\n"
     ]
    }
   ],
   "source": [
    "Err_mat3w = get_Err_mat3(df['income'], mu_GMM1_3, sig_GMM1_3, 0.0, 150000.0, False)\n",
    "VCV2_3w = (1 / df['income'].shape[0]) * (Err_mat3w @ Err_mat3w.T)\n",
    "print(\"VCV2_3:\",\"\\n\",VCV2_3w)\n",
    "# We use the pseudo-inverse command here because the VCV matrix is poorly conditioned\n",
    "W_hat2_3 = lin.pinv(VCV2_3w)\n",
    "print(\"W_hat2_3\",\"\\n\",W_hat2_3)"
   ]
  },
  {
   "cell_type": "code",
   "execution_count": 31,
   "metadata": {},
   "outputs": [
    {
     "name": "stdout",
     "output_type": "stream",
     "text": [
      "mu_GMM1_3w= 11.335681325706041  sig_GMM1_3w= 0.2105984529392122\n",
      "Error vector= [ 1.93122686e-08  1.37049521e-08 -6.32307821e-08]\n",
      "GMM criterion function: [[1.00542822e-15]]\n"
     ]
    }
   ],
   "source": [
    "para_init=(mu_GMM1_3, sig_GMM1_3)\n",
    "gmm_args = (df['income'], 0.0, 150000.0, W_hat2_3)\n",
    "results_4 = opt.minimize(criterion3, para_init, args=(gmm_args),method='L-BFGS-B')\n",
    "mu_GMM1_3w, sig_GMM1_3w = results_4.x\n",
    "print('mu_GMM1_3w=', mu_GMM1_3w, ' sig_GMM1_3w=', sig_GMM1_3w)\n",
    "err3w = err_vec3(df['income'], mu_GMM1_3w, sig_GMM1_3w, 0.0, 150000.0, False).reshape(3,)\n",
    "\n",
    "print('Error vector=', err3w)\n",
    "print('GMM criterion function:',results_4.fun)"
   ]
  },
  {
   "cell_type": "code",
   "execution_count": 32,
   "metadata": {},
   "outputs": [
    {
     "name": "stdout",
     "output_type": "stream",
     "text": [
      "three moments of data: 0.3000000057936806 0.500000006852476 0.19999998735384358\n",
      "three moments from model: 0.3 0.5 0.2\n"
     ]
    }
   ],
   "source": [
    "mom1_model,mom2_model,mom3_model = model_moments3(mu_GMM1_3, sig_GMM1_3, 0, 150000)\n",
    "mom1_data, mom2_data,mom3_data = data_moments3(df['income'])\n",
    "print(\"three moments of data:\",mom1_model,mom2_model,mom3_model )\n",
    "print(\"three moments from model:\",mom1_data, mom2_data,mom3_data)"
   ]
  },
  {
   "cell_type": "code",
   "execution_count": 33,
   "metadata": {},
   "outputs": [
    {
     "data": {
      "text/plain": [
       "<matplotlib.legend.Legend at 0x11fe71710>"
      ]
     },
     "execution_count": 33,
     "metadata": {},
     "output_type": "execute_result"
    },
    {
     "data": {
      "image/png": "[encoded data removed]",
      "text/plain": [
       "<Figure size 432x288 with 1 Axes>"
      ]
     },
     "metadata": {
      "needs_background": "light"
     },
     "output_type": "display_data"
    }
   ],
   "source": [
    "num_bins = 30\n",
    "plt.hist(df['income'], num_bins, normed=True, edgecolor='k')\n",
    "plt.title('Annual incomes of MACSS students who graduated in 2018-2020', fontsize=10)\n",
    "plt.xlabel('Annual incomes')\n",
    "plt.ylabel('Percent of incomes')\n",
    "\n",
    "plt.plot(dist_pts, trunc_lognorm_pdf(dist_pts, mu_GMM1_3w, sig_GMM1_3w, 0.0, 150000),\n",
    "         linewidth=2, color='k', label='1: $\\mu_{GMM3w}$,$\\sigma_{GMM3w}$')\n",
    "plt.legend(loc='upper left')\n"
   ]
  },
  {
   "cell_type": "markdown",
   "metadata": {},
   "source": [
    "#### (f) Which of the four estimations from parts (b), (c), (d), and (e) fits the data best? Justify your answer."
   ]
  },
  {
   "cell_type": "code",
   "execution_count": 34,
   "metadata": {},
   "outputs": [],
   "source": [
    "mu=[mu_GMM1,mu_GMM2,mu_GMM1_3,mu_GMM1_3w]\n",
    "sig=[sig_GMM1,sig_GMM2,sig_GMM1_3,sig_GMM1_3w]\n",
    "GMMV=[results.fun,results2.fun,results_3.fun,results_4.fun]"
   ]
  },
  {
   "cell_type": "code",
   "execution_count": 35,
   "metadata": {},
   "outputs": [
    {
     "data": {
      "text/html": [
       "<div>\n",
       "<style scoped>\n",
       "    .dataframe tbody tr th:only-of-type {\n",
       "        vertical-align: middle;\n",
       "    }\n",
       "\n",
       "    .dataframe tbody tr th {\n",
       "        vertical-align: top;\n",
       "    }\n",
       "\n",
       "    .dataframe thead th {\n",
       "        text-align: right;\n",
       "    }\n",
       "</style>\n",
       "<table border=\"1\" class=\"dataframe\">\n",
       "  <thead>\n",
       "    <tr style=\"text-align: right;\">\n",
       "      <th></th>\n",
       "      <th>mu</th>\n",
       "      <th>sigma</th>\n",
       "      <th>GMM Fn Value</th>\n",
       "    </tr>\n",
       "  </thead>\n",
       "  <tbody>\n",
       "    <tr>\n",
       "      <th>2 moments+Identity Matrix</th>\n",
       "      <td>11.333533</td>\n",
       "      <td>0.213862</td>\n",
       "      <td>6.357621e-16</td>\n",
       "    </tr>\n",
       "    <tr>\n",
       "      <th>2 moments+Weighted Matrix</th>\n",
       "      <td>11.333533</td>\n",
       "      <td>0.213862</td>\n",
       "      <td>2.635960e-15</td>\n",
       "    </tr>\n",
       "    <tr>\n",
       "      <th>3 moments+Identity Matrix</th>\n",
       "      <td>11.335681</td>\n",
       "      <td>0.210598</td>\n",
       "      <td>4.558921e-15</td>\n",
       "    </tr>\n",
       "    <tr>\n",
       "      <th>3 moments+Weighted Matrix</th>\n",
       "      <td>11.335681</td>\n",
       "      <td>0.210598</td>\n",
       "      <td>1.005428e-15</td>\n",
       "    </tr>\n",
       "  </tbody>\n",
       "</table>\n",
       "</div>"
      ],
      "text/plain": [
       "                                  mu     sigma  GMM Fn Value\n",
       "2 moments+Identity Matrix  11.333533  0.213862  6.357621e-16\n",
       "2 moments+Weighted Matrix  11.333533  0.213862  2.635960e-15\n",
       "3 moments+Identity Matrix  11.335681  0.210598  4.558921e-15\n",
       "3 moments+Weighted Matrix  11.335681  0.210598  1.005428e-15"
      ]
     },
     "execution_count": 35,
     "metadata": {},
     "output_type": "execute_result"
    }
   ],
   "source": [
    "pd.DataFrame({\"mu\":mu,\"sigma\":sig,\"GMM Fn Value\":GMMV}\n",
    "            ,index=['2 moments+Identity Matrix','2 moments+Weighted Matrix',\n",
    "                   '3 moments+Identity Matrix','3 moments+Weighted Matrix']).astype(float)"
   ]
  },
  {
   "cell_type": "markdown",
   "metadata": {},
   "source": [
    "The smallest error value is for model (b) for this data, i.e. the model with mean and standard deviation as moments and with the 2-step identity matrix."
   ]
  },
  {
   "cell_type": "markdown",
   "metadata": {},
   "source": [
    "#### 2. Linear regression and GMM"
   ]
  },
  {
   "cell_type": "markdown",
   "metadata": {},
   "source": [
    "#### (a)"
   ]
  },
  {
   "cell_type": "code",
   "execution_count": 36,
   "metadata": {},
   "outputs": [],
   "source": [
    "df=pd.read_csv(\"data/sick.txt\").astype('float64')"
   ]
  },
  {
   "cell_type": "code",
   "execution_count": 37,
   "metadata": {},
   "outputs": [],
   "source": [
    "def err_vec(df,b0,b1,b2,b3):\n",
    "    \n",
    "    #Model Moments\n",
    "    yhat=b0+b1*df['age']+b2*df['children']+b3*df['avgtemp_winter']\n",
    "    \n",
    "    #Data Moments\n",
    "    y=df['sick']\n",
    "    \n",
    "    err_vec = yhat - y\n",
    "    \n",
    "    return err_vec"
   ]
  },
  {
   "cell_type": "code",
   "execution_count": 38,
   "metadata": {},
   "outputs": [],
   "source": [
    "def criterion(params, *args):\n",
    "    \n",
    "    b0,b1,b2,b3 = params\n",
    "    df, W = args\n",
    "    err = err_vec(df,b0,b1,b2,b3)\n",
    "    crit_val = err.T @ W @ err\n",
    "    \n",
    "    return crit_val"
   ]
  },
  {
   "cell_type": "code",
   "execution_count": 39,
   "metadata": {},
   "outputs": [],
   "source": [
    "b0, b1, b2, b3 = 1, 0, 0, 0\n",
    "params_init = np.array([b0, b1, b2, b3])\n",
    "W_hat = np.eye(df.shape[0])\n",
    "gmm_args = (df, W_hat)\n",
    "results = opt.minimize(criterion, params_init, args=(gmm_args), tol=1e-14,method='L-BFGS-B')\n",
    "b0, b1, b2, b3 = results.x"
   ]
  },
  {
   "cell_type": "code",
   "execution_count": 40,
   "metadata": {},
   "outputs": [
    {
     "name": "stdout",
     "output_type": "stream",
     "text": [
      "Estimate of b0 0.2516448637202974\n",
      "Estimate of b1 0.012933469665776062\n",
      "Estimate of b2 0.4005009851118556\n",
      "Estimate of b3 -0.009991708484318558\n",
      "GMM criterion function: 0.0018212898056107383\n"
     ]
    }
   ],
   "source": [
    "print(\"Estimate of b0\",b0)\n",
    "print(\"Estimate of b1\",b1)\n",
    "print(\"Estimate of b2\",b2)\n",
    "print(\"Estimate of b3\",b3)\n",
    "print('GMM criterion function:',results.fun)"
   ]
  },
  {
   "cell_type": "code",
   "execution_count": null,
   "metadata": {},
   "outputs": [],
   "source": []
  }
 ],
 "metadata": {
  "kernelspec": {
   "display_name": "Python 3",
   "language": "python",
   "name": "python3"
  },
  "language_info": {
   "codemirror_mode": {
    "name": "ipython",
    "version": 3
   },
   "file_extension": ".py",
   "mimetype": "text/x-python",
   "name": "python",
   "nbconvert_exporter": "python",
   "pygments_lexer": "ipython3",
   "version": "3.6.8"
  }
 },
 "nbformat": 4,
 "nbformat_minor": 2
}
