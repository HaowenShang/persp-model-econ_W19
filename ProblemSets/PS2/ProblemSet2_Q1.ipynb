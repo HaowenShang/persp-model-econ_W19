{
 "cells": [
  {
   "cell_type": "markdown",
   "metadata": {},
   "source": [
    "### Problem Set #2\n",
    "#### MACS 30150, Dr. Evans\n",
    "#### Due Monday, Jan. 21 at 11:30am\n",
    "#### Haowen Shang"
   ]
  },
  {
   "cell_type": "markdown",
   "metadata": {},
   "source": [
    "#### 1. ACME: Numerical Differentiation lab."
   ]
  },
  {
   "cell_type": "code",
   "execution_count": 1,
   "metadata": {},
   "outputs": [],
   "source": [
    "import sympy as sy\n",
    "import numpy as np\n",
    "import pandas as pd\n",
    "from matplotlib import pyplot as plt\n",
    "from autograd import grad\n",
    "from autograd import numpy as anp\n",
    "import math\n",
    "import time\n",
    "import warnings"
   ]
  },
  {
   "cell_type": "markdown",
   "metadata": {},
   "source": [
    "#### Problem 1"
   ]
  },
  {
   "cell_type": "code",
   "execution_count": 2,
   "metadata": {},
   "outputs": [
    {
     "name": "stdout",
     "output_type": "stream",
     "text": [
      "The function is: f(x) = (sin(x) + 1)**sin(cos(x))\n"
     ]
    }
   ],
   "source": [
    "#define the function\n",
    "x = sy.symbols('x')\n",
    "sin = sy.sin\n",
    "cos = sy.cos\n",
    "\n",
    "def y(x):\n",
    "    y = (sin(x)+1)**sin(cos(x))\n",
    "    return y\n",
    "\n",
    "print(\"The function is: f(x) = {}\".format(y(x)))"
   ]
  },
  {
   "cell_type": "code",
   "execution_count": 3,
   "metadata": {},
   "outputs": [
    {
     "name": "stdout",
     "output_type": "stream",
     "text": [
      "The symbolic derivative of the function with respect to x is: \n",
      "(-log(sin(x) + 1)*sin(x)*cos(cos(x)) + sin(cos(x))*cos(x)/(sin(x) + 1))*(sin(x) + 1)**sin(cos(x))\n"
     ]
    }
   ],
   "source": [
    "#take the function's symbolic derivative with respect to x\n",
    "yprime = sy.diff(y(x),x)\n",
    "print(\"The symbolic derivative of the function with respect to x is: \")\n",
    "print(yprime)"
   ]
  },
  {
   "cell_type": "code",
   "execution_count": 4,
   "metadata": {},
   "outputs": [
    {
     "data": {
      "text/plain": [
       "array([1.  , 1.06, 1.12, 1.19, 1.27, 1.36, 1.45, 1.55, 1.67, 1.79, 1.91,\n",
       "       2.04, 2.17, 2.3 , 2.42, 2.52, 2.6 , 2.64, 2.64, 2.59, 2.48, 2.3 ,\n",
       "       2.06, 1.76, 1.38, 0.87, 0.63, 0.52, 0.46, 0.42, 0.39, 0.38, 0.38,\n",
       "       0.38, 0.39, 0.4 , 0.42, 0.45, 0.47, 0.51, 0.54, 0.58, 0.62, 0.67,\n",
       "       0.71, 0.76, 0.81, 0.87, 0.92, 0.97, 1.03, 1.08, 1.13, 1.18, 1.23,\n",
       "       1.27, 1.31, 1.34, 1.37, 1.39, 1.41, 1.41, 1.42, 1.41, 1.4 , 1.38,\n",
       "       1.35, 1.32, 1.28, 1.24, 1.19, 1.15, 1.1 , 1.06, 1.01, 0.97, 0.93,\n",
       "       0.89, 0.85, 0.82, 0.79, 0.77, 0.75, 0.73, 0.72, 0.71, 0.71, 0.71,\n",
       "       0.71, 0.71, 0.72, 0.74, 0.76, 0.78, 0.8 , 0.83, 0.87, 0.91, 0.95,\n",
       "       1.  ])"
      ]
     },
     "execution_count": 4,
     "metadata": {},
     "output_type": "execute_result"
    }
   ],
   "source": [
    "#Lambdify the resulting function\n",
    "x_vec = np.linspace(-math.pi, math.pi, 100)\n",
    "f = sy.lambdify(x, y(x), \"numpy\")\n",
    "fprime = sy.lambdify(x, yprime, \"numpy\")\n",
    "f(x_vec).round(2)"
   ]
  },
  {
   "cell_type": "code",
   "execution_count": 5,
   "metadata": {},
   "outputs": [
    {
     "data": {
      "text/plain": [
       "array([ 0.84,  0.94,  1.05,  1.17,  1.3 ,  1.43,  1.57,  1.7 ,  1.83,\n",
       "        1.94,  2.02,  2.06,  2.04,  1.94,  1.75,  1.43,  0.97,  0.37,\n",
       "       -0.38, -1.26, -2.24, -3.27, -4.3 , -5.33, -6.59, -6.05, -2.36,\n",
       "       -1.31, -0.79, -0.48, -0.27, -0.12,  0.  ,  0.1 ,  0.19,  0.26,\n",
       "        0.33,  0.4 ,  0.46,  0.52,  0.58,  0.63,  0.68,  0.72,  0.76,\n",
       "        0.79,  0.82,  0.83,  0.84,  0.84,  0.84,  0.82,  0.79,  0.75,\n",
       "        0.7 ,  0.64,  0.57,  0.49,  0.4 ,  0.3 ,  0.19,  0.07, -0.04,\n",
       "       -0.16, -0.27, -0.37, -0.47, -0.55, -0.62, -0.67, -0.71, -0.73,\n",
       "       -0.73, -0.72, -0.7 , -0.67, -0.63, -0.58, -0.52, -0.47, -0.41,\n",
       "       -0.35, -0.29, -0.23, -0.17, -0.11, -0.05,  0.01,  0.07,  0.12,\n",
       "        0.18,  0.24,  0.3 ,  0.37,  0.43,  0.5 ,  0.58,  0.66,  0.75,\n",
       "        0.84])"
      ]
     },
     "execution_count": 5,
     "metadata": {},
     "output_type": "execute_result"
    }
   ],
   "source": [
    "fprime(x_vec).round(2)"
   ]
  },
  {
   "cell_type": "code",
   "execution_count": 6,
   "metadata": {},
   "outputs": [
    {
     "data": {
      "text/plain": [
       "Text(0, 0.5, 'value of the function')"
      ]
     },
     "execution_count": 6,
     "metadata": {},
     "output_type": "execute_result"
    },
    {
     "data": {
      "image/png": "[encoded data removed]",
      "text/plain": [
       "<Figure size 432x288 with 1 Axes>"
      ]
     },
     "metadata": {
      "needs_background": "light"
     },
     "output_type": "display_data"
    }
   ],
   "source": [
    "#plot the function \n",
    "ax = plt.gca()\n",
    "ax.spines[\"bottom\"].set_position(\"zero\")\n",
    "\n",
    "plt.plot(x_vec, f(x_vec))\n",
    "plt.plot(x_vec, fprime(x_vec))\n",
    "plt.xlabel(\"x\")\n",
    "plt.ylabel(\"value of the function\")"
   ]
  },
  {
   "cell_type": "markdown",
   "metadata": {},
   "source": [
    "#### Problem 2"
   ]
  },
  {
   "cell_type": "code",
   "execution_count": 7,
   "metadata": {},
   "outputs": [],
   "source": [
    "#define functions of finite difference quotients\n",
    "\n",
    "def for_diff1(fn, x, h):\n",
    "    quotient = (fn(x+h)-fn(x))/h \n",
    "    return quotient\n",
    "\n",
    "def for_diff2(fn, x, h):\n",
    "    quotient = (-3*fn(x)+4*fn(x+h)-f(x+2*h))/(2*h)\n",
    "    return quotient\n",
    "\n",
    "def back_diff1(fn, x, h):\n",
    "    quotient = (fn(x)-fn(x-h))/h\n",
    "    return quotient\n",
    "            \n",
    "def back_diff2(fn, x, h):\n",
    "    quotient = (-3*fn(x)+4*fn(x+h)-f(x+2*h))/(2*h)\n",
    "    return quotient\n",
    "\n",
    "def cen_diff1(fn, x, h):\n",
    "    quotient =  (fn(x+h)-fn(x-h))/(2*h)\n",
    "    return quotient\n",
    "\n",
    "def cen_diff2(fn, x, h):\n",
    "    quotient =  (fn(x-2*h)-8*fn(x-h)+8*fn(x+h)-fn(x+2*h))/(12*h) \n",
    "    return quotient"
   ]
  },
  {
   "cell_type": "code",
   "execution_count": 8,
   "metadata": {},
   "outputs": [
    {
     "data": {
      "text/plain": [
       "Text(0, 0.5, 'value of functions')"
      ]
     },
     "execution_count": 8,
     "metadata": {},
     "output_type": "execute_result"
    },
    {
     "data": {
      "image/png": "[encoded data removed]",
      "text/plain": [
       "<Figure size 432x288 with 1 Axes>"
      ]
     },
     "metadata": {
      "needs_background": "light"
     },
     "output_type": "display_data"
    }
   ],
   "source": [
    "#plot the functions \n",
    "plt.plot(x_vec, for_diff1(f, x_vec, 0.01), label = \"forward(1order)\")\n",
    "plt.plot(x_vec, for_diff2(f, x_vec, 0.01), label = \"forward(2order)\")\n",
    "plt.plot(x_vec, back_diff1(f, x_vec, 0.01), label = \"backward(1order)\")\n",
    "plt.plot(x_vec, back_diff2(f, x_vec, 0.01), label = \"backward(2order)\")\n",
    "plt.plot(x_vec, cen_diff1(f, x_vec, 0.01), label = \"centered(2order)\")\n",
    "plt.plot(x_vec, cen_diff2(f, x_vec, 0.01), label = \"centered(4order)\")\n",
    "\n",
    "plt.plot(x_vec, fprime(x_vec), label = \"symbolic differentiation\")\n",
    "\n",
    "plt.legend()\n",
    "plt.xlabel(\"x\")\n",
    "plt.ylabel(\"value of functions\")"
   ]
  },
  {
   "cell_type": "markdown",
   "metadata": {},
   "source": [
    "From the above plots, we can see that the result of symbolic differentiation and the result of numerical differentiation are very similar."
   ]
  },
  {
   "cell_type": "markdown",
   "metadata": {},
   "source": [
    "#### Problem 3"
   ]
  },
  {
   "cell_type": "code",
   "execution_count": 9,
   "metadata": {},
   "outputs": [
    {
     "data": {
      "text/plain": [
       "<matplotlib.legend.Legend at 0x12019b9b0>"
      ]
     },
     "execution_count": 9,
     "metadata": {},
     "output_type": "execute_result"
    },
    {
     "data": {
      "image/png": "[encoded data removed]",
      "text/plain": [
       "<Figure size 432x288 with 1 Axes>"
      ]
     },
     "metadata": {
      "needs_background": "light"
     },
     "output_type": "display_data"
    }
   ],
   "source": [
    "#Write a function that accepts a point x0 at which to compute the derivative--The function is same as fprime in problem one.\n",
    "\n",
    "#compute the exact value of f_prime at point x0\n",
    "x0 = 1\n",
    "f_prime = fprime(x0)\n",
    "\n",
    "#get the approximate derivatives\n",
    "h_vec=np.logspace(-8, 0, 9)\n",
    "app_deri1 = for_diff1(f, x0, h_vec)\n",
    "app_deri2 = for_diff2(f, x0, h_vec) \n",
    "app_deri3 = back_diff1(f, x0, h_vec)\n",
    "app_deri4 = back_diff2(f, x0, h_vec)\n",
    "app_deri5 = cen_diff1(f, x0, h_vec)\n",
    "app_deri6 = cen_diff2(f, x0, h_vec) \n",
    "\n",
    "#track the absolute error\n",
    "abs_error1 = abs(app_deri1 - f_prime)\n",
    "abs_error2 = abs(app_deri2 - f_prime)\n",
    "abs_error3 = abs(app_deri3 - f_prime)\n",
    "abs_error4 = abs(app_deri4 - f_prime)\n",
    "abs_error5 = abs(app_deri5 - f_prime)\n",
    "abs_error6 = abs(app_deri6 - f_prime)\n",
    "\n",
    "#plot the absolute error against h\n",
    "\n",
    "plt.plot(h_vec, abs_error1, marker = 'o', label='err of forward(1order)')\n",
    "plt.plot(h_vec, abs_error2, marker = 'o', label='err of forward(2order)')\n",
    "plt.plot(h_vec, abs_error3, marker = 'o', label='err of backward(1order)')\n",
    "plt.plot(h_vec, abs_error4, marker = 'o', label='err of backward(2order)')\n",
    "plt.plot(h_vec, abs_error5, marker = 'o',  label='err of centered(2order)')\n",
    "plt.plot(h_vec, abs_error6, marker = 'o', label='err of centered(4order)')\n",
    "plt.loglog()\n",
    "plt.legend()"
   ]
  },
  {
   "cell_type": "markdown",
   "metadata": {},
   "source": [
    "#### Problem 4"
   ]
  },
  {
   "cell_type": "code",
   "execution_count": 10,
   "metadata": {},
   "outputs": [],
   "source": [
    "#Load the data \n",
    "radar_data = np.load(\"plane.npy\")\n",
    "radar_df = pd.DataFrame(radar_data, columns=['t','alpha','beta'])"
   ]
  },
  {
   "cell_type": "code",
   "execution_count": 11,
   "metadata": {},
   "outputs": [],
   "source": [
    "#Convert degrees to radians\n",
    "radar_df['alpha']=np.deg2rad(radar_df['alpha'])\n",
    "radar_df['beta']=np.deg2rad(radar_df['beta'])"
   ]
  },
  {
   "cell_type": "code",
   "execution_count": 12,
   "metadata": {},
   "outputs": [],
   "source": [
    "# Calculate the Cartesian coordinates of the plane\n",
    "a = 500\n",
    "radar_df[\"x\"] = (a*np.tan(radar_df['beta'])) / (np.tan(radar_df['beta'])-np.tan(radar_df['alpha']))\n",
    "radar_df[\"y\"] = (a*np.tan(radar_df['beta']) * np.tan(radar_df['alpha'])) / (np.tan(radar_df['beta'])-np.tan(radar_df['alpha']))"
   ]
  },
  {
   "cell_type": "code",
   "execution_count": 13,
   "metadata": {},
   "outputs": [
    {
     "data": {
      "text/html": [
       "<div>\n",
       "<style scoped>\n",
       "    .dataframe tbody tr th:only-of-type {\n",
       "        vertical-align: middle;\n",
       "    }\n",
       "\n",
       "    .dataframe tbody tr th {\n",
       "        vertical-align: top;\n",
       "    }\n",
       "\n",
       "    .dataframe thead th {\n",
       "        text-align: right;\n",
       "    }\n",
       "</style>\n",
       "<table border=\"1\" class=\"dataframe\">\n",
       "  <thead>\n",
       "    <tr style=\"text-align: right;\">\n",
       "      <th></th>\n",
       "      <th>t</th>\n",
       "      <th>alpha</th>\n",
       "      <th>beta</th>\n",
       "      <th>x</th>\n",
       "      <th>y</th>\n",
       "      <th>x_prime</th>\n",
       "      <th>y_prime</th>\n",
       "      <th>speed</th>\n",
       "    </tr>\n",
       "  </thead>\n",
       "  <tbody>\n",
       "    <tr>\n",
       "      <th>0</th>\n",
       "      <td>7.0</td>\n",
       "      <td>0.981748</td>\n",
       "      <td>1.178795</td>\n",
       "      <td>1311.271337</td>\n",
       "      <td>1962.456239</td>\n",
       "      <td>44.6651</td>\n",
       "      <td>12.6583</td>\n",
       "      <td>46.4242</td>\n",
       "    </tr>\n",
       "    <tr>\n",
       "      <th>1</th>\n",
       "      <td>8.0</td>\n",
       "      <td>0.969181</td>\n",
       "      <td>1.161866</td>\n",
       "      <td>1355.936476</td>\n",
       "      <td>1975.114505</td>\n",
       "      <td>45.3235</td>\n",
       "      <td>12.4449</td>\n",
       "      <td>47.001</td>\n",
       "    </tr>\n",
       "    <tr>\n",
       "      <th>2</th>\n",
       "      <td>9.0</td>\n",
       "      <td>0.956440</td>\n",
       "      <td>1.144761</td>\n",
       "      <td>1401.918398</td>\n",
       "      <td>1987.346016</td>\n",
       "      <td>47.2803</td>\n",
       "      <td>12.8631</td>\n",
       "      <td>48.9988</td>\n",
       "    </tr>\n",
       "    <tr>\n",
       "      <th>3</th>\n",
       "      <td>10.0</td>\n",
       "      <td>0.943525</td>\n",
       "      <td>1.127308</td>\n",
       "      <td>1450.497006</td>\n",
       "      <td>2000.840713</td>\n",
       "      <td>48.361</td>\n",
       "      <td>13.0832</td>\n",
       "      <td>50.0994</td>\n",
       "    </tr>\n",
       "    <tr>\n",
       "      <th>4</th>\n",
       "      <td>11.0</td>\n",
       "      <td>0.930959</td>\n",
       "      <td>1.110378</td>\n",
       "      <td>1498.640350</td>\n",
       "      <td>2013.512411</td>\n",
       "      <td>46.651</td>\n",
       "      <td>12.4758</td>\n",
       "      <td>48.2904</td>\n",
       "    </tr>\n",
       "    <tr>\n",
       "      <th>5</th>\n",
       "      <td>12.0</td>\n",
       "      <td>0.919614</td>\n",
       "      <td>1.095020</td>\n",
       "      <td>1543.798955</td>\n",
       "      <td>2025.792234</td>\n",
       "      <td>49.7005</td>\n",
       "      <td>13.7391</td>\n",
       "      <td>51.5646</td>\n",
       "    </tr>\n",
       "    <tr>\n",
       "      <th>6</th>\n",
       "      <td>13.0</td>\n",
       "      <td>0.906524</td>\n",
       "      <td>1.077217</td>\n",
       "      <td>1598.041382</td>\n",
       "      <td>2040.990583</td>\n",
       "      <td>51.8986</td>\n",
       "      <td>14.6367</td>\n",
       "      <td>53.923</td>\n",
       "    </tr>\n",
       "    <tr>\n",
       "      <th>7</th>\n",
       "      <td>14.0</td>\n",
       "      <td>0.895005</td>\n",
       "      <td>1.061509</td>\n",
       "      <td>1647.596093</td>\n",
       "      <td>2055.065571</td>\n",
       "      <td>49.5547</td>\n",
       "      <td>14.075</td>\n",
       "      <td>51.5148</td>\n",
       "    </tr>\n",
       "  </tbody>\n",
       "</table>\n",
       "</div>"
      ],
      "text/plain": [
       "      t     alpha      beta            x            y  x_prime  y_prime  \\\n",
       "0   7.0  0.981748  1.178795  1311.271337  1962.456239  44.6651  12.6583   \n",
       "1   8.0  0.969181  1.161866  1355.936476  1975.114505  45.3235  12.4449   \n",
       "2   9.0  0.956440  1.144761  1401.918398  1987.346016  47.2803  12.8631   \n",
       "3  10.0  0.943525  1.127308  1450.497006  2000.840713   48.361  13.0832   \n",
       "4  11.0  0.930959  1.110378  1498.640350  2013.512411   46.651  12.4758   \n",
       "5  12.0  0.919614  1.095020  1543.798955  2025.792234  49.7005  13.7391   \n",
       "6  13.0  0.906524  1.077217  1598.041382  2040.990583  51.8986  14.6367   \n",
       "7  14.0  0.895005  1.061509  1647.596093  2055.065571  49.5547   14.075   \n",
       "\n",
       "     speed  \n",
       "0  46.4242  \n",
       "1   47.001  \n",
       "2  48.9988  \n",
       "3  50.0994  \n",
       "4  48.2904  \n",
       "5  51.5646  \n",
       "6   53.923  \n",
       "7  51.5148  "
      ]
     },
     "execution_count": 13,
     "metadata": {},
     "output_type": "execute_result"
    }
   ],
   "source": [
    "warnings.filterwarnings(\"ignore\")\n",
    "\n",
    "#Approxiamate x_prime and y_prime\n",
    "radar_df[\"x_prime\"]= None\n",
    "radar_df[\"y_prime\"]= None\n",
    "\n",
    "# Use forward difference quotient1 for t = 7\n",
    "radar_df[\"x_prime\"][0] = radar_df[\"x\"][1]-radar_df[\"x\"][0]\n",
    "radar_df[\"y_prime\"][0] = radar_df[\"y\"][1]-radar_df[\"y\"][0]\n",
    "\n",
    "#Use backward difference quotient1 for t = 14\n",
    "radar_df[\"x_prime\"][7] = radar_df[\"x\"][7]-radar_df[\"x\"][6]\n",
    "radar_df[\"y_prime\"][7] = radar_df[\"y\"][7]-radar_df[\"y\"][6]\n",
    "\n",
    "# Use centered difference quotient1 for t = 8, 9, . . . , 13\n",
    "for i in range(1, 7):\n",
    "    radar_df[\"x_prime\"][i] = (radar_df[\"x\"][i + 1]-radar_df[\"x\"][i - 1])/2\n",
    "    radar_df[\"y_prime\"][i] = (radar_df[\"y\"][i + 1]-radar_df[\"y\"][i - 1])/2\n",
    "\n",
    "#Calculate the values of the speed\n",
    "radar_df['speed']=(radar_df[\"x_prime\"]**2+radar_df[\"y_prime\"]**2)**0.5\n",
    "\n",
    "radar_df"
   ]
  },
  {
   "cell_type": "code",
   "execution_count": 14,
   "metadata": {},
   "outputs": [
    {
     "name": "stdout",
     "output_type": "stream",
     "text": [
      "when t is 7, speed is 46.42420062213374\n",
      "when t is 8, speed is 47.001039380953344\n",
      "when t is 9, speed is 48.99880514036797\n",
      "when t is 10, speed is 50.09944162965227\n",
      "when t is 11, speed is 48.290350838204944\n",
      "when t is 12, speed is 51.564559049272255\n",
      "when t is 13, speed is 53.923033545053535\n",
      "when t is 14, speed is 51.51480056963696\n"
     ]
    }
   ],
   "source": [
    "for i in range(8):\n",
    "    print(\"when t is {}, speed is {}\".format(int(radar_df[\"t\"][i]),  radar_df[\"speed\"][i]))"
   ]
  },
  {
   "cell_type": "markdown",
   "metadata": {},
   "source": [
    "#### Problem 5"
   ]
  },
  {
   "cell_type": "code",
   "execution_count": 15,
   "metadata": {},
   "outputs": [],
   "source": [
    "#Define a function that approximate the Jacobian matrix of f at x using the second order centered difference quotient\n",
    "def Jacobian(fn_vec, x_vec, h):\n",
    "    m = len(fn_vec)\n",
    "    n = len(x_vec) \n",
    "    I = np.identity(n)\n",
    "    Jac = np.zeros((m, n))\n",
    "    if n == 1:\n",
    "        for i, fn in enumerate(fn_vec):\n",
    "            for j in range(n):\n",
    "                f= sy.lambdify([x1], fn, 'numpy')\n",
    "                new_x_vec1 = x_vec+h*I[:,j]\n",
    "                new_x_vec2 = x_vec-h*I[:,j]\n",
    "                Jac[i,j] = (f(new_x_vec1[0]) - f(new_x_vec2[0]))/(2*h)        \n",
    "    if n == 2:    \n",
    "        for i, fn in enumerate(fn_vec):\n",
    "            for j in range(n):\n",
    "                f= sy.lambdify([x1,x2], fn, 'numpy')\n",
    "                new_x_vec1 = x_vec+h*I[:,j]\n",
    "                new_x_vec2 = x_vec-h*I[:,j]\n",
    "                Jac[i,j] = (f(new_x_vec1[0], new_x_vec1[1]) - f(new_x_vec2[0], new_x_vec2[1]))/(2*h)\n",
    "    if n == 3:\n",
    "        for i, fn in enumerate(fn_vec):\n",
    "            for j in range(n):\n",
    "                f= sy.lambdify([x1,x2,x3], fn, 'numpy')\n",
    "                new_x_vec1 = x_vec+h*I[:,j]\n",
    "                new_x_vec2 = x_vec-h*I[:,j]\n",
    "                Jac[i,j] = (f(new_x_vec1[0], new_x_vec1[1], new_x_vec1[2]) - f(new_x_vec2[0], new_x_vec2[1], new_x_vec2[2]))/(2*h)\n",
    "            \n",
    "    return Jac"
   ]
  },
  {
   "cell_type": "code",
   "execution_count": 16,
   "metadata": {},
   "outputs": [
    {
     "data": {
      "text/plain": [
       "array([[ 2.    ,  0.    ],\n",
       "       [ 3.0001, -1.    ]])"
      ]
     },
     "execution_count": 16,
     "metadata": {},
     "output_type": "execute_result"
    }
   ],
   "source": [
    "#Test the function\n",
    "# f(x1,x2) = [x1**2, x1**3 -x2]\n",
    "x1 = sy.symbols(\"x1\")\n",
    "x2 = sy.symbols(\"x2\")\n",
    "fn1=x1**2\n",
    "fn2=x1**3 - x2    \n",
    "fn_vec = [fn1, fn2]\n",
    "x_vec = [1, 2]\n",
    "h = 0.01\n",
    "Jacobian(fn_vec, x_vec, h)"
   ]
  },
  {
   "cell_type": "markdown",
   "metadata": {},
   "source": [
    "#### Problem7"
   ]
  },
  {
   "cell_type": "code",
   "execution_count": 17,
   "metadata": {},
   "outputs": [
    {
     "data": {
      "text/plain": [
       "<matplotlib.legend.Legend at 0x12042a908>"
      ]
     },
     "execution_count": 17,
     "metadata": {},
     "output_type": "execute_result"
    },
    {
     "data": {
      "image/png": "[encoded data removed]",
      "text/plain": [
       "<Figure size 432x288 with 1 Axes>"
      ]
     },
     "metadata": {
      "needs_background": "light"
     },
     "output_type": "display_data"
    }
   ],
   "source": [
    "\n",
    "def Time(N): \n",
    "        t1 = np.zeros(N,dtype='float')\n",
    "        t2 = np.zeros(N,dtype='float')\n",
    "        t3 = np.zeros(N,dtype='float')\n",
    "        abs_e1 = np.array([1e-18] * N)\n",
    "        abs_e2 = np.zeros(N,dtype='float')\n",
    "        abs_e3 = np.zeros(N,dtype='float')\n",
    "        \n",
    "        \n",
    "        \n",
    "        y = lambda x: (anp.sin(x)+1)**(anp.sin(anp.cos(x))) \n",
    "        auto_yprime = grad(y)\n",
    "        \n",
    "        for i in range(N):\n",
    "            x = np.random.uniform(-math.pi, math.pi)\n",
    "            \n",
    "            time1 = time.clock()\n",
    "            z =sy.symbols('z')\n",
    "        \n",
    "            yprime = sy.diff((sy.sin(z)+1)**sy.sin(sy.cos(z)), z)\n",
    "            fprime = sy.lambdify(z, yprime, \"numpy\")\n",
    "            \n",
    "            prime = fprime(x)\n",
    "            time2 = time.clock()\n",
    "            t1[i] = time2 - time1\n",
    "            \n",
    "            time3 = time.clock()\n",
    "            appr_prime = cen_diff2(f, x, h = 0.01)\n",
    "            time4 = time.clock()\n",
    "            t2[i] = time4 - time3\n",
    "            abs_e2[i] = abs(appr_prime - prime)\n",
    "            \n",
    "            time5 = time.clock()\n",
    "            auto_appr_prime = auto_yprime(x)\n",
    "            time6 = time.clock()\n",
    "            t3[i] = time6 - time5\n",
    "            abs_e3[i] = abs(auto_appr_prime- prime)\n",
    "            \n",
    "        return t1, t2, t3, abs_e1, abs_e2, abs_e3\n",
    "    \n",
    "t1, t2, t3, abs_e1, abs_e2, abs_e3 = Time(200)\n",
    "\n",
    "plt.scatter(t1, abs_e1, label='Sympy') \n",
    "plt.scatter(t2 ,abs_e2, label='Difference Quotients') \n",
    "plt.scatter(t3, abs_e3, label='Autograd')\n",
    "plt.loglog()\n",
    "plt.xlim(10**-5,10**-1)\n",
    "plt.ylim(10**-19,10**-7)\n",
    "plt.xlabel(\"Computation Time (seconds)\")\n",
    "plt.ylabel(\"Absolute Error\")\n",
    "plt.legend()"
   ]
  },
  {
   "cell_type": "code",
   "execution_count": null,
   "metadata": {},
   "outputs": [],
   "source": []
  }
 ],
 "metadata": {
  "kernelspec": {
   "display_name": "Python 3",
   "language": "python",
   "name": "python3"
  },
  "language_info": {
   "codemirror_mode": {
    "name": "ipython",
    "version": 3
   },
   "file_extension": ".py",
   "mimetype": "text/x-python",
   "name": "python",
   "nbconvert_exporter": "python",
   "pygments_lexer": "ipython3",
   "version": "3.6.8"
  }
 },
 "nbformat": 4,
 "nbformat_minor": 2
}
