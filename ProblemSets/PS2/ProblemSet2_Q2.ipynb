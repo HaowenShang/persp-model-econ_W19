{
 "cells": [
  {
   "cell_type": "markdown",
   "metadata": {},
   "source": [
    "### Problem Set #2\n",
    "#### MACS 30150, Dr. Evans\n",
    "#### Due Monday, Jan. 21 at 11:30am\n",
    "#### Haowen Shang"
   ]
  },
  {
   "cell_type": "markdown",
   "metadata": {},
   "source": [
    "#### 2. Numerical integration exercises from Evans: Numerical Integration lab"
   ]
  },
  {
   "cell_type": "code",
   "execution_count": 1,
   "metadata": {},
   "outputs": [],
   "source": [
    "import numpy as np\n",
    "import pandas as pd\n",
    "from scipy.stats import norm"
   ]
  },
  {
   "cell_type": "markdown",
   "metadata": {},
   "source": [
    "#### Exercise 2.1"
   ]
  },
  {
   "cell_type": "code",
   "execution_count": 2,
   "metadata": {},
   "outputs": [],
   "source": [
    "def g_x(x):\n",
    "    x = 0.1 * (x ** 4) - 1.5 * x ** 3 + 0.53 * x ** 2 + 2 * x + 1\n",
    "    return x\n",
    "\n",
    "def integr_g_x(g, a , b, N, method):\n",
    "    if method == \"midpoint\":\n",
    "        #Calculate vector of N+1 bar bounds\n",
    "        bin_cuts = np.linspace(a, b, N + 1)\n",
    "        \n",
    "        #Calculate vector of midpoints\n",
    "        m = (b - a) / (2*N) \n",
    "        midpoint = np.linspace(a + m, b - m, N)\n",
    "        \n",
    "        #Evaluate the function at the midpoint\n",
    "        mid_val = g(midpoint)\n",
    "        \n",
    "        #Add up the area of the bins\n",
    "        approx_integr = (b-a) / N * sum(mid_val)\n",
    "   \n",
    "    if method == \"trapezoid\":\n",
    "        #Calculate vector of N+1 bar bounds\n",
    "        bin_cuts = np.linspace(a, b, N + 1)\n",
    "        \n",
    "        #Evaluate the function at the bar bounds\n",
    "        bin_val = g(bin_cuts)\n",
    "        \n",
    "        #Add up the area of the bins\n",
    "        approx_integr = (b-a) / (2 * N) * (bin_val[0] + 2 * sum(bin_val[1 : N]) + bin_val[N])\n",
    "    \n",
    "    if method == \"Simpsons\":\n",
    "        #Calculate vector of N+1 bar bounds\n",
    "        bin_cuts = np.linspace(a, b, 2*N + 1)\n",
    "        \n",
    "        #Evaluate the function at the bar bounds\n",
    "        bin_val = g(bin_cuts)\n",
    "        \n",
    "        #Add up the value at bar bounds\n",
    "        Sum = bin_val[0] + bin_val[2*N]\n",
    "        for i in range(1, 2*N):\n",
    "            if  i % 2 == 0:\n",
    "                Sum += 2 * bin_val[i]\n",
    "            else:\n",
    "                Sum += 4* bin_val[i]\n",
    "        \n",
    "        #Add up the area of the bins\n",
    "        approx_integr = (b-a) / (6 * N) * Sum        \n",
    "                \n",
    "    return approx_integr"
   ]
  },
  {
   "cell_type": "code",
   "execution_count": 3,
   "metadata": {},
   "outputs": [
    {
     "name": "stdout",
     "output_type": "stream",
     "text": [
      "The approxiamation value using midpoint rule is:  4373.333196466634\n",
      "The difference with true value is:  -0.0001368666989947087\n"
     ]
    }
   ],
   "source": [
    "Val = 0.02*(10**5-(-10)**5)+0.53/3*(10**3-(-10)**3)+20\n",
    "#Midpoint rule\n",
    "M = integr_g_x(g_x, -10, 10, 10000, \"midpoint\")\n",
    "print(\"The approxiamation value using midpoint rule is: \", M)\n",
    "print(\"The difference with true value is: \", M - Val)"
   ]
  },
  {
   "cell_type": "code",
   "execution_count": 4,
   "metadata": {},
   "outputs": [
    {
     "name": "stdout",
     "output_type": "stream",
     "text": [
      "The approxiamation value using trapezoid rule is:  4373.333607066684\n",
      "The difference with true value is:  0.00027373335069569293\n"
     ]
    }
   ],
   "source": [
    "#Trapezoid rule\n",
    "T = integr_g_x(g_x, -10, 10, 10000, \"trapezoid\")\n",
    "print(\"The approxiamation value using trapezoid rule is: \", T)\n",
    "print(\"The difference with true value is: \", T - Val)"
   ]
  },
  {
   "cell_type": "code",
   "execution_count": 5,
   "metadata": {},
   "outputs": [
    {
     "name": "stdout",
     "output_type": "stream",
     "text": [
      "The approxiamation value using Simpson's rule is:  4373.33333333337\n",
      "The difference with true value is:  3.728928277269006e-11\n"
     ]
    }
   ],
   "source": [
    "#Simpson's rule\n",
    "S = integr_g_x(g_x, -10, 10, 10000, \"Simpsons\")\n",
    "print(\"The approxiamation value using Simpson's rule is: \", S)\n",
    "print(\"The difference with true value is: \", S - Val)"
   ]
  },
  {
   "cell_type": "markdown",
   "metadata": {},
   "source": [
    "Comparing the values of these integrals to the true analytical value of the integral, we find that Simpson's rule is more accurate."
   ]
  },
  {
   "cell_type": "markdown",
   "metadata": {},
   "source": [
    "#### Exercise 2.2"
   ]
  },
  {
   "cell_type": "code",
   "execution_count": 6,
   "metadata": {},
   "outputs": [
    {
     "data": {
      "text/html": [
       "<div>\n",
       "<style scoped>\n",
       "    .dataframe tbody tr th:only-of-type {\n",
       "        vertical-align: middle;\n",
       "    }\n",
       "\n",
       "    .dataframe tbody tr th {\n",
       "        vertical-align: top;\n",
       "    }\n",
       "\n",
       "    .dataframe thead th {\n",
       "        text-align: right;\n",
       "    }\n",
       "</style>\n",
       "<table border=\"1\" class=\"dataframe\">\n",
       "  <thead>\n",
       "    <tr style=\"text-align: right;\">\n",
       "      <th></th>\n",
       "      <th>nodes</th>\n",
       "      <th>weight</th>\n",
       "    </tr>\n",
       "  </thead>\n",
       "  <tbody>\n",
       "    <tr>\n",
       "      <th>0</th>\n",
       "      <td>-3.0</td>\n",
       "      <td>0.003467</td>\n",
       "    </tr>\n",
       "    <tr>\n",
       "      <th>1</th>\n",
       "      <td>-2.4</td>\n",
       "      <td>0.014397</td>\n",
       "    </tr>\n",
       "    <tr>\n",
       "      <th>2</th>\n",
       "      <td>-1.8</td>\n",
       "      <td>0.048943</td>\n",
       "    </tr>\n",
       "    <tr>\n",
       "      <th>3</th>\n",
       "      <td>-1.2</td>\n",
       "      <td>0.117253</td>\n",
       "    </tr>\n",
       "    <tr>\n",
       "      <th>4</th>\n",
       "      <td>-0.6</td>\n",
       "      <td>0.198028</td>\n",
       "    </tr>\n",
       "    <tr>\n",
       "      <th>5</th>\n",
       "      <td>0.0</td>\n",
       "      <td>0.235823</td>\n",
       "    </tr>\n",
       "    <tr>\n",
       "      <th>6</th>\n",
       "      <td>0.6</td>\n",
       "      <td>0.198028</td>\n",
       "    </tr>\n",
       "    <tr>\n",
       "      <th>7</th>\n",
       "      <td>1.2</td>\n",
       "      <td>0.117253</td>\n",
       "    </tr>\n",
       "    <tr>\n",
       "      <th>8</th>\n",
       "      <td>1.8</td>\n",
       "      <td>0.048943</td>\n",
       "    </tr>\n",
       "    <tr>\n",
       "      <th>9</th>\n",
       "      <td>2.4</td>\n",
       "      <td>0.014397</td>\n",
       "    </tr>\n",
       "    <tr>\n",
       "      <th>10</th>\n",
       "      <td>3.0</td>\n",
       "      <td>0.003467</td>\n",
       "    </tr>\n",
       "  </tbody>\n",
       "</table>\n",
       "</div>"
      ],
      "text/plain": [
       "    nodes    weight\n",
       "0    -3.0  0.003467\n",
       "1    -2.4  0.014397\n",
       "2    -1.8  0.048943\n",
       "3    -1.2  0.117253\n",
       "4    -0.6  0.198028\n",
       "5     0.0  0.235823\n",
       "6     0.6  0.198028\n",
       "7     1.2  0.117253\n",
       "8     1.8  0.048943\n",
       "9     2.4  0.014397\n",
       "10    3.0  0.003467"
      ]
     },
     "execution_count": 6,
     "metadata": {},
     "output_type": "execute_result"
    }
   ],
   "source": [
    "def appro_norm(mu, sigma, N, k):\n",
    "    #Calculate vector of nodes\n",
    "    z = np.linspace(mu-k*sigma, mu+k*sigma, N)\n",
    "    \n",
    "    #Initialize vector of weights\n",
    "    weight = np.zeros(N)\n",
    "    \n",
    "    #Calculate vector of weights\n",
    "    weight[0] = norm.cdf((z[0]+z[1])/2, loc=mu, scale=sigma)\n",
    "    for i in range(1, N-1):\n",
    "        weight[i] = integr_g_x(lambda x: norm.pdf(x, loc=mu, scale=sigma), (z[i-1]+z[i])/2,(z[i+1]+z[i])/2, 100000, \"Simpsons\")\n",
    "    weight[N-1] = 1-norm.cdf((z[N-2]+z[N-1])/2, loc=mu, scale=sigma)\n",
    "    n = {'nodes' : z, 'weight' : weight}\n",
    "    df = pd.DataFrame(n)\n",
    "    \n",
    "    return df\n",
    "\n",
    "df = appro_norm(0, 1, 11, 3)\n",
    "df"
   ]
  },
  {
   "cell_type": "markdown",
   "metadata": {},
   "source": [
    "#### Exercise 2.3"
   ]
  },
  {
   "cell_type": "code",
   "execution_count": 7,
   "metadata": {},
   "outputs": [
    {
     "data": {
      "text/plain": [
       "1.6639409483466545"
      ]
     },
     "execution_count": 7,
     "metadata": {},
     "output_type": "execute_result"
    }
   ],
   "source": [
    "def appro_log_norm(mu, sigma, N, k):\n",
    "    #Calculate vector of nodes\n",
    "    z = np.linspace(mu-k*sigma, mu+k*sigma, N)\n",
    "    a = np.e**z\n",
    "    \n",
    "    #Initialize vector of weights\n",
    "    weight = np.zeros(N)\n",
    "    \n",
    "    #Calculate vector of weights\n",
    "    weight[0] = norm.cdf((z[0]+z[1])/2, loc=mu, scale=sigma)\n",
    "    for i in range(1, N-1):\n",
    "        weight[i] = integr_g_x(lambda x: norm.pdf(x, loc=mu, scale=sigma), (z[i-1]+z[i])/2,(z[i+1]+z[i])/2, 100000, \"Simpsons\")\n",
    "    weight[N-1] = 1-norm.cdf((z[N-2]+z[N-1])/2, loc=mu, scale=sigma)\n",
    "    n = {'node' : a, 'weight' : weight}\n",
    "    df = pd.DataFrame(n)\n",
    "    approxiamation = sum(df[\"node\"]*df[\"weight\"])\n",
    "    return approxiamation, df\n",
    "\n",
    "appro, df = appro_log_norm(0, 1, 11, 3)\n",
    "appro"
   ]
  },
  {
   "cell_type": "code",
   "execution_count": 8,
   "metadata": {},
   "outputs": [
    {
     "data": {
      "text/html": [
       "<div>\n",
       "<style scoped>\n",
       "    .dataframe tbody tr th:only-of-type {\n",
       "        vertical-align: middle;\n",
       "    }\n",
       "\n",
       "    .dataframe tbody tr th {\n",
       "        vertical-align: top;\n",
       "    }\n",
       "\n",
       "    .dataframe thead th {\n",
       "        text-align: right;\n",
       "    }\n",
       "</style>\n",
       "<table border=\"1\" class=\"dataframe\">\n",
       "  <thead>\n",
       "    <tr style=\"text-align: right;\">\n",
       "      <th></th>\n",
       "      <th>node</th>\n",
       "      <th>weight</th>\n",
       "    </tr>\n",
       "  </thead>\n",
       "  <tbody>\n",
       "    <tr>\n",
       "      <th>0</th>\n",
       "      <td>0.049787</td>\n",
       "      <td>0.003467</td>\n",
       "    </tr>\n",
       "    <tr>\n",
       "      <th>1</th>\n",
       "      <td>0.090718</td>\n",
       "      <td>0.014397</td>\n",
       "    </tr>\n",
       "    <tr>\n",
       "      <th>2</th>\n",
       "      <td>0.165299</td>\n",
       "      <td>0.048943</td>\n",
       "    </tr>\n",
       "    <tr>\n",
       "      <th>3</th>\n",
       "      <td>0.301194</td>\n",
       "      <td>0.117253</td>\n",
       "    </tr>\n",
       "    <tr>\n",
       "      <th>4</th>\n",
       "      <td>0.548812</td>\n",
       "      <td>0.198028</td>\n",
       "    </tr>\n",
       "    <tr>\n",
       "      <th>5</th>\n",
       "      <td>1.000000</td>\n",
       "      <td>0.235823</td>\n",
       "    </tr>\n",
       "    <tr>\n",
       "      <th>6</th>\n",
       "      <td>1.822119</td>\n",
       "      <td>0.198028</td>\n",
       "    </tr>\n",
       "    <tr>\n",
       "      <th>7</th>\n",
       "      <td>3.320117</td>\n",
       "      <td>0.117253</td>\n",
       "    </tr>\n",
       "    <tr>\n",
       "      <th>8</th>\n",
       "      <td>6.049647</td>\n",
       "      <td>0.048943</td>\n",
       "    </tr>\n",
       "    <tr>\n",
       "      <th>9</th>\n",
       "      <td>11.023176</td>\n",
       "      <td>0.014397</td>\n",
       "    </tr>\n",
       "    <tr>\n",
       "      <th>10</th>\n",
       "      <td>20.085537</td>\n",
       "      <td>0.003467</td>\n",
       "    </tr>\n",
       "  </tbody>\n",
       "</table>\n",
       "</div>"
      ],
      "text/plain": [
       "         node    weight\n",
       "0    0.049787  0.003467\n",
       "1    0.090718  0.014397\n",
       "2    0.165299  0.048943\n",
       "3    0.301194  0.117253\n",
       "4    0.548812  0.198028\n",
       "5    1.000000  0.235823\n",
       "6    1.822119  0.198028\n",
       "7    3.320117  0.117253\n",
       "8    6.049647  0.048943\n",
       "9   11.023176  0.014397\n",
       "10  20.085537  0.003467"
      ]
     },
     "execution_count": 8,
     "metadata": {},
     "output_type": "execute_result"
    }
   ],
   "source": [
    "df"
   ]
  },
  {
   "cell_type": "markdown",
   "metadata": {},
   "source": [
    "#### Exercise 2.4"
   ]
  },
  {
   "cell_type": "code",
   "execution_count": 10,
   "metadata": {},
   "outputs": [
    {
     "name": "stdout",
     "output_type": "stream",
     "text": [
      "approximation of the expected value of income:  50011.429102086586\n",
      "expected value of income:  50011.08700852173\n",
      "difference between these two values:  0.34209356485371245\n"
     ]
    }
   ],
   "source": [
    "appro, df = appro_log_norm(10.5, 0.8, 1000, 8)\n",
    "EI = np.e**(10.5+0.5*(0.8**2))\n",
    "difference = abs(appro - EI)\n",
    "\n",
    "print(\"approximation of the expected value of income: \", appro)\n",
    "print(\"expected value of income: \", EI)\n",
    "print(\"difference between these two values: \", difference)"
   ]
  },
  {
   "cell_type": "markdown",
   "metadata": {},
   "source": [
    "#### Exercise 3.1"
   ]
  },
  {
   "cell_type": "code",
   "execution_count": 13,
   "metadata": {},
   "outputs": [
    {
     "name": "stdout",
     "output_type": "stream",
     "text": [
      "The result of Gaussian approximation is 4373.333333333335 and the absolute error is 1.8189894035458565e-12\n",
      "The result of Newton-Cotes approximation is 4373.33333333337 and the absolute error is 3.728928277269006e-11\n"
     ]
    }
   ],
   "source": [
    "from scipy.special.orthogonal import p_roots\n",
    "\n",
    "def gauss(f,a,b,n):\n",
    "    # Find optimal weights and nodes using p_roots\n",
    "    [node,weight] = p_roots(n)\n",
    "    # Compute weight*node and convert the limits of [a, b] to [-1,1]\n",
    "    G=0.5*(b-a)*sum(weight*f(0.5*(b-a)*node+0.5*(b+a)))\n",
    "    return G\n",
    "\n",
    "Gauss = gauss(lambda x: 0.1*x**4-1.5*x**3+0.53*x**2+2*x+1, -10, 10, 3)\n",
    "Newton = integr_g_x(lambda x: 0.1*x**4-1.5*x**3+0.53*x**2+2*x+1, -10, 10, 10000, \"Simpsons\")\n",
    "Val = 0.02*(10**5-(-10)**5)+0.53/3*(10**3-(-10)**3)+20\n",
    "print(\"The result of Gaussian approximation is\", Gauss, 'and the absolute error is', abs(Gauss - Val))\n",
    "print(\"The result of Newton-Cotes approximation is\", Newton, 'and the absolute error is', abs(Newton - Val))\n",
    "\n",
    "#Reference : https://stackoverflow.com/questions/27115917/gauss-legendre-quadrature-in-python"
   ]
  },
  {
   "cell_type": "markdown",
   "metadata": {},
   "source": [
    "Compared with the results in Exercise 2.1, Gaussian approximate is more accurate."
   ]
  },
  {
   "cell_type": "markdown",
   "metadata": {},
   "source": [
    "#### Exercise 3.2"
   ]
  },
  {
   "cell_type": "code",
   "execution_count": 14,
   "metadata": {},
   "outputs": [
    {
     "name": "stdout",
     "output_type": "stream",
     "text": [
      "The result of Python Gaussian approximate is 4373.333333333334 and the absolute error is 9.094947017729282e-13\n"
     ]
    }
   ],
   "source": [
    "from scipy import integrate\n",
    "\n",
    "GQ, err = integrate.quad(lambda x: 0.1*x**4-1.5*x**3+0.53*x**2+2*x+1, -10, 10)\n",
    "\n",
    "print(\"The result of Python Gaussian approximate is\", GQ, 'and the absolute error is', abs(GQ-Val))"
   ]
  },
  {
   "cell_type": "markdown",
   "metadata": {},
   "source": [
    "#### Exercise 4.1"
   ]
  },
  {
   "cell_type": "code",
   "execution_count": 15,
   "metadata": {},
   "outputs": [
    {
     "name": "stdout",
     "output_type": "stream",
     "text": [
      "The smallest number of random draws N is 615\n"
     ]
    }
   ],
   "source": [
    "def circle(x, y):\n",
    "        if x ** 2 + y ** 2 <= 1:\n",
    "            return 1\n",
    "        else:\n",
    "            return 0\n",
    "\n",
    "def MC(fn, omega, N):\n",
    "    counter = 0\n",
    "    xran = np.random.uniform(omega[0], omega[1], N)\n",
    "    yran = np.random.uniform(omega[2], omega[3], N)\n",
    "    \n",
    "    for i in range(N):\n",
    "        x = xran[i]\n",
    "        y = yran[i]\n",
    "        counter += fn(x, y)\n",
    "    area = (omega[1] - omega[0]) * (omega[3] - omega[2])\n",
    "    return area*counter/N\n",
    "\n",
    "np.random.seed(seed=25)\n",
    "N = 1\n",
    "while round(MC(circle, [-1, 1, -1, 1], N), 4) != 3.1415:\n",
    "    N += 1\n",
    "    \n",
    "print(\"The smallest number of random draws N is\", N)"
   ]
  },
  {
   "cell_type": "markdown",
   "metadata": {},
   "source": [
    "#### Exercise 4.2"
   ]
  },
  {
   "cell_type": "code",
   "execution_count": 16,
   "metadata": {},
   "outputs": [],
   "source": [
    "def isPrime(n):\n",
    "    '''\n",
    "    --------------------------------------------------------------------\n",
    "    This function returns a boolean indicating whether an integer n is a\n",
    "    prime number\n",
    "    --------------------------------------------------------------------\n",
    "    INPUTS:\n",
    "    n = scalar, any scalar value\n",
    "\n",
    "    OTHER FUNCTIONS AND FILES CALLED BY THIS FUNCTION: None\n",
    "\n",
    "    OBJECTS CREATED WITHIN FUNCTION:\n",
    "    i = integer in [2, sqrt(n)]\n",
    "\n",
    "    FILES CREATED BY THIS FUNCTION: None\n",
    "\n",
    "    RETURN: boolean\n",
    "    --------------------------------------------------------------------\n",
    "    '''\n",
    "    for i in range(2, int(np.sqrt(n) + 1)):\n",
    "        if n % i == 0:\n",
    "            return False\n",
    "\n",
    "    return True"
   ]
  },
  {
   "cell_type": "code",
   "execution_count": 17,
   "metadata": {},
   "outputs": [],
   "source": [
    "def primes_ascend(N, min_val=2):\n",
    "    '''\n",
    "    --------------------------------------------------------------------\n",
    "    This function generates an ordered sequence of N consecutive prime\n",
    "    numbers, the smallest of which is greater than or equal to 1 using\n",
    "    the Sieve of Eratosthenes algorithm.\n",
    "    (https://en.wikipedia.org/wiki/Sieve_of_Eratosthenes)\n",
    "    --------------------------------------------------------------------\n",
    "    INPUTS:\n",
    "    N       = integer, number of elements in sequence of consecutive\n",
    "              prime numbers\n",
    "    min_val = scalar >= 2, the smallest prime number in the consecutive\n",
    "              sequence must be greater-than-or-equal-to this value\n",
    "\n",
    "    OTHER FUNCTIONS AND FILES CALLED BY THIS FUNCTION:\n",
    "        isPrime()\n",
    "\n",
    "    OBJECTS CREATED WITHIN FUNCTION:\n",
    "    primes_vec     = (N,) vector, consecutive prime numbers greater than\n",
    "                     min_val\n",
    "    MinIsEven      = boolean, =True if min_val is even, =False otherwise\n",
    "    MinIsGrtrThn2  = boolean, =True if min_val is\n",
    "                     greater-than-or-equal-to 2, =False otherwise\n",
    "    curr_prime_ind = integer >= 0, running count of prime numbers found\n",
    "\n",
    "    FILES CREATED BY THIS FUNCTION: None\n",
    "\n",
    "    RETURN: primes_vec\n",
    "    --------------------------------------------------------------------\n",
    "    '''\n",
    "    primes_vec = np.zeros(N, dtype=int)\n",
    "    MinIsEven = 1 - min_val % 2\n",
    "    MinIsGrtrThn2 = min_val > 2\n",
    "    curr_prime_ind = 0\n",
    "    if not MinIsGrtrThn2:\n",
    "        i = 2\n",
    "        curr_prime_ind += 1\n",
    "        primes_vec[0] = i\n",
    "    i = min(3, min_val + (MinIsEven * 1))\n",
    "    while curr_prime_ind < N:\n",
    "        if isPrime(i):\n",
    "            curr_prime_ind += 1\n",
    "            primes_vec[curr_prime_ind - 1] = i\n",
    "        i += 2\n",
    "\n",
    "    return primes_vec\n"
   ]
  },
  {
   "cell_type": "code",
   "execution_count": 18,
   "metadata": {},
   "outputs": [],
   "source": [
    "def equidis(n,d,Type):\n",
    "    prime = primes_ascend(d)\n",
    "    if Type == 'Weyl':\n",
    "        return list((i - i // 1) for i in np.sqrt(prime)*n)\n",
    "    elif Type == 'Haber':\n",
    "        return list((i - i // 1) for i in np.sqrt(prime)*n*(n+1)/2)\n",
    "    elif Type == 'Niederreiter':\n",
    "        return list((i - i // 1) for i in [n*(2**(j/(n+1))) for j in range(1, d+1)])\n",
    "    elif Type == 'Baker':\n",
    "        return list((i - i // 1) for i in [n*np.exp(1/j) for j in range(1, d+1)])"
   ]
  },
  {
   "cell_type": "code",
   "execution_count": 19,
   "metadata": {},
   "outputs": [
    {
     "data": {
      "text/plain": [
       "[0.142135623730951,\n",
       " 0.32050807568877104,\n",
       " 0.36067977499789805,\n",
       " 0.4575131106459054]"
      ]
     },
     "execution_count": 19,
     "metadata": {},
     "output_type": "execute_result"
    }
   ],
   "source": [
    "equidis(10, 4, 'Weyl')"
   ]
  },
  {
   "cell_type": "code",
   "execution_count": 20,
   "metadata": {},
   "outputs": [
    {
     "data": {
      "text/plain": [
       "[0.7817459305202306,\n",
       " 0.2627944162882443,\n",
       " 0.9837387624884428,\n",
       " 0.5163221085524867]"
      ]
     },
     "execution_count": 20,
     "metadata": {},
     "output_type": "execute_result"
    }
   ],
   "source": [
    "equidis(10, 4, 'Haber')"
   ]
  },
  {
   "cell_type": "code",
   "execution_count": 21,
   "metadata": {},
   "outputs": [
    {
     "data": {
      "text/plain": [
       "[0.6504108943996272,\n",
       " 0.3431252219546259,\n",
       " 0.08089444404447121,\n",
       " 0.8666489800943182]"
      ]
     },
     "execution_count": 21,
     "metadata": {},
     "output_type": "execute_result"
    }
   ],
   "source": [
    "equidis(10, 4, 'Niederreiter')"
   ]
  },
  {
   "cell_type": "code",
   "execution_count": 22,
   "metadata": {},
   "outputs": [
    {
     "data": {
      "text/plain": [
       "[0.18281828459045002,\n",
       " 0.4872127070012837,\n",
       " 0.9561242508608956,\n",
       " 0.8402541668774148]"
      ]
     },
     "execution_count": 22,
     "metadata": {},
     "output_type": "execute_result"
    }
   ],
   "source": [
    "equidis(10, 4, 'Baker')"
   ]
  },
  {
   "cell_type": "markdown",
   "metadata": {},
   "source": [
    "#### Exercise 4.3"
   ]
  },
  {
   "cell_type": "code",
   "execution_count": 23,
   "metadata": {},
   "outputs": [],
   "source": [
    "def g(x,y):\n",
    "    if x**2+y**2<1:\n",
    "        return 1 \n",
    "    else:\n",
    "        return 0\n",
    "    \n",
    "np.random.seed(25)\n",
    "def QMC(fn, omega, N, Type):\n",
    "    x1, x2=omega[0],omega[1] \n",
    "    y1, y2=omega[2],omega[3]\n",
    "    if Type=='Weyl':\n",
    "        xran=[2*np.array(equidis(i,2,'Weyl'))[0]-1 for i in range(N)] \n",
    "        yran=[2*np.array(equidis(i,2,'Weyl'))[1]-1 for i in range(N)]\n",
    "    elif Type=='Haber': \n",
    "        xran=[2*np.array(equidis(i,2,'Haber'))[0]-1 for i in range(N)] \n",
    "        yran=[2*np.array(equidis(i,2,'Haber'))[1]-1 for i in range(N)]\n",
    "    elif Type=='Niederreiter': \n",
    "        xran=[2*np.array(equidis(i,2,'Niederreiter'))[0]-1 for i in range(N)]\n",
    "        yran=[2*np.array(equidis(i,2,'Niederreiter'))[1]-1 for i in range(N)] \n",
    "    elif Type=='Baker':\n",
    "        xran=[2*np.array(equidis(i,2,'Baker'))[0]-1 for i in range(N)]\n",
    "        yran=[2*np.array(equidis(i,2,'Baker'))[1]-1 for i in range(N)]\n",
    "    counter = 0\n",
    "    for i in range(N):\n",
    "        x = xran[i]\n",
    "        y = yran[i]\n",
    "        counter += fn(x, y)\n",
    "    area = (omega[1] - omega[0])*(omega[3] - omega[2])\n",
    "    return area*counter/N"
   ]
  },
  {
   "cell_type": "code",
   "execution_count": 24,
   "metadata": {},
   "outputs": [
    {
     "name": "stdout",
     "output_type": "stream",
     "text": [
      "The smallest number of random draws N with Weyl sequence is 1230\n"
     ]
    }
   ],
   "source": [
    "def f(x, y):\n",
    "        if x ** 2 + y ** 2 <= 1:\n",
    "            return 1\n",
    "        else:\n",
    "            return 0\n",
    "\n",
    "\n",
    "N = 1\n",
    "while round(QMC(f, [-1, 1, -1, 1], N, \"Weyl\"),4) != 3.1415:\n",
    "    N += 1\n",
    "print(\"The smallest number of random draws N with Weyl sequence is\", N)"
   ]
  },
  {
   "cell_type": "code",
   "execution_count": 25,
   "metadata": {},
   "outputs": [
    {
     "name": "stdout",
     "output_type": "stream",
     "text": [
      "The smallest number of random draws N with Haber sequence is 2064\n"
     ]
    }
   ],
   "source": [
    "N = 1\n",
    "while round(QMC(f, [-1, 1, -1, 1], N, \"Haber\"),4) != 3.1415:\n",
    "    N += 1\n",
    "    \n",
    "print(\"The smallest number of random draws N with Haber sequence is\", N)"
   ]
  },
  {
   "cell_type": "code",
   "execution_count": 27,
   "metadata": {},
   "outputs": [
    {
     "name": "stdout",
     "output_type": "stream",
     "text": [
      "The smallest number of random draws N with Niederreiter sequence exceeds 5000.\n"
     ]
    }
   ],
   "source": [
    "N = 1\n",
    "while round(QMC(f, [-1, 1, -1, 1], N, \"Niederreiter\"),4) != 3.1415:\n",
    "    N += 1\n",
    "    if N > 5000:\n",
    "        print(\"The smallest number of random draws N with Niederreiter sequence exceeds 5000.\")\n",
    "        break\n",
    "else:\n",
    "    print(\"The smallest number of random draws N with Niederreiter sequence is\", N)"
   ]
  },
  {
   "cell_type": "code",
   "execution_count": 29,
   "metadata": {},
   "outputs": [
    {
     "name": "stdout",
     "output_type": "stream",
     "text": [
      "The smallest number of random draws N with Baker sequence is 205\n"
     ]
    }
   ],
   "source": [
    "N = 1\n",
    "while round(QMC(f, [-1, 1, -1, 1], N, \"Baker\"),4) != 3.1415:\n",
    "    N += 1\n",
    "    \n",
    "print(\"The smallest number of random draws N with Baker sequence is\", N)"
   ]
  },
  {
   "cell_type": "markdown",
   "metadata": {},
   "source": [
    "From the above results, we can see that Baker sequence is the fastest one to converge to 3.1415, Weyl sequence is the second one, Haber sequence is the third one and Niederreiter sequence is the slowest one."
   ]
  },
  {
   "cell_type": "code",
   "execution_count": null,
   "metadata": {},
   "outputs": [],
   "source": []
  }
 ],
 "metadata": {
  "kernelspec": {
   "display_name": "Python 3",
   "language": "python",
   "name": "python3"
  },
  "language_info": {
   "codemirror_mode": {
    "name": "ipython",
    "version": 3
   },
   "file_extension": ".py",
   "mimetype": "text/x-python",
   "name": "python",
   "nbconvert_exporter": "python",
   "pygments_lexer": "ipython3",
   "version": "3.6.8"
  }
 },
 "nbformat": 4,
 "nbformat_minor": 2
}
